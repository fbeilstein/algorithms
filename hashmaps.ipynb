{
  "nbformat": 4,
  "nbformat_minor": 0,
  "metadata": {
    "colab": {
      "name": "hashmaps.ipynb",
      "provenance": [],
      "authorship_tag": "ABX9TyMA1MUmx7YqR+4wPdHbG9fn",
      "include_colab_link": true
    },
    "kernelspec": {
      "name": "python3",
      "display_name": "Python 3"
    },
    "language_info": {
      "name": "python"
    }
  },
  "cells": [
    {
      "cell_type": "markdown",
      "metadata": {
        "id": "view-in-github",
        "colab_type": "text"
      },
      "source": [
        "<a href=\"https://colab.research.google.com/github/fbeilstein/algorithms/blob/master/hashmaps.ipynb\" target=\"_parent\"><img src=\"https://colab.research.google.com/assets/colab-badge.svg\" alt=\"Open In Colab\"/></a>"
      ]
    },
    {
      "cell_type": "markdown",
      "metadata": {
        "id": "Mz9BIQcxtFym"
      },
      "source": [
        "* **hash table** maps keys to values (dictionary in Python, std::unordered_map in C++)\n",
        "* keys should be hashable\n",
        "* **hash function** maps int argument to fixed range of integers"
      ]
    },
    {
      "cell_type": "code",
      "metadata": {
        "id": "mtpYrszkF_Iq",
        "outputId": "7daabf33-590a-43f3-910d-62ce61154395",
        "colab": {
          "base_uri": "https://localhost:8080/"
        }
      },
      "source": [
        "print(\"yo\")"
      ],
      "execution_count": 1,
      "outputs": [
        {
          "output_type": "stream",
          "name": "stdout",
          "text": [
            "yo\n"
          ]
        }
      ]
    },
    {
      "cell_type": "code",
      "metadata": {
        "id": "jL86rAOAJs_d"
      },
      "source": [
        ""
      ],
      "execution_count": null,
      "outputs": []
    }
  ]
}