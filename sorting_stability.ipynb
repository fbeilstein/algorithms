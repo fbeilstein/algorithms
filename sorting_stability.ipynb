{
  "nbformat": 4,
  "nbformat_minor": 0,
  "metadata": {
    "colab": {
      "name": "sorting_stability.ipynb",
      "provenance": [],
      "authorship_tag": "ABX9TyO32sdzSFDysxFmWrQ6zA+2",
      "include_colab_link": true
    },
    "kernelspec": {
      "name": "python3",
      "display_name": "Python 3"
    },
    "language_info": {
      "name": "python"
    }
  },
  "cells": [
    {
      "cell_type": "markdown",
      "metadata": {
        "id": "view-in-github",
        "colab_type": "text"
      },
      "source": [
        "<a href=\"https://colab.research.google.com/github/fbeilstein/algorithms/blob/master/sorting_stability.ipynb\" target=\"_parent\"><img src=\"https://colab.research.google.com/assets/colab-badge.svg\" alt=\"Open In Colab\"/></a>"
      ]
    },
    {
      "cell_type": "code",
      "execution_count": null,
      "metadata": {
        "colab": {
          "base_uri": "https://localhost:8080/"
        },
        "id": "tsyIKuFiBJL5",
        "outputId": "9381493e-ee9f-4591-f25d-5c20140b3be9"
      },
      "outputs": [
        {
          "output_type": "stream",
          "name": "stdout",
          "text": [
            "sorting stability\n"
          ]
        }
      ],
      "source": [
        "print(\"sorting stability\")"
      ]
    },
    {
      "cell_type": "code",
      "source": [
        "arr = [3, 14, 1, 10, 3, 2]\n",
        "\n",
        "for i in range(len(arr)):\n",
        "  for j in range(len(arr)):\n",
        "    if arr[i] < arr[j]:\n",
        "      arr[i], arr[j] = arr[j], arr[i]\n",
        "\n",
        "print(arr)"
      ],
      "metadata": {
        "id": "U4zuGeaXKS_N",
        "outputId": "18ee4eb6-c8bd-4122-b583-60a21807ed0e",
        "colab": {
          "base_uri": "https://localhost:8080/"
        }
      },
      "execution_count": 1,
      "outputs": [
        {
          "output_type": "stream",
          "name": "stdout",
          "text": [
            "[1, 2, 3, 3, 10, 14]\n"
          ]
        }
      ]
    }
  ]
}