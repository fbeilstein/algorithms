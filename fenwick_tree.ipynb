{
  "nbformat": 4,
  "nbformat_minor": 0,
  "metadata": {
    "colab": {
      "name": "fenwick_tree.ipynb",
      "provenance": [],
      "authorship_tag": "ABX9TyPPdk4tv7DVibxYVaDhFcge",
      "include_colab_link": true
    },
    "kernelspec": {
      "name": "python3",
      "display_name": "Python 3"
    }
  },
  "cells": [
    {
      "cell_type": "markdown",
      "metadata": {
        "id": "view-in-github",
        "colab_type": "text"
      },
      "source": [
        "<a href=\"https://colab.research.google.com/github/fbeilstein/algorithms/blob/main/fenwick_tree.ipynb\" target=\"_parent\"><img src=\"https://colab.research.google.com/assets/colab-badge.svg\" alt=\"Open In Colab\"/></a>"
      ]
    },
    {
      "cell_type": "markdown",
      "metadata": {
        "id": "F7z-hEN_qG82"
      },
      "source": [
        "More implementations at [GeeksForGeeks](https://www.geeksforgeeks.org/binary-indexed-tree-or-fenwick-tree-2/)"
      ]
    },
    {
      "cell_type": "code",
      "metadata": {
        "colab": {
          "base_uri": "https://localhost:8080/"
        },
        "id": "47qcsncFp5iw",
        "outputId": "7f4b5e9e-f60b-4d1d-9835-d9123eba2eab"
      },
      "source": [
        "# Python implementation of Binary Indexed Tree \n",
        "  \n",
        "# Returns sum of arr[0..index]. This function assumes \n",
        "# that the array is preprocessed and partial sums of \n",
        "# array elements are stored in BITree[]. \n",
        "def getsum(BITTree,i): \n",
        "    s = 0 #initialize result \n",
        "  \n",
        "    # index in BITree[] is 1 more than the index in arr[] \n",
        "    i = i+1\n",
        "  \n",
        "    # Traverse ancestors of BITree[index] \n",
        "    while i > 0: \n",
        "  \n",
        "        # Add current element of BITree to sum \n",
        "        s += BITTree[i] \n",
        "  \n",
        "        # Move index to parent node in getSum View \n",
        "        i -= i & (-i) \n",
        "    return s \n",
        "  \n",
        "# Updates a node in Binary Index Tree (BITree) at given index \n",
        "# in BITree. The given value 'val' is added to BITree[i] and \n",
        "# all of its ancestors in tree. \n",
        "def updatebit(BITTree , n , i ,v): \n",
        "  \n",
        "    # index in BITree[] is 1 more than the index in arr[] \n",
        "    i += 1\n",
        "  \n",
        "    # Traverse all ancestors and add 'val' \n",
        "    while i <= n: \n",
        "  \n",
        "        # Add 'val' to current node of BI Tree \n",
        "        BITTree[i] += v \n",
        "  \n",
        "        # Update index to that of parent in update View \n",
        "        i += i & (-i) \n",
        "  \n",
        "  \n",
        "# Constructs and returns a Binary Indexed Tree for given \n",
        "# array of size n. \n",
        "def construct(arr, n): \n",
        "  \n",
        "    # Create and initialize BITree[] as 0 \n",
        "    BITTree = [0]*(n+1) \n",
        "  \n",
        "    # Store the actual values in BITree[] using update() \n",
        "    for i in range(n): \n",
        "        updatebit(BITTree, n, i, arr[i]) \n",
        "  \n",
        "    # Uncomment below lines to see contents of BITree[] \n",
        "    #for i in range(1,n+1): \n",
        "    #     print BITTree[i], \n",
        "    return BITTree \n",
        "  \n",
        "  \n",
        "# Driver code to test above methods \n",
        "freq = [2, 1, 1, 3, 2, 3, 4, 5, 6, 7, 8, 9] \n",
        "BITTree = construct(freq,len(freq)) \n",
        "print(\"Sum of elements in arr[0..5] is \" + str(getsum(BITTree,5))) \n",
        "freq[3] += 6\n",
        "updatebit(BITTree, len(freq), 3, 6) \n",
        "print(\"Sum of elements in arr[0..5]\"+\n",
        "                    \" after update is \" + str(getsum(BITTree,5))) "
      ],
      "execution_count": 1,
      "outputs": [
        {
          "output_type": "stream",
          "text": [
            "Sum of elements in arr[0..5] is 12\n",
            "Sum of elements in arr[0..5] after update is 18\n"
          ],
          "name": "stdout"
        }
      ]
    }
  ]
}