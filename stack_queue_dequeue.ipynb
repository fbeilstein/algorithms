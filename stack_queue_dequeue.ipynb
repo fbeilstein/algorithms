{
  "nbformat": 4,
  "nbformat_minor": 0,
  "metadata": {
    "colab": {
      "name": "stack_queue_dequeue.ipynb",
      "provenance": [],
      "authorship_tag": "ABX9TyPmZBaEXDZh69rkf30oMUzx",
      "include_colab_link": true
    },
    "kernelspec": {
      "name": "python3",
      "display_name": "Python 3"
    },
    "language_info": {
      "name": "python"
    }
  },
  "cells": [
    {
      "cell_type": "markdown",
      "metadata": {
        "id": "view-in-github",
        "colab_type": "text"
      },
      "source": [
        "<a href=\"https://colab.research.google.com/github/fbeilstein/algorithms/blob/master/stack_queue_dequeue.ipynb\" target=\"_parent\"><img src=\"https://colab.research.google.com/assets/colab-badge.svg\" alt=\"Open In Colab\"/></a>"
      ]
    },
    {
      "cell_type": "code",
      "metadata": {
        "colab": {
          "base_uri": "https://localhost:8080/"
        },
        "id": "POhzxlbFRfbr",
        "outputId": "9a9d0779-09e3-4a50-bd11-d33f1b0b9dcd"
      },
      "source": [
        "from collections import deque\n",
        "\n",
        "cache = deque()\n",
        "cache.append(12)\n",
        "cache.append(32)\n",
        "print(cache)\n",
        "len(cache)\n",
        "#cache.pop()\n",
        "cache[-1]"
      ],
      "execution_count": 6,
      "outputs": [
        {
          "output_type": "stream",
          "name": "stdout",
          "text": [
            "deque([12, 32])\n"
          ]
        },
        {
          "output_type": "execute_result",
          "data": {
            "text/plain": [
              "32"
            ]
          },
          "metadata": {},
          "execution_count": 6
        }
      ]
    },
    {
      "cell_type": "markdown",
      "metadata": {
        "id": "VlqDziKU3vpZ"
      },
      "source": [
        "###Remove All Adjacent Duplicates in String II"
      ]
    },
    {
      "cell_type": "code",
      "metadata": {
        "id": "eUFatd1N3u9d"
      },
      "source": [
        "class Solution:\n",
        "    def removeDuplicates(self, s: str, k: int) -> str:\n",
        "        cache = deque()\n",
        "        for c in s:\n",
        "            if not cache or cache[-1][0] != c:\n",
        "                cache.append((c, 1))\n",
        "            else:\n",
        "                cache[-1] = (c, cache[-1][1] + 1)\n",
        "            if cache[-1][1] == k:\n",
        "                cache.pop()\n",
        "        result = \"\"\n",
        "        while cache:\n",
        "            c, times = cache.pop()\n",
        "            result = c*times + result\n",
        "        return result"
      ],
      "execution_count": null,
      "outputs": []
    },
    {
      "cell_type": "markdown",
      "source": [
        "##Binary Tree Inorder Traversal"
      ],
      "metadata": {
        "id": "dHec0FmirDRE"
      }
    },
    {
      "cell_type": "markdown",
      "source": [
        "Depth First Traversals: \n",
        "* Inorder (Left, Root, Right)\n",
        "* Preorder (Root, Left, Right)\n",
        "* Postorder (Left, Right, Root)"
      ],
      "metadata": {
        "id": "aiF4dsPcrINn"
      }
    },
    {
      "cell_type": "code",
      "source": [
        "# Definition for a binary tree node.\n",
        "# class TreeNode:\n",
        "#     def __init__(self, val=0, left=None, right=None):\n",
        "#         self.val = val\n",
        "#         self.left = left\n",
        "#         self.right = right\n",
        "class Solution:\n",
        "    def inorderTraversal(self, root: Optional[TreeNode]) -> List[int]:\n",
        "        stack = deque()\n",
        "        result = []\n",
        "        while root or stack:\n",
        "            while root: \n",
        "                stack.append(root)\n",
        "                root = root.left\n",
        "            root = stack.pop()\n",
        "            result.append(root.val)\n",
        "            root = root.right\n",
        "        return result\n",
        "    "
      ],
      "metadata": {
        "id": "pZa51k1YrYHL"
      },
      "execution_count": null,
      "outputs": []
    },
    {
      "cell_type": "markdown",
      "source": [
        "##Valid Parentheses"
      ],
      "metadata": {
        "id": "W3EUJ5ZLPIly"
      }
    },
    {
      "cell_type": "code",
      "source": [
        "class Solution:\n",
        "    def isValid(self, s: str) -> bool:\n",
        "        stack = deque()\n",
        "        const_open = ['(', '[', '{']\n",
        "        const_closed = [')', ']', '}']\n",
        "        converter = {'(': ')', '[': ']', '{': '}'}\n",
        "        for ch in s:\n",
        "            if ch in const_open: stack.append(converter[ch])\n",
        "            if ch in const_closed:\n",
        "                if not stack or ch != stack.pop(): return False\n",
        "        return not stack\n",
        "        "
      ],
      "metadata": {
        "id": "iPor8eM9PGTT"
      },
      "execution_count": null,
      "outputs": []
    },
    {
      "cell_type": "markdown",
      "source": [
        "##Implement Stack using Queues"
      ],
      "metadata": {
        "id": "NQBoVdrdV2nq"
      }
    },
    {
      "cell_type": "code",
      "source": [
        "class MyStack:\n",
        "    def __init__(self):\n",
        "        self.queue_1 = deque()\n",
        "        self.queue_2 = deque()\n",
        "        self.active_1 = True\n",
        "\n",
        "    def push(self, x: int) -> None:\n",
        "        self.active_1 = not self.active_1\n",
        "        active, cache = (self.queue_1, self.queue_2) if self.active_1 else (self.queue_2, self.queue_1)\n",
        "        active.append(x)\n",
        "        while cache:\n",
        "            active.append(cache.popleft())\n",
        "        \n",
        "    def pop(self) -> int:\n",
        "        return self.queue_1.popleft() if self.active_1 else self.queue_2.popleft()\n",
        "\n",
        "    def top(self) -> int:\n",
        "        return self.queue_1[0] if self.active_1 else self.queue_2[0]\n",
        "\n",
        "    def empty(self) -> bool:\n",
        "        return not self.queue_1 and not self.queue_2\n",
        "\n",
        "\n",
        "# Your MyStack object will be instantiated and called as such:\n",
        "# obj = MyStack()\n",
        "# obj.push(x)\n",
        "# param_2 = obj.pop()\n",
        "# param_3 = obj.top()\n",
        "# param_4 = obj.empty()"
      ],
      "metadata": {
        "id": "sCUPFAlXVt4-"
      },
      "execution_count": null,
      "outputs": []
    },
    {
      "cell_type": "markdown",
      "source": [
        "##Implement Queue using Stacks"
      ],
      "metadata": {
        "id": "poHLYB09V4ow"
      }
    },
    {
      "cell_type": "code",
      "source": [
        "class MyQueue:\n",
        "\n",
        "    def __init__(self):\n",
        "        self.stack_in = deque()\n",
        "        self.stack_out = deque()\n",
        "\n",
        "    def push(self, x: int) -> None:\n",
        "        self.stack_in.append(x)\n",
        "\n",
        "    def pop(self) -> int:\n",
        "        if self.stack_out:\n",
        "            return self.stack_out.pop()\n",
        "        while self.stack_in:\n",
        "            self.stack_out.append(self.stack_in.pop())\n",
        "        return self.stack_out.pop()\n",
        "\n",
        "    def peek(self) -> int:\n",
        "        if self.stack_out:\n",
        "            return self.stack_out[-1]\n",
        "        while self.stack_in:\n",
        "            self.stack_out.append(self.stack_in.pop())\n",
        "        return self.stack_out[-1]\n",
        "\n",
        "    def empty(self) -> bool:\n",
        "        return not self.stack_out and not self.stack_in\n",
        "\n",
        "\n",
        "# Your MyQueue object will be instantiated and called as such:\n",
        "# obj = MyQueue()\n",
        "# obj.push(x)\n",
        "# param_2 = obj.pop()\n",
        "# param_3 = obj.peek()\n",
        "# param_4 = obj.empty()"
      ],
      "metadata": {
        "id": "zKvaKysuVux5"
      },
      "execution_count": null,
      "outputs": []
    },
    {
      "cell_type": "markdown",
      "source": [
        "##Next Greater Element II"
      ],
      "metadata": {
        "id": "V1KkfrHd7-7r"
      }
    },
    {
      "cell_type": "code",
      "source": [
        "class Solution:\n",
        "    def nextGreaterElements(self, nums: List[int]) -> List[int]:\n",
        "        result = [None] * len(nums)\n",
        "        stack = deque()\n",
        "        idx = len(nums) - 1\n",
        "        for idx in range(len(nums)-1, -len(nums), -1):\n",
        "            while stack and stack[-1] <= nums[idx]:\n",
        "                stack.pop()\n",
        "            result[idx] = stack[-1] if stack else -1\n",
        "            stack.append(nums[idx])\n",
        "\n",
        "        return result"
      ],
      "metadata": {
        "id": "aGxFlCpZ7-dL"
      },
      "execution_count": null,
      "outputs": []
    },
    {
      "cell_type": "markdown",
      "source": [
        "##Maximum Width Ramp"
      ],
      "metadata": {
        "id": "UY-c78iBSFc6"
      }
    },
    {
      "cell_type": "code",
      "source": [
        "class Solution:\n",
        "    def maxWidthRamp(self, nums: List[int]) -> int:\n",
        "        stack = deque()\n",
        "        stack.append([nums[0], 0])\n",
        "        result = 0\n",
        "        for idx, n in enumerate(nums):\n",
        "            if n < stack[-1][0]:\n",
        "                stack.append([n, idx])\n",
        "        for idx, n in enumerate(nums[::-1]):\n",
        "            while stack and n >= stack[-1][0]:\n",
        "                result = max(result, len(nums) - idx - 1 - stack[-1][1])\n",
        "                stack.pop()\n",
        "        return result"
      ],
      "metadata": {
        "id": "GcoSG5OeSE5i"
      },
      "execution_count": null,
      "outputs": []
    }
  ]
}