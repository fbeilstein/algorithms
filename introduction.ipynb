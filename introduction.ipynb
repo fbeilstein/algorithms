{
  "nbformat": 4,
  "nbformat_minor": 0,
  "metadata": {
    "colab": {
      "name": "introduction.ipynb",
      "provenance": [],
      "authorship_tag": "ABX9TyMqUyglSBfoufi2EVu/GXe9",
      "include_colab_link": true
    },
    "kernelspec": {
      "name": "python3",
      "display_name": "Python 3"
    }
  },
  "cells": [
    {
      "cell_type": "markdown",
      "metadata": {
        "id": "view-in-github",
        "colab_type": "text"
      },
      "source": [
        "<a href=\"https://colab.research.google.com/github/fbeilstein/algorithms/blob/master/introduction.ipynb\" target=\"_parent\"><img src=\"https://colab.research.google.com/assets/colab-badge.svg\" alt=\"Open In Colab\"/></a>"
      ]
    },
    {
      "cell_type": "markdown",
      "metadata": {
        "id": "f-WraOpdLK1I"
      },
      "source": [
        "**Leetcode problems for demonstration**\n",
        "\n",
        "|problem | solution | comment |\n",
        "|---|---|---|\n",
        "[1641. Count Sorted Vowel Strings](https://leetcode.com/problems/count-sorted-vowel-strings/) | [Solution](https://leetcode.com/problems/count-sorted-vowel-strings/discuss/939122/3-solutions-with-pictures/789862) | Different approaches to the same problem\n",
        "[238. Product of Array Except Self](https://leetcode.com/problems/product-of-array-except-self/) | none | Get idea by drawing picture of particular solution\n",
        "[42. Trapping Rain Water](https://leetcode.com/problems/trapping-rain-water/) | none | Idea by introducing constraints\n",
        "[11. Container With Most Water](https://leetcode.com/problems/container-with-most-water/) | none | best matching"
      ]
    },
    {
      "cell_type": "code",
      "metadata": {
        "id": "7zk5ijzSK58h"
      },
      "source": [
        ""
      ],
      "execution_count": null,
      "outputs": []
    }
  ]
}