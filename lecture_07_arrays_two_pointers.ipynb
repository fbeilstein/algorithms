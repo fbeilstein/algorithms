{
  "nbformat": 4,
  "nbformat_minor": 0,
  "metadata": {
    "colab": {
      "provenance": [],
      "include_colab_link": true
    },
    "kernelspec": {
      "name": "python3",
      "display_name": "Python 3"
    },
    "language_info": {
      "name": "python"
    }
  },
  "cells": [
    {
      "cell_type": "markdown",
      "metadata": {
        "id": "view-in-github",
        "colab_type": "text"
      },
      "source": [
        "<a href=\"https://colab.research.google.com/github/fbeilstein/algorithms/blob/master/lecture_07_arrays_two_pointers.ipynb\" target=\"_parent\"><img src=\"https://colab.research.google.com/assets/colab-badge.svg\" alt=\"Open In Colab\"/></a>"
      ]
    },
    {
      "cell_type": "markdown",
      "source": [
        "monotonic stack"
      ],
      "metadata": {
        "id": "kTqilA-v99b7"
      }
    },
    {
      "cell_type": "markdown",
      "source": [
        "https://leetcode.com/problems/maximum-length-of-semi-decreasing-subarrays/discuss/4095832/max.-stack\n",
        "\n",
        "https://leetcode.com/problems/132-pattern/discuss/3320446/2-solutions\n",
        "\n",
        "https://leetcode.com/problems/increasing-triplet-subsequence/discuss/3815274/explained-with-pictures\n",
        "\n",
        "https://leetcode.com/problems/next-greater-element-ii/"
      ],
      "metadata": {
        "id": "nWmxqzPV-RC5"
      }
    }
  ]
}