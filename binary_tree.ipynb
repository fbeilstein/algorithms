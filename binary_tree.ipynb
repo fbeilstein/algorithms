{
  "nbformat": 4,
  "nbformat_minor": 0,
  "metadata": {
    "colab": {
      "name": "binary_tree.ipynb",
      "provenance": [],
      "authorship_tag": "ABX9TyPHWaabKjZoM3GsZRyTFyJO",
      "include_colab_link": true
    },
    "kernelspec": {
      "name": "python3",
      "display_name": "Python 3"
    },
    "language_info": {
      "name": "python"
    }
  },
  "cells": [
    {
      "cell_type": "markdown",
      "metadata": {
        "id": "view-in-github",
        "colab_type": "text"
      },
      "source": [
        "<a href=\"https://colab.research.google.com/github/fbeilstein/algorithms/blob/master/binary_tree.ipynb\" target=\"_parent\"><img src=\"https://colab.research.google.com/assets/colab-badge.svg\" alt=\"Open In Colab\"/></a>"
      ]
    },
    {
      "cell_type": "markdown",
      "metadata": {
        "id": "YxoOnWGN9HL2"
      },
      "source": [
        "##Problems"
      ]
    },
    {
      "cell_type": "markdown",
      "metadata": {
        "id": "FnYstSg49JaE"
      },
      "source": [
        "###Diameter of Binary Tree"
      ]
    },
    {
      "cell_type": "code",
      "metadata": {
        "id": "LCOi7dcn839i"
      },
      "source": [
        "# Definition for a binary tree node.\n",
        "# class TreeNode:\n",
        "#     def __init__(self, val=0, left=None, right=None):\n",
        "#         self.val = val\n",
        "#         self.left = left\n",
        "#         self.right = right\n",
        "class Solution:\n",
        "    def _diameter(self, root): # result first arg\n",
        "        left  = self._diameter(root.left)  if root.left  else (0, -1)\n",
        "        right = self._diameter(root.right) if root.right else (0, -1)\n",
        "        return max(left[0], right[0], left[1] + right[1] + 2), 1 + max(left[1], right[1])\n",
        "        \n",
        "    def diameterOfBinaryTree(self, root: Optional[TreeNode]) -> int:\n",
        "        return self._diameter(root)[0]"
      ],
      "execution_count": null,
      "outputs": []
    },
    {
      "cell_type": "markdown",
      "metadata": {
        "id": "m5XZl7anTIes"
      },
      "source": [
        "###Sum Root to Leaf Numbers"
      ]
    },
    {
      "cell_type": "markdown",
      "metadata": {
        "id": "XW-KhvewTom0"
      },
      "source": [
        "![](https://assets.leetcode.com/users/images/ac7c74df-4741-41ba-bf03-9af192f5a569_1613241564.5360203.png)\n",
        "\n",
        "![](https://assets.leetcode.com/users/images/d2977d2b-0064-41b3-aca5-0006037bc926_1613243518.8830612.png)\n",
        "\n",
        "![](https://assets.leetcode.com/users/images/30e7fdcb-44b0-47e5-a052-e8f3ef7298e2_1613243658.6578772.png)"
      ]
    },
    {
      "cell_type": "code",
      "metadata": {
        "id": "7JI-g6WOTHv_"
      },
      "source": [
        "# Definition for a binary tree node.\n",
        "# class TreeNode:\n",
        "#     def __init__(self, val=0, left=None, right=None):\n",
        "#         self.val = val\n",
        "#         self.left = left\n",
        "#         self.right = right\n",
        "class Solution:\n",
        "    def _helper(self, root, num):\n",
        "        cur_num = num * 10 + root.val\n",
        "        if not root.left and not root.right:\n",
        "            return cur_num\n",
        "        sum_1 = self._helper(root.left, cur_num)  if root.left  else 0\n",
        "        sum_2 = self._helper(root.right, cur_num) if root.right else 0\n",
        "        return sum_1 + sum_2\n",
        "        \n",
        "    def sumNumbers(self, root: Optional[TreeNode]) -> int:\n",
        "        return self._helper(root, 0)\n",
        "        \n",
        "        "
      ],
      "execution_count": null,
      "outputs": []
    },
    {
      "cell_type": "markdown",
      "metadata": {
        "id": "bf-IM3QVQbpe"
      },
      "source": [
        "###Sum of Left Leaves"
      ]
    },
    {
      "cell_type": "code",
      "metadata": {
        "id": "9mNnCH2rQcC8"
      },
      "source": [
        "# Definition for a binary tree node.\n",
        "# class TreeNode:\n",
        "#     def __init__(self, val=0, left=None, right=None):\n",
        "#         self.val = val\n",
        "#         self.left = left\n",
        "#         self.right = right\n",
        "class Solution:\n",
        "    def sumOfLeftLeaves(self, root: Optional[TreeNode], mult=0) -> int:\n",
        "        if not root: return 0;\n",
        "        if not (root.left or root.right): return root.val * mult;\n",
        "        return self.sumOfLeftLeaves(root.left, 1) + self.sumOfLeftLeaves(root.right, 0)\n",
        "        "
      ],
      "execution_count": null,
      "outputs": []
    },
    {
      "cell_type": "code",
      "metadata": {
        "id": "0XrCqzj_Q7b0"
      },
      "source": [
        "# Definition for a binary tree node.\n",
        "# class TreeNode:\n",
        "#     def __init__(self, val=0, left=None, right=None):\n",
        "#         self.val = val\n",
        "#         self.left = left\n",
        "#         self.right = right\n",
        "class Solution:\n",
        "    def sumOfLeftLeaves(self, root: Optional[TreeNode]) -> int:\n",
        "        if not root: return 0;\n",
        "        sum = root.left.val if root.left and not root.left.left and not root.left.right else 0\n",
        "        return sum + self.sumOfLeftLeaves(root.left, 1) + self.sumOfLeftLeaves(root.right, 0)\n",
        "        "
      ],
      "execution_count": null,
      "outputs": []
    },
    {
      "cell_type": "markdown",
      "metadata": {
        "id": "tNfnYX_3a8Eg"
      },
      "source": [
        "###Range Sum of BST"
      ]
    },
    {
      "cell_type": "code",
      "metadata": {
        "id": "dxMRQ4lBa7bb"
      },
      "source": [
        "# Definition for a binary tree node.\n",
        "# class TreeNode:\n",
        "#     def __init__(self, val=0, left=None, right=None):\n",
        "#         self.val = val\n",
        "#         self.left = left\n",
        "#         self.right = right\n",
        "class Solution:\n",
        "    def rangeSumBST(self, root: Optional[TreeNode], low: int, high: int) -> int:\n",
        "        if not root: return 0;\n",
        "        sum  = root.val if root and low <= root.val <= high else 0\n",
        "        sum += self.rangeSumBST(root.left, low, high)  if root.val >= low else 0\n",
        "        sum += self.rangeSumBST(root.right, low, high) if root.val <= high else 0\n",
        "        return sum\n",
        "        \n",
        "        "
      ],
      "execution_count": null,
      "outputs": []
    },
    {
      "cell_type": "markdown",
      "metadata": {
        "id": "YT0W-JzmcpUg"
      },
      "source": [
        "###Maximum Depth of Binary Tree"
      ]
    },
    {
      "cell_type": "code",
      "metadata": {
        "id": "dFGLBUQFcmWu"
      },
      "source": [
        "# Definition for a binary tree node.\n",
        "# class TreeNode:\n",
        "#     def __init__(self, val=0, left=None, right=None):\n",
        "#         self.val = val\n",
        "#         self.left = left\n",
        "#         self.right = right\n",
        "class Solution:\n",
        "    def maxDepth(self, root: Optional[TreeNode]) -> int:\n",
        "        if not root: return 0;\n",
        "        return 1 + max(self.maxDepth(root.left), self.maxDepth(root.right))\n",
        "        "
      ],
      "execution_count": null,
      "outputs": []
    },
    {
      "cell_type": "markdown",
      "metadata": {
        "id": "9nTe2FC2yAc5"
      },
      "source": [
        "###Minimum Depth of Binary Tree"
      ]
    },
    {
      "cell_type": "markdown",
      "metadata": {
        "id": "Nhvuwx4tyD3v"
      },
      "source": [
        "![](https://assets.leetcode.com/users/images/f5a53456-38c3-4b5e-ad32-3eb465dd135d_1613248786.0766208.png)"
      ]
    },
    {
      "cell_type": "code",
      "metadata": {
        "id": "Kk97ajTKx_-u"
      },
      "source": [
        "# Definition for a binary tree node.\n",
        "# class TreeNode:\n",
        "#     def __init__(self, val=0, left=None, right=None):\n",
        "#         self.val = val\n",
        "#         self.left = left\n",
        "#         self.right = right\n",
        "class Solution:\n",
        "    def minDepth(self, root: Optional[TreeNode]) -> int:\n",
        "        if not root: return 0;\n",
        "        if root.left and root.right: return 1 + min(self.minDepth(root.left), self.minDepth(root.right));\n",
        "        return 1 + max(self.minDepth(root.left), self.minDepth(root.right))"
      ],
      "execution_count": null,
      "outputs": []
    },
    {
      "cell_type": "markdown",
      "metadata": {
        "id": "zRnVC9SSzYTq"
      },
      "source": [
        "###Invert Binary Tree"
      ]
    },
    {
      "cell_type": "code",
      "metadata": {
        "id": "9M36ePFgzXtY"
      },
      "source": [
        "# Definition for a binary tree node.\n",
        "# class TreeNode:\n",
        "#     def __init__(self, val=0, left=None, right=None):\n",
        "#         self.val = val\n",
        "#         self.left = left\n",
        "#         self.right = right\n",
        "class Solution:\n",
        "    def invertTree(self, root: Optional[TreeNode]) -> Optional[TreeNode]:\n",
        "        if not root: return;\n",
        "        root.left, root.right = root.right, root.left\n",
        "        self.invertTree(root.left)\n",
        "        self.invertTree(root.right)\n",
        "        return root\n",
        "        \n",
        "        "
      ],
      "execution_count": null,
      "outputs": []
    },
    {
      "cell_type": "markdown",
      "metadata": {
        "id": "PQBq9ix75ao0"
      },
      "source": [
        "###Univalued Binary Tree"
      ]
    },
    {
      "cell_type": "code",
      "metadata": {
        "id": "UJsLJiGN5aFd"
      },
      "source": [
        "# Definition for a binary tree node.\n",
        "# class TreeNode:\n",
        "#     def __init__(self, val=0, left=None, right=None):\n",
        "#         self.val = val\n",
        "#         self.left = left\n",
        "#         self.right = right\n",
        "class Solution:\n",
        "    def isUnivalTree(self, root: Optional[TreeNode]) -> bool:\n",
        "        if not root: return True;\n",
        "        is_unival = True\n",
        "        if root.left: is_unival = is_unival and (root.val == root.left.val) and self.isUnivalTree(root.left);\n",
        "        if root.right: is_unival = is_unival and (root.val == root.right.val) and self.isUnivalTree(root.right);\n",
        "        return is_unival"
      ],
      "execution_count": null,
      "outputs": []
    },
    {
      "cell_type": "markdown",
      "metadata": {
        "id": "TAhFR_V-7iC2"
      },
      "source": [
        "###Same Tree"
      ]
    },
    {
      "cell_type": "code",
      "metadata": {
        "id": "Wz16Z_ux7hn2"
      },
      "source": [
        "# Definition for a binary tree node.\n",
        "# class TreeNode:\n",
        "#     def __init__(self, val=0, left=None, right=None):\n",
        "#         self.val = val\n",
        "#         self.left = left\n",
        "#         self.right = right\n",
        "class Solution:\n",
        "    def isSameTree(self, p: Optional[TreeNode], q: Optional[TreeNode]) -> bool:\n",
        "        if not (p or q): return True;\n",
        "        if (p and not q) or (q and not p): return False;\n",
        "        return (p.val == q.val) and self.isSameTree(p.left, q.left) and self.isSameTree(p.right, q.right)"
      ],
      "execution_count": null,
      "outputs": []
    },
    {
      "cell_type": "markdown",
      "metadata": {
        "id": "psl0_D7z82-h"
      },
      "source": [
        "###Symmetric Tree"
      ]
    },
    {
      "cell_type": "code",
      "metadata": {
        "id": "0QaImVtl82Pz"
      },
      "source": [
        "# Definition for a binary tree node.\n",
        "# class TreeNode:\n",
        "#     def __init__(self, val=0, left=None, right=None):\n",
        "#         self.val = val\n",
        "#         self.left = left\n",
        "#         self.right = right\n",
        "class Solution:\n",
        "    def helper(self, tree_l, tree_r):\n",
        "        if not (tree_r or tree_l): return True\n",
        "        if (tree_r and not tree_l) or (tree_l and not tree_r): return False;\n",
        "        return ((tree_r.val == tree_l.val) and\n",
        "                self.helper(tree_l.left, tree_r.right) and\n",
        "                self.helper(tree_l.right, tree_r.left))\n",
        "    \n",
        "    def isSymmetric(self, root: Optional[TreeNode]) -> bool:\n",
        "        if not root: return True;\n",
        "        return self.helper(root.left, root.right)"
      ],
      "execution_count": null,
      "outputs": []
    },
    {
      "cell_type": "markdown",
      "metadata": {
        "id": "AXy_sB-qelC8"
      },
      "source": [
        "###Binary Tree Tilt"
      ]
    },
    {
      "cell_type": "code",
      "metadata": {
        "id": "kHb509AKeklD"
      },
      "source": [
        "# Definition for a binary tree node.\n",
        "# class TreeNode:\n",
        "#     def __init__(self, val=0, left=None, right=None):\n",
        "#         self.val = val\n",
        "#         self.left = left\n",
        "#         self.right = right\n",
        "class Solution:\n",
        "    def helper(self, root):\n",
        "        left_sum,  left_tilt  = self.helper(root.left)  if root.left  else (0, 0)\n",
        "        right_sum, right_tilt = self.helper(root.right) if root.right else (0, 0)\n",
        "        return left_sum + right_sum + root.val, left_tilt + right_tilt + abs(left_sum - right_sum)\n",
        "    \n",
        "    def findTilt(self, root: Optional[TreeNode]) -> int:\n",
        "        if not root: return 0;\n",
        "        return self.helper(root)[1]\n",
        "        "
      ],
      "execution_count": null,
      "outputs": []
    },
    {
      "cell_type": "markdown",
      "metadata": {
        "id": "a_rJKtB5jsNC"
      },
      "source": [
        "###Path In Zigzag Labelled Binary Tree"
      ]
    },
    {
      "cell_type": "code",
      "metadata": {
        "id": "Lok3Vio0jrjW"
      },
      "source": [
        "class Solution:\n",
        "    def pathInZigZagTree(self, label: int) -> List[int]:\n",
        "        pow_2 = 2**int(math.log(label, 2))\n",
        "        result = []\n",
        "        while label:\n",
        "            result = [label] + result\n",
        "            label  = (label ^ (pow_2 - 1)) // 2\n",
        "            pow_2  = pow_2 // 2\n",
        "        return result"
      ],
      "execution_count": null,
      "outputs": []
    }
  ]
}