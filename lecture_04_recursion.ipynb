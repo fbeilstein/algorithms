{
  "nbformat": 4,
  "nbformat_minor": 0,
  "metadata": {
    "colab": {
      "provenance": [],
      "include_colab_link": true
    },
    "kernelspec": {
      "name": "python3",
      "display_name": "Python 3"
    },
    "language_info": {
      "name": "python"
    }
  },
  "cells": [
    {
      "cell_type": "markdown",
      "metadata": {
        "id": "view-in-github",
        "colab_type": "text"
      },
      "source": [
        "<a href=\"https://colab.research.google.com/github/fbeilstein/algorithms/blob/master/lecture_04_recursion.ipynb\" target=\"_parent\"><img src=\"https://colab.research.google.com/assets/colab-badge.svg\" alt=\"Open In Colab\"/></a>"
      ]
    },
    {
      "cell_type": "code",
      "source": [
        "# Euclid algortihm\n",
        "def gcd(a, b) :\n",
        "  if not b : return a\n",
        "  return gcd(b, a%b)\n",
        "\n",
        "gcd(24,42)"
      ],
      "metadata": {
        "id": "lF5bHaCsgva0",
        "outputId": "bef4a384-cb1e-47ad-8774-b90f09f9f8cd",
        "colab": {
          "base_uri": "https://localhost:8080/"
        }
      },
      "execution_count": 16,
      "outputs": [
        {
          "output_type": "execute_result",
          "data": {
            "text/plain": [
              "6"
            ]
          },
          "metadata": {},
          "execution_count": 16
        }
      ]
    },
    {
      "cell_type": "code",
      "source": [
        "# factorial\n",
        "def f(n) :\n",
        "  if n==0 : return 1\n",
        "  return n*f(n-1)\n",
        "\n",
        "  f(5)"
      ],
      "metadata": {
        "id": "oDQ3p00HhkB3"
      },
      "execution_count": 18,
      "outputs": []
    },
    {
      "cell_type": "code",
      "source": [
        "# sum\n",
        "def sum(n) :\n",
        "  if not n : return 0\n",
        "  return n[-1] + sum(n[:-1])\n",
        "\n",
        "sum([1,2,3])"
      ],
      "metadata": {
        "id": "cy-8XoE2hl88",
        "outputId": "31b398d6-66c4-44e1-f484-d9f6a9acc3d4",
        "colab": {
          "base_uri": "https://localhost:8080/"
        }
      },
      "execution_count": 19,
      "outputs": [
        {
          "output_type": "execute_result",
          "data": {
            "text/plain": [
              "6"
            ]
          },
          "metadata": {},
          "execution_count": 19
        }
      ]
    },
    {
      "cell_type": "code",
      "source": [
        "# fibonacci\n",
        "def fib(n) :\n",
        "  if n==0 or n==1 : return 1\n",
        "  return fib(n-1)+fib(n-2)\n",
        "\n",
        "fib(4)"
      ],
      "metadata": {
        "id": "1uN1wc33hyac",
        "outputId": "6e7aeeb4-82f3-4b4e-cbf4-5d4b0f4dae97",
        "colab": {
          "base_uri": "https://localhost:8080/"
        }
      },
      "execution_count": 23,
      "outputs": [
        {
          "output_type": "execute_result",
          "data": {
            "text/plain": [
              "5"
            ]
          },
          "metadata": {},
          "execution_count": 23
        }
      ]
    },
    {
      "cell_type": "code",
      "source": [
        "# binomial coefficient\n",
        "def c(n, k) :\n",
        "  if k==0 or n==k : return 1\n",
        "  return c(n-1, k-1)+c(n-1, k)\n"
      ],
      "metadata": {
        "id": "91Hwf6FQkAn0",
        "outputId": "be347ac7-2535-4048-ae75-b7b64df337f4",
        "colab": {
          "base_uri": "https://localhost:8080/"
        }
      },
      "execution_count": 25,
      "outputs": [
        {
          "output_type": "execute_result",
          "data": {
            "text/plain": [
              "(1, 5, 10, 10, 5, 1)"
            ]
          },
          "metadata": {},
          "execution_count": 25
        }
      ]
    },
    {
      "cell_type": "code",
      "source": [
        "# mergesort"
      ],
      "metadata": {
        "id": "QWZXXjG4pllV"
      },
      "execution_count": null,
      "outputs": []
    },
    {
      "cell_type": "code",
      "source": [
        "# quicksort"
      ],
      "metadata": {
        "id": "8dnU4HaGpoBk"
      },
      "execution_count": null,
      "outputs": []
    },
    {
      "cell_type": "markdown",
      "source": [
        "tail recursion vs not tail recursion"
      ],
      "metadata": {
        "id": "eGOOqRlxaup-"
      }
    },
    {
      "cell_type": "code",
      "execution_count": 26,
      "metadata": {
        "id": "GM5_UV1ATnLT",
        "outputId": "a740544a-6453-4953-bfd0-8e2c6a21c2c8",
        "colab": {
          "base_uri": "https://localhost:8080/"
        }
      },
      "outputs": [
        {
          "output_type": "execute_result",
          "data": {
            "text/plain": [
              "(120, 120)"
            ]
          },
          "metadata": {},
          "execution_count": 26
        }
      ],
      "source": [
        "def f(n):\n",
        "  if n==0: return 1\n",
        "  return n * f(n-1)\n",
        "\n",
        "def g(n, acc=1):\n",
        "  if n==0: return acc\n",
        "  return g(n-1, acc*n)\n",
        "\n",
        "f(5), g(5)"
      ]
    },
    {
      "cell_type": "code",
      "source": [
        "%timeit f(500)"
      ],
      "metadata": {
        "id": "YZS8Yxgzp33G",
        "outputId": "deadd7f6-7d26-491e-aad3-6df772cf2eb9",
        "colab": {
          "base_uri": "https://localhost:8080/"
        }
      },
      "execution_count": 30,
      "outputs": [
        {
          "output_type": "stream",
          "name": "stdout",
          "text": [
            "150 µs ± 44.9 µs per loop (mean ± std. dev. of 7 runs, 10000 loops each)\n"
          ]
        }
      ]
    },
    {
      "cell_type": "code",
      "source": [
        "%timeit g(500)"
      ],
      "metadata": {
        "id": "E-ZEteSAp_d4",
        "outputId": "42132e40-e33b-45d3-b812-d9f47e18e701",
        "colab": {
          "base_uri": "https://localhost:8080/"
        }
      },
      "execution_count": 31,
      "outputs": [
        {
          "output_type": "stream",
          "name": "stdout",
          "text": [
            "168 µs ± 35 µs per loop (mean ± std. dev. of 7 runs, 10000 loops each)\n"
          ]
        }
      ]
    },
    {
      "cell_type": "code",
      "source": [
        "def sum(n) :\n",
        "  if not n : return 0\n",
        "  return n[-1] + sum(n[:-1])\n",
        "\n",
        "\n",
        "def sum1(n, acc=0) :\n",
        "  if not n : return acc\n",
        "  return sum1(n[:-1], acc+n[-1])\n",
        "\n",
        "sum([1,2,3])\n",
        "sum1([1,2,3])"
      ],
      "metadata": {
        "id": "9W2W23IYa6fC",
        "outputId": "d23e58e8-36ca-4af8-9248-372c812df654",
        "colab": {
          "base_uri": "https://localhost:8080/"
        }
      },
      "execution_count": 11,
      "outputs": [
        {
          "output_type": "execute_result",
          "data": {
            "text/plain": [
              "6"
            ]
          },
          "metadata": {},
          "execution_count": 11
        }
      ]
    },
    {
      "cell_type": "markdown",
      "source": [
        "Call stack"
      ],
      "metadata": {
        "id": "P4haNBG5qvUR"
      }
    },
    {
      "cell_type": "markdown",
      "source": [
        "Binary tree"
      ],
      "metadata": {
        "id": "2Z1NairUr6RR"
      }
    }
  ]
}