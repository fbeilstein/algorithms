{
  "nbformat": 4,
  "nbformat_minor": 0,
  "metadata": {
    "colab": {
      "provenance": [],
      "authorship_tag": "ABX9TyOJN/Ji6IDi8bOOI3n8DnB2",
      "include_colab_link": true
    },
    "kernelspec": {
      "name": "python3",
      "display_name": "Python 3"
    },
    "language_info": {
      "name": "python"
    },
    "widgets": {
      "application/vnd.jupyter.widget-state+json": {
        "a7fc5333e46f4b8380048de324fff8e6": {
          "model_module": "@jupyter-widgets/controls",
          "model_name": "IntProgressModel",
          "model_module_version": "1.5.0",
          "state": {
            "_dom_classes": [],
            "_model_module": "@jupyter-widgets/controls",
            "_model_module_version": "1.5.0",
            "_model_name": "IntProgressModel",
            "_view_count": null,
            "_view_module": "@jupyter-widgets/controls",
            "_view_module_version": "1.5.0",
            "_view_name": "ProgressView",
            "bar_style": "",
            "description": "",
            "description_tooltip": null,
            "layout": "IPY_MODEL_86233efba112493da2dee16799814d09",
            "max": 144,
            "min": 0,
            "orientation": "horizontal",
            "style": "IPY_MODEL_b6f3b5ee8cde41ffb656f11d7059c8a6",
            "value": 144
          }
        },
        "86233efba112493da2dee16799814d09": {
          "model_module": "@jupyter-widgets/base",
          "model_name": "LayoutModel",
          "model_module_version": "1.2.0",
          "state": {
            "_model_module": "@jupyter-widgets/base",
            "_model_module_version": "1.2.0",
            "_model_name": "LayoutModel",
            "_view_count": null,
            "_view_module": "@jupyter-widgets/base",
            "_view_module_version": "1.2.0",
            "_view_name": "LayoutView",
            "align_content": null,
            "align_items": null,
            "align_self": null,
            "border": null,
            "bottom": null,
            "display": null,
            "flex": null,
            "flex_flow": null,
            "grid_area": null,
            "grid_auto_columns": null,
            "grid_auto_flow": null,
            "grid_auto_rows": null,
            "grid_column": null,
            "grid_gap": null,
            "grid_row": null,
            "grid_template_areas": null,
            "grid_template_columns": null,
            "grid_template_rows": null,
            "height": null,
            "justify_content": null,
            "justify_items": null,
            "left": null,
            "margin": null,
            "max_height": null,
            "max_width": null,
            "min_height": null,
            "min_width": null,
            "object_fit": null,
            "object_position": null,
            "order": null,
            "overflow": null,
            "overflow_x": null,
            "overflow_y": null,
            "padding": null,
            "right": null,
            "top": null,
            "visibility": null,
            "width": null
          }
        },
        "b6f3b5ee8cde41ffb656f11d7059c8a6": {
          "model_module": "@jupyter-widgets/controls",
          "model_name": "ProgressStyleModel",
          "model_module_version": "1.5.0",
          "state": {
            "_model_module": "@jupyter-widgets/controls",
            "_model_module_version": "1.5.0",
            "_model_name": "ProgressStyleModel",
            "_view_count": null,
            "_view_module": "@jupyter-widgets/base",
            "_view_module_version": "1.2.0",
            "_view_name": "StyleView",
            "bar_color": null,
            "description_width": ""
          }
        },
        "1b302385bedf4b278f422ac81a13f89c": {
          "model_module": "@jupyter-widgets/controls",
          "model_name": "HBoxModel",
          "model_module_version": "1.5.0",
          "state": {
            "_dom_classes": [],
            "_model_module": "@jupyter-widgets/controls",
            "_model_module_version": "1.5.0",
            "_model_name": "HBoxModel",
            "_view_count": null,
            "_view_module": "@jupyter-widgets/controls",
            "_view_module_version": "1.5.0",
            "_view_name": "HBoxView",
            "box_style": "",
            "children": [
              "IPY_MODEL_92c79ae7cafe40f89a353567c1d2dc46",
              "IPY_MODEL_84b371ff93dd4bb9ae622578e9789d97"
            ],
            "layout": "IPY_MODEL_1561bd1783384206b97673f72f076036"
          }
        },
        "92c79ae7cafe40f89a353567c1d2dc46": {
          "model_module": "@jupyter-widgets/controls",
          "model_name": "DropdownModel",
          "model_module_version": "1.5.0",
          "state": {
            "_dom_classes": [],
            "_model_module": "@jupyter-widgets/controls",
            "_model_module_version": "1.5.0",
            "_model_name": "DropdownModel",
            "_options_labels": [
              "0",
              "1",
              "2"
            ],
            "_view_count": null,
            "_view_module": "@jupyter-widgets/controls",
            "_view_module_version": "1.5.0",
            "_view_name": "DropdownView",
            "description": "dimension",
            "description_tooltip": null,
            "disabled": false,
            "index": 1,
            "layout": "IPY_MODEL_0266d69e453646eb927b5e5f81069fd3",
            "style": "IPY_MODEL_cd3a807c2a514f28aba188c75ba98e4d"
          }
        },
        "84b371ff93dd4bb9ae622578e9789d97": {
          "model_module": "@jupyter-widgets/controls",
          "model_name": "DropdownModel",
          "model_module_version": "1.5.0",
          "state": {
            "_dom_classes": [],
            "_model_module": "@jupyter-widgets/controls",
            "_model_module_version": "1.5.0",
            "_model_name": "DropdownModel",
            "_options_labels": [
              "5",
              "6",
              "7",
              "8",
              "9",
              "10"
            ],
            "_view_count": null,
            "_view_module": "@jupyter-widgets/controls",
            "_view_module_version": "1.5.0",
            "_view_name": "DropdownView",
            "description": "sigma8*10",
            "description_tooltip": null,
            "disabled": false,
            "index": 0,
            "layout": "IPY_MODEL_40c57d34fc46413681d4fc2a75b559e8",
            "style": "IPY_MODEL_6f9f747d5b3d4e2680d61eae840dfea1"
          }
        },
        "1561bd1783384206b97673f72f076036": {
          "model_module": "@jupyter-widgets/base",
          "model_name": "LayoutModel",
          "model_module_version": "1.2.0",
          "state": {
            "_model_module": "@jupyter-widgets/base",
            "_model_module_version": "1.2.0",
            "_model_name": "LayoutModel",
            "_view_count": null,
            "_view_module": "@jupyter-widgets/base",
            "_view_module_version": "1.2.0",
            "_view_name": "LayoutView",
            "align_content": null,
            "align_items": null,
            "align_self": null,
            "border": null,
            "bottom": null,
            "display": null,
            "flex": null,
            "flex_flow": null,
            "grid_area": null,
            "grid_auto_columns": null,
            "grid_auto_flow": null,
            "grid_auto_rows": null,
            "grid_column": null,
            "grid_gap": null,
            "grid_row": null,
            "grid_template_areas": null,
            "grid_template_columns": null,
            "grid_template_rows": null,
            "height": null,
            "justify_content": null,
            "justify_items": null,
            "left": null,
            "margin": null,
            "max_height": null,
            "max_width": null,
            "min_height": null,
            "min_width": null,
            "object_fit": null,
            "object_position": null,
            "order": null,
            "overflow": null,
            "overflow_x": null,
            "overflow_y": null,
            "padding": null,
            "right": null,
            "top": null,
            "visibility": null,
            "width": null
          }
        },
        "0266d69e453646eb927b5e5f81069fd3": {
          "model_module": "@jupyter-widgets/base",
          "model_name": "LayoutModel",
          "model_module_version": "1.2.0",
          "state": {
            "_model_module": "@jupyter-widgets/base",
            "_model_module_version": "1.2.0",
            "_model_name": "LayoutModel",
            "_view_count": null,
            "_view_module": "@jupyter-widgets/base",
            "_view_module_version": "1.2.0",
            "_view_name": "LayoutView",
            "align_content": null,
            "align_items": null,
            "align_self": null,
            "border": null,
            "bottom": null,
            "display": null,
            "flex": null,
            "flex_flow": null,
            "grid_area": null,
            "grid_auto_columns": null,
            "grid_auto_flow": null,
            "grid_auto_rows": null,
            "grid_column": null,
            "grid_gap": null,
            "grid_row": null,
            "grid_template_areas": null,
            "grid_template_columns": null,
            "grid_template_rows": null,
            "height": null,
            "justify_content": null,
            "justify_items": null,
            "left": null,
            "margin": null,
            "max_height": null,
            "max_width": null,
            "min_height": null,
            "min_width": null,
            "object_fit": null,
            "object_position": null,
            "order": null,
            "overflow": null,
            "overflow_x": null,
            "overflow_y": null,
            "padding": null,
            "right": null,
            "top": null,
            "visibility": null,
            "width": null
          }
        },
        "cd3a807c2a514f28aba188c75ba98e4d": {
          "model_module": "@jupyter-widgets/controls",
          "model_name": "DescriptionStyleModel",
          "model_module_version": "1.5.0",
          "state": {
            "_model_module": "@jupyter-widgets/controls",
            "_model_module_version": "1.5.0",
            "_model_name": "DescriptionStyleModel",
            "_view_count": null,
            "_view_module": "@jupyter-widgets/base",
            "_view_module_version": "1.2.0",
            "_view_name": "StyleView",
            "description_width": ""
          }
        },
        "40c57d34fc46413681d4fc2a75b559e8": {
          "model_module": "@jupyter-widgets/base",
          "model_name": "LayoutModel",
          "model_module_version": "1.2.0",
          "state": {
            "_model_module": "@jupyter-widgets/base",
            "_model_module_version": "1.2.0",
            "_model_name": "LayoutModel",
            "_view_count": null,
            "_view_module": "@jupyter-widgets/base",
            "_view_module_version": "1.2.0",
            "_view_name": "LayoutView",
            "align_content": null,
            "align_items": null,
            "align_self": null,
            "border": null,
            "bottom": null,
            "display": null,
            "flex": null,
            "flex_flow": null,
            "grid_area": null,
            "grid_auto_columns": null,
            "grid_auto_flow": null,
            "grid_auto_rows": null,
            "grid_column": null,
            "grid_gap": null,
            "grid_row": null,
            "grid_template_areas": null,
            "grid_template_columns": null,
            "grid_template_rows": null,
            "height": null,
            "justify_content": null,
            "justify_items": null,
            "left": null,
            "margin": null,
            "max_height": null,
            "max_width": null,
            "min_height": null,
            "min_width": null,
            "object_fit": null,
            "object_position": null,
            "order": null,
            "overflow": null,
            "overflow_x": null,
            "overflow_y": null,
            "padding": null,
            "right": null,
            "top": null,
            "visibility": null,
            "width": null
          }
        },
        "6f9f747d5b3d4e2680d61eae840dfea1": {
          "model_module": "@jupyter-widgets/controls",
          "model_name": "DescriptionStyleModel",
          "model_module_version": "1.5.0",
          "state": {
            "_model_module": "@jupyter-widgets/controls",
            "_model_module_version": "1.5.0",
            "_model_name": "DescriptionStyleModel",
            "_view_count": null,
            "_view_module": "@jupyter-widgets/base",
            "_view_module_version": "1.2.0",
            "_view_name": "StyleView",
            "description_width": ""
          }
        },
        "f3858eb888ac43e2ac77620def5a6036": {
          "model_module": "@jupyter-widgets/output",
          "model_name": "OutputModel",
          "model_module_version": "1.0.0",
          "state": {
            "_dom_classes": [],
            "_model_module": "@jupyter-widgets/output",
            "_model_module_version": "1.0.0",
            "_model_name": "OutputModel",
            "_view_count": null,
            "_view_module": "@jupyter-widgets/output",
            "_view_module_version": "1.0.0",
            "_view_name": "OutputView",
            "layout": "IPY_MODEL_5b897fd4554144318622ad335a83bedc",
            "msg_id": "",
            "outputs": [
              {
                "output_type": "display_data",
                "data": {
                  "text/plain": "<Figure size 864x504 with 1 Axes>",
                  "image/png": "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\n"
                },
                "metadata": {}
              }
            ]
          }
        },
        "5b897fd4554144318622ad335a83bedc": {
          "model_module": "@jupyter-widgets/base",
          "model_name": "LayoutModel",
          "model_module_version": "1.2.0",
          "state": {
            "_model_module": "@jupyter-widgets/base",
            "_model_module_version": "1.2.0",
            "_model_name": "LayoutModel",
            "_view_count": null,
            "_view_module": "@jupyter-widgets/base",
            "_view_module_version": "1.2.0",
            "_view_name": "LayoutView",
            "align_content": null,
            "align_items": null,
            "align_self": null,
            "border": null,
            "bottom": null,
            "display": null,
            "flex": null,
            "flex_flow": null,
            "grid_area": null,
            "grid_auto_columns": null,
            "grid_auto_flow": null,
            "grid_auto_rows": null,
            "grid_column": null,
            "grid_gap": null,
            "grid_row": null,
            "grid_template_areas": null,
            "grid_template_columns": null,
            "grid_template_rows": null,
            "height": null,
            "justify_content": null,
            "justify_items": null,
            "left": null,
            "margin": null,
            "max_height": null,
            "max_width": null,
            "min_height": null,
            "min_width": null,
            "object_fit": null,
            "object_position": null,
            "order": null,
            "overflow": null,
            "overflow_x": null,
            "overflow_y": null,
            "padding": null,
            "right": null,
            "top": null,
            "visibility": null,
            "width": null
          }
        }
      }
    }
  },
  "cells": [
    {
      "cell_type": "markdown",
      "metadata": {
        "id": "view-in-github",
        "colab_type": "text"
      },
      "source": [
        "<a href=\"https://colab.research.google.com/github/fbeilstein/algorithms/blob/master/wasserstein_distance.ipynb\" target=\"_parent\"><img src=\"https://colab.research.google.com/assets/colab-badge.svg\" alt=\"Open In Colab\"/></a>"
      ]
    },
    {
      "cell_type": "code",
      "source": [
        "#@title #Download datasets\n",
        "#@markdown Run this block of code to download our dataset to Google Colab.\n",
        "#@markdown If successful this code yields \n",
        "#@markdown * folder `alldata2` containing all data for further scripts\n",
        "#@markdown * file `alldata_large.zip` -- the same data zipped; not needed for scripts, but you may want to download it to your local machine\n",
        "\n",
        "from IPython.display import clear_output\n",
        "\n",
        "files = ['alldata.zip', 'alldata.z01', 'alldata.z02', 'alldata.z03']\n",
        "print('deleting old files if exist')\n",
        "!rm -rf alldata2\n",
        "!rm -f alldata_large.zip\n",
        "for f in files:\n",
        "  !rm -f {f}\n",
        "for i,f in enumerate(files):\n",
        "  print('downloading part ', i+1, ' of ', len(files))\n",
        "  #result = !curl -s -S https://raw.githubusercontent.com/mtsizh/bottleneck-distance-for-sigma8/main/{f} > /dev/null && echo \"TRUE\"\n",
        "  result = !wget -q https://raw.githubusercontent.com/mtsizh/bottleneck-distance-for-sigma8/main/{f} && echo \"1\" || echo \"0\"\n",
        "  if result == ['1']:\n",
        "    print('OK')\n",
        "  else:\n",
        "    raise Exception(\"ERROR WHILE DOWNLOADING DATA\")\n",
        "clear_output()\n",
        "print(\"DOWNLOAD SUCCESSFUL\")\n",
        "print(\"PARTS TO ZIP\")\n",
        "result = !zip -qq -F alldata.zip --out alldata_large.zip 2>/dev/null && echo \"1\" || echo \"0\"\n",
        "if result == ['1']:\n",
        "  print('OK')\n",
        "else:\n",
        "  raise Exception(\"ERROR WHILE CREATING LARGE ZIP\")\n",
        "print(\"UNZIPPING\")\n",
        "result = !unzip -o -qq alldata_large.zip 2>/dev/null && echo \"1\" || echo \"0\"\n",
        "if result == ['1']:\n",
        "  print('OK')\n",
        "else:\n",
        "  raise Exception(\"ERROR WHILE UNZIPPING\")\n",
        "print('cleaning')\n",
        "for f in files:\n",
        "  !rm -f {f}\n",
        "clear_output()\n",
        "print(\"ALL DATA DOWNLOADED AND UNPACKED\")"
      ],
      "metadata": {
        "cellView": "form",
        "id": "SzMIc6iSgdh2"
      },
      "execution_count": null,
      "outputs": []
    },
    {
      "cell_type": "markdown",
      "source": [
        "install gudhi library with the following code"
      ],
      "metadata": {
        "id": "jb2DFHrD_1O5"
      }
    },
    {
      "cell_type": "code",
      "source": [
        "!pip install gudhi"
      ],
      "metadata": {
        "id": "18noI2tO_0CC"
      },
      "execution_count": null,
      "outputs": []
    },
    {
      "cell_type": "markdown",
      "source": [
        "The following code calculates persistence intervals. Results are saved as `persistence.json` file. Computations are lengthy, please wait until the progressbar reaches 100%. For your convenience `persistence.json.zip` is created so that you can download intermediate data to your computer."
      ],
      "metadata": {
        "id": "ReBsh2qSMj13"
      }
    },
    {
      "cell_type": "code",
      "source": [
        "#@markdown Folder with data (should be ok by default)\n",
        "root_folder = \"./alldata2\" #@param {type: \"string\"}\n",
        "#@markdown Choose mass filtering in % (0 to 100)\n",
        "remove_masses_lower_than = 0  #@param {type: \"slider\", min: 0, max: 100}\n",
        "remove_masses_higher_than = 100  #@param {type: \"slider\", min: 0, max: 100}\n",
        "#@markdown Choose random filtering in % (0 to 100)\n",
        "bootstrap_percent = 100  #@param {type: \"slider\", min: 0, max: 100}\n",
        "#@markdown File to save results, use JSON only! (should be ok by default)\n",
        "save_to = \"persistence.json\" #@param {type: \"string\"}\n",
        "\n",
        "if remove_masses_higher_than <= remove_masses_lower_than:\n",
        "  raise Exception(\"Upper masses limit should be larger then the lower limit\")\n",
        "\n",
        "import os\n",
        "from glob import glob\n",
        "import re\n",
        "import numpy as np\n",
        "import pandas as pd\n",
        "import gudhi\n",
        "from ipywidgets import IntProgress\n",
        "from IPython import display\n",
        "\n",
        "\n",
        "def read_all_data(filename, bootstrap_percent=100, mass_filter=[0, 100]):\n",
        "  df = pd.read_csv(filename, sep=r'\\t', header=None, engine ='python')\n",
        "  df.drop(df.columns.difference([0,1,2,3]), axis=1, inplace=True)\n",
        "  df.rename(columns={0:'x', 1:'y', 2:'z', 3:'m'}, inplace=True)\n",
        "  min_m = df['m'].quantile(mass_filter[0]/100)\n",
        "  max_m = df['m'].quantile(mass_filter[1]/100)\n",
        "  df = df[df['m'].between(min_m, max_m)]\n",
        "  df.drop(['m'], axis=1, inplace=True)\n",
        "  all_arr = df.to_numpy()\n",
        "  return all_arr[np.random.choice(all_arr.shape[0], replace=False,\n",
        "                           size=all_arr.shape[0]*bootstrap_percent//100)]\n",
        "\n",
        "def get_persistence_intervals(point_set, dim):\n",
        "  alpha_complex = gudhi.AlphaComplex(points=point_set)\n",
        "  simplex_tree = alpha_complex.create_simplex_tree(default_filtration_value=False)\n",
        "  simplex_tree.compute_persistence()\n",
        "  persistence_intervals = simplex_tree.persistence_intervals_in_dimension(dim)\n",
        "  return persistence_intervals\n",
        "\n",
        "dat_files = [y for x in os.walk(root_folder) for y in glob(os.path.join(x[0], '*.dat'))]\n",
        "reg_expr = '.*\\/([0-9]+)groups_([0-9]+)_new.dat'\n",
        "parsed = [{'filename': f, \n",
        "           'sigma': int(re.match(reg_expr, f).group(1)), \n",
        "           'red_shift': int(re.match(reg_expr, f).group(2))\n",
        "           } for f in dat_files]\n",
        "all_data = pd.DataFrame(columns=[\"sigma8*10\", \"red_shift\", \"dimension\", \"born\", \"persists\"])\n",
        "\n",
        "bar = IntProgress(min=0, max=len(parsed))\n",
        "bar.value = 0\n",
        "display.display(bar)\n",
        "\n",
        "for f in parsed:\n",
        "  data = read_all_data(f['filename'], bootstrap_percent, \n",
        "                       [remove_masses_lower_than, remove_masses_higher_than])\n",
        "  for dim in [0, 1, 2]:\n",
        "    I = get_persistence_intervals(data, dim)\n",
        "    df = {'sigma8*10': f['sigma'], \n",
        "          'red_shift': f['red_shift'], \n",
        "          'dimension': dim,\n",
        "          'born': I[:,0].tolist(),\n",
        "          'dies': I[:,1].tolist(),\n",
        "          'persists': (I[:,1] - I[:,0]).tolist()}\n",
        "    all_data = all_data.append(df, ignore_index = True)\n",
        "  bar.value += 1 \n",
        "\n",
        "data = all_data.groupby(['sigma8*10', 'red_shift', 'dimension']).agg(lambda x: sum(list(x), [])).reset_index()\n",
        "data.to_json(save_to)\n",
        "print(\"JSON creation complete!\")\n",
        "\n",
        "result =!zip -qq -r {save_to}.zip {save_to} 2>/dev/null && echo \"1\" || echo \"0\"\n",
        "if result == ['1']:\n",
        "  print('zipped')\n",
        "else:\n",
        "  raise Exception(\"ERROR WHILE CREATING LARGE ZIP\")"
      ],
      "metadata": {
        "id": "VO_MTMmMrAV9",
        "colab": {
          "base_uri": "https://localhost:8080/",
          "height": 85,
          "referenced_widgets": [
            "a7fc5333e46f4b8380048de324fff8e6",
            "86233efba112493da2dee16799814d09",
            "b6f3b5ee8cde41ffb656f11d7059c8a6"
          ]
        },
        "outputId": "8c95e7a1-cd90-46a9-e27d-576ff6844253"
      },
      "execution_count": 3,
      "outputs": [
        {
          "output_type": "display_data",
          "data": {
            "text/plain": [
              "IntProgress(value=0, max=144)"
            ],
            "application/vnd.jupyter.widget-view+json": {
              "version_major": 2,
              "version_minor": 0,
              "model_id": "a7fc5333e46f4b8380048de324fff8e6"
            }
          },
          "metadata": {}
        },
        {
          "output_type": "stream",
          "name": "stdout",
          "text": [
            "JSON creation complete!\n",
            "zipped\n"
          ]
        }
      ]
    },
    {
      "cell_type": "markdown",
      "source": [
        "The following code visualizes results of the previous calculation."
      ],
      "metadata": {
        "id": "_XMnGMJ_3lGf"
      }
    },
    {
      "cell_type": "code",
      "source": [
        "#@markdown File to load data (should be ok by default)\n",
        "read_from = \"persistence.json\" #@param {type: \"string\"}\n",
        "\n",
        "\n",
        "import pandas as pd\n",
        "import matplotlib.pyplot as plt\n",
        "import numpy as np\n",
        "import seaborn as sns\n",
        "sns.set_style(\"whitegrid\")\n",
        "\n",
        "df = pd.read_json(read_from)\n",
        "\n",
        "\n",
        "def plot_by_params(dim, sig):\n",
        "  plt.figure(figsize=(12,7))\n",
        "  sns.set_context(\"notebook\", font_scale=1.5)\n",
        "\n",
        "  plt.title(\"$\\sigma_8 = \"+str(sig/10)+\" $, dimension: \"+str(dim))\n",
        "  plt.xlabel(\"Birth\")\n",
        "  plt.ylabel(\"Persistence\")\n",
        "\n",
        "  pick_df = df[(df['sigma8*10'] == sig) & (df['dimension'] == dim)]\n",
        "  r_shifts = pick_df['red_shift'].unique()\n",
        "  cmap = plt.cm.get_cmap('plasma')\n",
        "\n",
        "  for idx,red_shift in enumerate(r_shifts):\n",
        "    X = np.array(pick_df[pick_df['red_shift'] == red_shift]['born'].values[0])\n",
        "    Y = np.array(pick_df[pick_df['red_shift'] == red_shift]['persists'].values[0])\n",
        "    plt.scatter(X, Y, color=cmap(idx/len(r_shifts)), label=\"red shift: \"+str(red_shift))\n",
        "\n",
        "  plt.legend()\n",
        "  plt.show()\n",
        "  \n",
        "\n",
        "import ipywidgets as widgets\n",
        "\n",
        "def make_widget(field):\n",
        "  return widgets.Dropdown(\n",
        "    options=df[field].unique(),\n",
        "    #value='2',\n",
        "    description=field,\n",
        "    disabled=False,\n",
        "  )\n",
        "\n",
        "from ipywidgets import interactive_output\n",
        "\n",
        "w = [make_widget(field) for field in ['dimension', 'sigma8*10']]\n",
        "ui = widgets.HBox(w)\n",
        "out = widgets.interactive_output(plot_by_params, {'dim': w[0], \n",
        "                                                  'sig': w[1]})\n",
        "display.display(ui, out)"
      ],
      "metadata": {
        "colab": {
          "base_uri": "https://localhost:8080/",
          "height": 515,
          "referenced_widgets": [
            "1b302385bedf4b278f422ac81a13f89c",
            "92c79ae7cafe40f89a353567c1d2dc46",
            "84b371ff93dd4bb9ae622578e9789d97",
            "1561bd1783384206b97673f72f076036",
            "0266d69e453646eb927b5e5f81069fd3",
            "cd3a807c2a514f28aba188c75ba98e4d",
            "40c57d34fc46413681d4fc2a75b559e8",
            "6f9f747d5b3d4e2680d61eae840dfea1",
            "f3858eb888ac43e2ac77620def5a6036",
            "5b897fd4554144318622ad335a83bedc"
          ]
        },
        "id": "yDTn2wfXN14I",
        "outputId": "bfd24033-930c-4a15-b7a9-64cb120ee196"
      },
      "execution_count": 28,
      "outputs": [
        {
          "output_type": "display_data",
          "data": {
            "text/plain": [
              "HBox(children=(Dropdown(description='dimension', options=(0, 1, 2), value=0), Dropdown(description='sigma8*10'…"
            ],
            "application/vnd.jupyter.widget-view+json": {
              "version_major": 2,
              "version_minor": 0,
              "model_id": "1b302385bedf4b278f422ac81a13f89c"
            }
          },
          "metadata": {}
        },
        {
          "output_type": "display_data",
          "data": {
            "text/plain": [
              "Output()"
            ],
            "application/vnd.jupyter.widget-view+json": {
              "version_major": 2,
              "version_minor": 0,
              "model_id": "f3858eb888ac43e2ac77620def5a6036"
            }
          },
          "metadata": {}
        }
      ]
    }
  ]
}