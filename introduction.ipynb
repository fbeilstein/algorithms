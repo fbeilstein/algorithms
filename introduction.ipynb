{
  "nbformat": 4,
  "nbformat_minor": 0,
  "metadata": {
    "colab": {
      "name": "introduction.ipynb",
      "provenance": [],
      "authorship_tag": "ABX9TyOtYLXMsd8/wIcVIOKZo03e",
      "include_colab_link": true
    },
    "kernelspec": {
      "name": "python3",
      "display_name": "Python 3"
    }
  },
  "cells": [
    {
      "cell_type": "markdown",
      "metadata": {
        "id": "view-in-github",
        "colab_type": "text"
      },
      "source": [
        "<a href=\"https://colab.research.google.com/github/fbeilstein/algorithms/blob/master/introduction.ipynb\" target=\"_parent\"><img src=\"https://colab.research.google.com/assets/colab-badge.svg\" alt=\"Open In Colab\"/></a>"
      ]
    },
    {
      "cell_type": "markdown",
      "metadata": {
        "id": "f-WraOpdLK1I"
      },
      "source": [
        "**Leetcode problems for demonstration**\n",
        "\n",
        "|problem | solution | comment |\n",
        "|---|---|---|\n",
        "[1641. Count Sorted Vowel Strings](https://leetcode.com/problems/count-sorted-vowel-strings/) | [Solution](https://leetcode.com/problems/count-sorted-vowel-strings/discuss/939122/3-solutions-with-pictures/789862) | Different approaches to the same problem\n",
        "[238. Product of Array Except Self](https://leetcode.com/problems/product-of-array-except-self/) | none | Get idea by drawing picture of particular solution\n",
        "[42. Trapping Rain Water](https://leetcode.com/problems/trapping-rain-water/) | none | Idea by introducing constraints\n",
        "[11. Container With Most Water](https://leetcode.com/problems/container-with-most-water/) | none | best matching"
      ]
    },
    {
      "cell_type": "markdown",
      "metadata": {
        "id": "doAqbCHh3kTG"
      },
      "source": [
        "**Family of Bachmann–Landau notations**\n",
        "\n",
        "| Notation | Name | Description | Formal Definition | Limit Definition |\n",
        "| --- | --- | --- | --- | --- |\n",
        "| $f(n) = O(g(n))$ | Big O; Big Oh; Big Omicron | $|f|$ is bounded above by $g$ (up to constant factor) asymptotically | $\\exists k > 0  \\exists n_0  \\forall n>n_0\\colon  |f(n)| \\leq k\\cdot g(n)$ | $\\limsup_{n \\to \\infty} \\frac{\\left|f(n)\\right|}{g(n)} < \\infty$ |\n",
        "| $f(n) = \\Theta(g(n))$ | Big Theta | $f$ is bounded both above and below by $g$ asymptotically | $\\exists k_1 > 0  \\exists k_2>0  \\exists n_0  \\forall n > n_0\\colon$  $k_1 \\cdot g(n) \\leq f(n) \\leq k_2 \\cdot g(n)$ | $f(n) = O(g(n)) \\text{ and } f(n) = \\Omega(g(n)) \\text{ (Knuth version)}$ |\n",
        "| $f(n) = \\Omega(g(n))$ | Big Omega in complexity theory (Knuth) | $f$ is bounded below by $g$ asymptotically | $\\exists k > 0  \\exists n_0  \\forall  n>n_0\\colon   f(n) \\geq k\\cdot g(n)$ | $\\liminf_{n \\to \\infty} \\frac{f(n)}{g(n)} > 0 $|\n",
        "| $f(n) = o(g(n))$ | Small O; Small Oh | $f$ is dominated by $g$ asymptotically | $\\forall k>0  \\exists n_0  \\forall n > n_0\\colon  |f(n)| < k\\cdot g(n)$ | $\\lim_{n \\to \\infty} \\frac{\\left|f(n)\\right|}{g(n)} = 0$ |\n",
        "| $f(n)\\sim g(n)$ | On the order of | $f$ is equal to $g$ asymptotically | $\\forall \\varepsilon > 0 \\exists n_0\\forall n > n_0\\colon \\left| \\frac{f(n)}{g(n)} - 1 \\right|  < \\varepsilon$ | $\\lim_{n \\to \\infty} \\frac{f(n)}{g(n)} = 1$ |\n",
        "| $f(n) = \\omega(g(n))$ | Small Omega | $f$ dominates $g$ asymptotically | $\\forall k > 0 \\exists n_0 \\forall n > n_0 \\colon  |f(n)| > k\\cdot |g(n)|$ | $\\lim_{n \\to \\infty} \\frac{\\left|f(n)\\right|}{g(n)} = \\infty$ |\n",
        "| $f(n) = \\Omega(g(n))$ | Big Omega in number theory (Hardy–Littlewood) | $|f|$ is not dominated by $g$ asymptotically | $\\exists k>0 \\forall n_0 \\exists n > n_0\\colon |f(n)| \\geq k\\cdot g(n)$ | $\\limsup_{n \\to \\infty} \\frac{\\left|f(n)\\right|}{g(n)} > 0 $ |"
      ]
    },
    {
      "cell_type": "code",
      "metadata": {
        "id": "7zk5ijzSK58h"
      },
      "source": [
        ""
      ],
      "execution_count": null,
      "outputs": []
    }
  ]
}