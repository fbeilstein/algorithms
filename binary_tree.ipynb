{
  "nbformat": 4,
  "nbformat_minor": 0,
  "metadata": {
    "colab": {
      "name": "binary_tree.ipynb",
      "provenance": [],
      "authorship_tag": "ABX9TyPPWSgfL219XVHOcSFkFA/6",
      "include_colab_link": true
    },
    "kernelspec": {
      "name": "python3",
      "display_name": "Python 3"
    },
    "language_info": {
      "name": "python"
    }
  },
  "cells": [
    {
      "cell_type": "markdown",
      "metadata": {
        "id": "view-in-github",
        "colab_type": "text"
      },
      "source": [
        "<a href=\"https://colab.research.google.com/github/fbeilstein/algorithms/blob/master/binary_tree.ipynb\" target=\"_parent\"><img src=\"https://colab.research.google.com/assets/colab-badge.svg\" alt=\"Open In Colab\"/></a>"
      ]
    },
    {
      "cell_type": "markdown",
      "metadata": {
        "id": "YxoOnWGN9HL2"
      },
      "source": [
        "##Problems"
      ]
    },
    {
      "cell_type": "markdown",
      "metadata": {
        "id": "FnYstSg49JaE"
      },
      "source": [
        "###Diameter of Binary Tree"
      ]
    },
    {
      "cell_type": "code",
      "metadata": {
        "id": "LCOi7dcn839i"
      },
      "source": [
        "# Definition for a binary tree node.\n",
        "# class TreeNode:\n",
        "#     def __init__(self, val=0, left=None, right=None):\n",
        "#         self.val = val\n",
        "#         self.left = left\n",
        "#         self.right = right\n",
        "class Solution:\n",
        "    def _diameter(self, root): # result first arg\n",
        "        left  = self._diameter(root.left)  if root.left  else (0, -1)\n",
        "        right = self._diameter(root.right) if root.right else (0, -1)\n",
        "        return max(left[0], right[0], left[1] + right[1] + 2), 1 + max(left[1], right[1])\n",
        "        \n",
        "    def diameterOfBinaryTree(self, root: Optional[TreeNode]) -> int:\n",
        "        return self._diameter(root)[0]"
      ],
      "execution_count": null,
      "outputs": []
    },
    {
      "cell_type": "markdown",
      "metadata": {
        "id": "m5XZl7anTIes"
      },
      "source": [
        "###Sum Root to Leaf Numbers"
      ]
    },
    {
      "cell_type": "code",
      "metadata": {
        "id": "7JI-g6WOTHv_"
      },
      "source": [
        "# Definition for a binary tree node.\n",
        "# class TreeNode:\n",
        "#     def __init__(self, val=0, left=None, right=None):\n",
        "#         self.val = val\n",
        "#         self.left = left\n",
        "#         self.right = right\n",
        "class Solution:\n",
        "    def _helper(self, root, num):\n",
        "        cur_num = num * 10 + root.val\n",
        "        if not root.left and not root.right:\n",
        "            return cur_num\n",
        "        sum_1 = self._helper(root.left, cur_num)  if root.left  else 0\n",
        "        sum_2 = self._helper(root.right, cur_num) if root.right else 0\n",
        "        return sum_1 + sum_2\n",
        "        \n",
        "    def sumNumbers(self, root: Optional[TreeNode]) -> int:\n",
        "        return self._helper(root, 0)\n",
        "        \n",
        "        "
      ],
      "execution_count": null,
      "outputs": []
    }
  ]
}