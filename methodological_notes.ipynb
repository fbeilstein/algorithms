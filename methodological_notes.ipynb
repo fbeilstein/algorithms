{
  "nbformat": 4,
  "nbformat_minor": 0,
  "metadata": {
    "colab": {
      "provenance": [],
      "include_colab_link": true
    },
    "kernelspec": {
      "name": "python3",
      "display_name": "Python 3"
    },
    "language_info": {
      "name": "python"
    }
  },
  "cells": [
    {
      "cell_type": "markdown",
      "metadata": {
        "id": "view-in-github",
        "colab_type": "text"
      },
      "source": [
        "<a href=\"https://colab.research.google.com/github/fbeilstein/algorithms/blob/master/methodological_notes.ipynb\" target=\"_parent\"><img src=\"https://colab.research.google.com/assets/colab-badge.svg\" alt=\"Open In Colab\"/></a>"
      ]
    },
    {
      "cell_type": "markdown",
      "source": [
        "# From Quadratic to Linear\n",
        "\n",
        "\n",
        "\n",
        "*   sliding window\n",
        "*   breathing window / two pointers\n",
        "*   Reformulation + memory hashmap\n",
        "*   dp\n",
        "\n"
      ],
      "metadata": {
        "id": "WZiSFlgPqfZk"
      }
    },
    {
      "cell_type": "markdown",
      "source": [
        "# Sliding window\n",
        "\n",
        "[2327. Number of People Aware of a Secret](https://leetcode.com/problems/number-of-people-aware-of-a-secret/discuss/3811265/sliding-window)"
      ],
      "metadata": {
        "id": "UvYqnj-cu6p-"
      }
    },
    {
      "cell_type": "markdown",
      "source": [
        "# Breathing window\n",
        "\n",
        "[1855. Maximum Distance Between a Pair of Values](https://leetcode.com/problems/maximum-distance-between-a-pair-of-values/discuss/1218846/nice-gifs)\n",
        "\n",
        "[1234. Replace the Substring for Balanced String](https://leetcode.com/problems/replace-the-substring-for-balanced-string/discuss/1366164/sliding-window/1944393)\n",
        "\n",
        "[1248. Count Number of Nice Subarrays](https://leetcode.com/problems/count-number-of-nice-subarrays/discuss/1140950/straightforward-(with-stl))\n",
        "\n",
        "[930. Binary Subarrays With Sum](https://leetcode.com/problems/binary-subarrays-with-sum/discuss/1399254/2-solutions)\n",
        "\n",
        "[904. Fruit Into Baskets](https://leetcode.com/problems/fruit-into-baskets/discuss/1358411/ok)\n",
        "\n",
        "[209. Minimum Size Subarray Sum](https://leetcode.com/problems/minimum-size-subarray-sum/discuss/1591291/2-solutions)"
      ],
      "metadata": {
        "id": "FnlCePqRwMKn"
      }
    },
    {
      "cell_type": "markdown",
      "source": [
        "# Reformulation + hash\n",
        "\n",
        "[2364. Count Number of Bad Pairs](https://leetcode.com/problems/count-number-of-bad-pairs/discuss/3803330/ok)"
      ],
      "metadata": {
        "id": "pvJ5_-dM5gs-"
      }
    },
    {
      "cell_type": "markdown",
      "source": [
        "# Dp\n",
        "\n",
        "[53. Maximum Subarray](https://leetcode.com/problems/maximum-subarray/discuss/3756791/()-Kadane's-and-()-divideandconquer)"
      ],
      "metadata": {
        "id": "K96u0oTL-apL"
      }
    }
  ]
}