{
  "nbformat": 4,
  "nbformat_minor": 0,
  "metadata": {
    "colab": {
      "name": "hashmaps.ipynb",
      "provenance": [],
      "authorship_tag": "ABX9TyODEgDvYUO9Ig3sWzQjX7Fz",
      "include_colab_link": true
    },
    "kernelspec": {
      "name": "python3",
      "display_name": "Python 3"
    },
    "language_info": {
      "name": "python"
    }
  },
  "cells": [
    {
      "cell_type": "markdown",
      "metadata": {
        "id": "view-in-github",
        "colab_type": "text"
      },
      "source": [
        "<a href=\"https://colab.research.google.com/github/fbeilstein/algorithms/blob/master/hashmaps.ipynb\" target=\"_parent\"><img src=\"https://colab.research.google.com/assets/colab-badge.svg\" alt=\"Open In Colab\"/></a>"
      ]
    },
    {
      "cell_type": "markdown",
      "metadata": {
        "id": "Mz9BIQcxtFym"
      },
      "source": [
        "* **hash table** maps keys to values (dictionary in Python, std::unordered_map in C++)\n",
        "* keys should be hashable\n",
        "* **hash function** maps int argument to fixed range of integers"
      ]
    },
    {
      "cell_type": "code",
      "metadata": {
        "id": "mtpYrszkF_Iq",
        "colab": {
          "base_uri": "https://localhost:8080/"
        },
        "outputId": "324b57c5-b555-448d-9adf-d2a5aef102d9"
      },
      "source": [
        "# Find first duplicate\n",
        "# Suppose that there can only be numbers 1 to 10\n",
        "\n",
        "input = [1,2,5,3,5,3,3,4,6,3,3,2,2,4,6,6]\n",
        "\n",
        "arr_contains = [False] * 10\n",
        "for i in input:\n",
        "  if arr_contains[i - 1]:\n",
        "    print(i)\n",
        "    break\n",
        "  arr_contains[i-1] = True"
      ],
      "execution_count": 3,
      "outputs": [
        {
          "output_type": "stream",
          "name": "stdout",
          "text": [
            "5\n"
          ]
        }
      ]
    },
    {
      "cell_type": "code",
      "metadata": {
        "id": "jL86rAOAJs_d",
        "outputId": "576a4f76-c0eb-43f2-8ce5-4edc6a0887ef",
        "colab": {
          "base_uri": "https://localhost:8080/"
        }
      },
      "source": [
        "# Find first duplicate\n",
        "# No information on range !\n",
        "\n",
        "input = [1,2,5,3,5,3,3,4,6,3,3,2,2,4,6,6]\n",
        "\n",
        "arr_contains = {} # hash map to the resque\n",
        "for i in input:\n",
        "  if i in arr_contains:\n",
        "    print(i)\n",
        "    break\n",
        "  arr_contains[i] = True"
      ],
      "execution_count": 5,
      "outputs": [
        {
          "output_type": "stream",
          "name": "stdout",
          "text": [
            "5\n"
          ]
        }
      ]
    }
  ]
}