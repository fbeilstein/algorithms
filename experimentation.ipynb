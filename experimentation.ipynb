{
  "nbformat": 4,
  "nbformat_minor": 0,
  "metadata": {
    "colab": {
      "name": "experimentation.ipynb",
      "provenance": [],
      "authorship_tag": "ABX9TyOVjqIsT/R24fh0DLAQZY9p",
      "include_colab_link": true
    },
    "kernelspec": {
      "name": "python3",
      "display_name": "Python 3"
    },
    "language_info": {
      "name": "python"
    }
  },
  "cells": [
    {
      "cell_type": "markdown",
      "metadata": {
        "id": "view-in-github",
        "colab_type": "text"
      },
      "source": [
        "<a href=\"https://colab.research.google.com/github/fbeilstein/algorithms/blob/master/experimentation.ipynb\" target=\"_parent\"><img src=\"https://colab.research.google.com/assets/colab-badge.svg\" alt=\"Open In Colab\"/></a>"
      ]
    },
    {
      "cell_type": "code",
      "metadata": {
        "id": "-MLAY-PaFGt-"
      },
      "source": [
        "str_style = '''\n",
        "<style>\n",
        "table {\n",
        "  border-collapse: collapse;\n",
        "}\n",
        "\n",
        "td {\n",
        "  min-width:30px;\n",
        "  height: 30px;\n",
        "  position: relative; \n",
        "  text-align:center; \n",
        "  color: #00000080;\n",
        "  font-size:20px;\n",
        "  font-weight: bolder;\n",
        "  padding: 19px;\n",
        "}\n",
        "\n",
        ".border {\n",
        "  border: 2px solid #d6d6d6ff;\n",
        "}\n",
        "\n",
        ".noborder {\n",
        "  border: 0px;\n",
        "}\n",
        "</style>\n",
        "'''\n",
        "\n",
        "frame_number = 0\n",
        "\n",
        "def enclose_element(element, color, txt_color, border=True):\n",
        "  res  = '\\t<td bgcolor=\"' + color + '\" '\n",
        "  res += 'class=\"border\"' if border else 'class=\"noborder\"'\n",
        "  if txt_color: res += 'style=\"color:' + str(txt_color) + '\" ';\n",
        "  res += '>' + str(element) + '</td>'\n",
        "  return res\n",
        "\n",
        "def horizontal_tbl(array, colors, txt_colors, borders):\n",
        "  result = '<table>\\n'\n",
        "  for row, c_row, tc_row, has_border in zip(array, colors, txt_colors, borders):\n",
        "    result += '<tr>\\n'\n",
        "    for e, c, tc in zip(row, c_row, tc_row):\n",
        "      result += enclose_element(e, c, tc, has_border) + '\\n'\n",
        "    result += '</tr>\\n'\n",
        "  result += '</table>\\n'\n",
        "  return result\n",
        "\n",
        "def array_to_html(array, colors, txt_colors, borders):\n",
        "  return str_style + horizontal_tbl(array, colors, txt_colors, borders)\n",
        "\n",
        "def visualize_array(array, colors, txt_colors, borders):\n",
        "  array_str = array_to_html(array, colors, txt_colors, borders)\n",
        "  global frame_number\n",
        "  import imgkit\n",
        "  options = {\n",
        "    'format': 'png',\n",
        "    'encoding': \"UTF-8\",\n",
        "    'width': 1024,\n",
        "    \"xvfb\": \"\"\n",
        "  }\n",
        "  imgkit.from_string(array_str, 'frame_' + str(frame_number) + '.png', options=options)\n",
        "  frame_number += 1 \n",
        "  import IPython\n",
        "  from google.colab import output\n",
        "  display(IPython.display.HTML(array_str))\n"
      ],
      "execution_count": null,
      "outputs": []
    },
    {
      "cell_type": "code",
      "metadata": {
        "id": "DwOqRth7FUDr"
      },
      "source": [
        "def show_arr(arr, ptr1, ptr2, r, flag, out, g):\n",
        "  lng = max(len(arr), 4)\n",
        "\n",
        "  print_arr = [['out:', out, 'g:', g] + [' '] * (lng - 4), \n",
        "               arr + [' '] * (lng - len(arr)), \n",
        "               [' '] * lng]\n",
        "  if ptr1 < len(arr):\n",
        "    print_arr[2][ptr1] = '|'\n",
        "  if ptr2 < len(arr):\n",
        "    print_arr[2][ptr2] = '|'\n",
        "\n",
        "  colors = [['#ffffff'] * lng for _ in range(3)]\n",
        "  for idx in range(ptr1 - r, ptr1):\n",
        "    colors[1][idx] = '#0068006f'\n",
        "  colors[0][2:] = ['#ff65006f' if flag else '#0068006f']*2\n",
        "  #for idx in range(min(ptr1, ptr2), max(ptr1, ptr2)):\n",
        "  #  colors[1][idx] = '#ff0000' if flag else '#00ff00'\n",
        "\n",
        "  txt_colors = [['#00000091'] * lng for _ in range(3)]\n",
        "  if ptr1 < len(arr):\n",
        "    txt_colors[2][ptr1] = '#00aa00ff'\n",
        "  if ptr2 < len(arr):\n",
        "    txt_colors[2][ptr2] = '#ff9700ff'\n",
        "\n",
        "  borders = [False, True, False]\n",
        "\n",
        "  visualize_array(print_arr, colors, txt_colors, borders)"
      ],
      "execution_count": null,
      "outputs": []
    },
    {
      "cell_type": "code",
      "metadata": {
        "id": "1LwLxhmnFWSL"
      },
      "source": [
        "arr = [0,0,0,0,0,0,0,0,0,1]\n",
        "g = 0\n",
        "\n",
        "\n",
        "frame_number = 0\n",
        "i = 0\n",
        "j = 0\n",
        "r = 0\n",
        "out = 0\n",
        "r0 = min(g, 1)\n",
        "while j < len(arr):\n",
        "  show_arr(arr, i, j, r, j<i or g, out, g)\n",
        "  print(r, '***', out, '***', g, \"***\", i, '   ', j)\n",
        "  if j<i or g:\n",
        "    out += r\n",
        "    g -= arr[j]\n",
        "    j +=1\n",
        "  else:\n",
        "    r = r0 if i == 0 or arr[i-1] == 1 else r+1\n",
        "    g += arr[i]\n",
        "    i += 1\n",
        "show_arr(arr, i, j, r, j<i or g, out, g)\n"
      ],
      "execution_count": null,
      "outputs": []
    },
    {
      "cell_type": "code",
      "metadata": {
        "id": "QFXcUJnbFZPi"
      },
      "source": [
        "import imageio\n",
        "images = []\n",
        "for i in range(frame_number):\n",
        "  images.append(imageio.imread('frame_' + str(i) + '.png'))\n",
        "imageio.mimsave('movie.gif', images, duration=1)\n",
        "\n",
        "from IPython.display import Image\n",
        "Image(open('movie.gif','rb').read())"
      ],
      "execution_count": null,
      "outputs": []
    },
    {
      "cell_type": "code",
      "metadata": {
        "id": "KPVuzboJFcKz"
      },
      "source": [
        "'''\n",
        "def show_arr(arr, ptr1, ptr2, ptr3):\n",
        "  colors = [['#ff0000', '#00ff00', '#0000ff'][x] for x in arr]\n",
        "  colors = [colors, ['#ffffff'] * len(arr)]\n",
        "  txt_colors = [[False] * len(arr), [False] * len(arr)]\n",
        "  ptrs = [' '] * len(arr)\n",
        "  if ptr1 >= 0 : \n",
        "    ptrs[ptr1] = '🠕'\n",
        "    txt_colors[1][ptr1] = '#ff0000'\n",
        "  if ptr2 >= 0 : \n",
        "    ptrs[ptr2] = '🠕'\n",
        "    txt_colors[1][ptr2] = '#00ff00'\n",
        "  if ptr3 >= 0 : \n",
        "    ptrs[ptr3] = '🠕'\n",
        "    txt_colors[1][ptr3] = '#0000ff'\n",
        "  brd = [True, False]\n",
        "  visualize_array([arr, ptrs], colors, txt_colors, brd)\n",
        "'''\n",
        "def show_arr(arr, ptr1, ptr2, color_between, nums_arr, threshold):\n",
        "  arr = [' '] + arr + [' ']\n",
        "  ptr1 += 1\n",
        "  ptr2 += 1\n",
        "  lng = max(len(arr), 8)\n",
        "  print_arr = [['Q:', nums_arr[0], 'W:', nums_arr[1], 'E:', nums_arr[2], 'R:', nums_arr[3]] + [' '] * (lng - 8), \n",
        "               arr + [' '] * (lng - len(arr)), [' '] * lng]\n",
        "  print_arr[2][ptr1] = '|'\n",
        "  print_arr[2][ptr2] = '|'\n",
        "  colors = [['#ffffff'] * lng for _ in range(3)]\n",
        "  txt_colors = [['#00000091'] * lng for _ in range(3)]\n",
        "  txt_colors[2][ptr1] = '#00000091'\n",
        "  txt_colors[2][ptr2] = '#000000'\n",
        "  for i,x in enumerate(nums_arr):\n",
        "    if x <= threshold:\n",
        "      txt_colors[0][2*i] = '#005500b8'\n",
        "      txt_colors[0][2*i+1] = '#005500b8'\n",
        "    else:\n",
        "      txt_colors[0][2*i] = '#ff1c00a8'\n",
        "      txt_colors[0][2*i+1] = '#ff1c00a8'\n",
        "  borders = [False, True, False]\n",
        "  for i in range(ptr1, ptr2+1):\n",
        "    colors[1][i] = color_between\n",
        "  visualize_array(print_arr, colors, txt_colors, borders)"
      ],
      "execution_count": null,
      "outputs": []
    },
    {
      "cell_type": "code",
      "metadata": {
        "id": "HF4xA7haFeW5"
      },
      "source": [
        "frame_number = 0\n",
        "\n",
        "array = list('QQQQWWWWEEEERRRR')\n",
        "counts = {'Q': 0, 'W': 0, 'E': 0, 'R': 0}\n",
        "for c in array:\n",
        "  counts[c] += 1\n",
        "nums_for_print = [counts['Q'], counts['W'], counts['E'], counts['R']]\n",
        "threshold = len(array) // 4\n",
        "\n",
        "ptr1 = 0\n",
        "ptr2 = -1\n",
        "out = 100000000\n",
        "show_arr(array, ptr1, ptr2, '#0000ff', nums_for_print, threshold)\n",
        "while ptr1 < len(array) and ptr2 < len(array):\n",
        "  color = '#0055008e'\n",
        "  if counts['Q'] <= threshold and counts['W'] <= threshold and  counts['E'] <= threshold and  counts['R'] <= threshold:\n",
        "    out = min(out, ptr2 - ptr1 + 1)\n",
        "    counts[array[ptr1]] += 1\n",
        "    ptr1 += 1\n",
        "  else:\n",
        "    ptr2 += 1\n",
        "    if ptr2 >= len(array):\n",
        "      break\n",
        "    counts[array[ptr2]] -= 1\n",
        "  if counts['Q'] <= threshold and counts['W'] <= threshold and  counts['E'] <= threshold and  counts['R'] <= threshold:\n",
        "    pass\n",
        "  else:\n",
        "    color = '#ff1c0093'\n",
        "  nums_for_print = [counts['Q'], counts['W'], counts['E'], counts['R']]\n",
        "  show_arr(array, ptr1, ptr2, color, nums_for_print, threshold)"
      ],
      "execution_count": null,
      "outputs": []
    },
    {
      "cell_type": "code",
      "metadata": {
        "id": "vlP2uwtnFgc3"
      },
      "source": [
        "!pip install imgkit\n",
        "!sudo apt-get update --fix-missing\n",
        "!sudo apt-get install wkhtmltopdf\n",
        "!sudo apt-get install xvfb"
      ],
      "execution_count": null,
      "outputs": []
    },
    {
      "cell_type": "code",
      "metadata": {
        "id": "asvqeBh9FjCk"
      },
      "source": [
        "arr = [0,1,1,1,0,2,0,1,0,2,0,1,1,2,0,0,1,2,2,1,]\n",
        "i = -1\n",
        "j = 0\n",
        "k = len(arr) - 1\n",
        "show_arr(arr, i, j, k)\n",
        "while j <= k:\n",
        "  if arr[j] == 0:\n",
        "    i += 1\n",
        "    arr[i], arr[j] = arr[j], arr[i]\n",
        "    j += 1\n",
        "  elif arr[j] == 1:\n",
        "    j += 1\n",
        "  else:\n",
        "    arr[j], arr[k] = arr[k], arr[j]\n",
        "    k -= 1\n",
        "  show_arr(arr, i, j, k)"
      ],
      "execution_count": null,
      "outputs": []
    },
    {
      "cell_type": "code",
      "metadata": {
        "id": "190mk7VsFk-B"
      },
      "source": [
        "rows_sum = [2,2,2,2,2,2]\n",
        "cols_sum = [2,2,2,2,2,2]\n",
        "\n",
        "frame_number = 0\n",
        "arr = []\n",
        "colors = []\n",
        "for _ in range(len(rows_sum)):\n",
        "  arr.append([\" \"] * len(cols_sum))\n",
        "  colors.append([\"#ffffff\"] * len(cols_sum))\n",
        "for r, n, c in zip(arr, rows_sum, colors):\n",
        "  print(n)\n",
        "  r.append(n)\n",
        "  c.append('#0000001d')\n",
        "arr.append(cols_sum)\n",
        "colors.append([\"#0000001d\"] * len(cols_sum))\n",
        "\n",
        "visualize_array(arr, colors)\n",
        "\n",
        "i = 0\n",
        "j = 0\n",
        "\n",
        "while j < len(cols_sum):\n",
        "  if rows_sum[i] < cols_sum[j]:\n",
        "    cols_sum[j] -= rows_sum[i]\n",
        "    arr[i][j] = rows_sum[i]\n",
        "    colors[i][j] = '#ff00005b'\n",
        "    arr[i][-1] = 0\n",
        "    arr[-1][j] = cols_sum[j]\n",
        "    for k in range(j+1, len(cols_sum)):\n",
        "      arr[i][k] = 0\n",
        "    i += 1\n",
        "  else:\n",
        "    rows_sum[i] -= cols_sum[j]\n",
        "    arr[i][j] = cols_sum[j]\n",
        "    colors[i][j] = '#ff00005b'\n",
        "    cols_sum[j]=0\n",
        "    for k in range(i+1, len(rows_sum)):\n",
        "      arr[k][j] = 0\n",
        "    arr[i][-1] = rows_sum[i]\n",
        "    arr[-1][j] = 0\n",
        "    j += 1\n",
        "  visualize_array(arr, colors)"
      ],
      "execution_count": null,
      "outputs": []
    },
    {
      "cell_type": "code",
      "source": [
        "!pip install --upgrade gspread\n",
        "!apt install chromium-chromedriver\n",
        "!cp /usr/lib/chromium-browser/chromedriver /usr/bin\n",
        "!pip install selenium\n",
        "!pip install kora -q\n",
        "\n",
        "from google.colab import output\n",
        "output.clear()\n",
        "\n",
        "from selenium import webdriver\n",
        "options = webdriver.ChromeOptions()\n",
        "options.add_argument('--headless')\n",
        "options.add_argument('--no-sandbox')\n",
        "options.add_argument('--disable-dev-shm-usage')\n",
        "\n",
        "from selenium.webdriver.common.by import By\n",
        "#from kora.selenium import wd"
      ],
      "metadata": {
        "id": "MS6uMXmUdvKk"
      },
      "execution_count": 45,
      "outputs": []
    },
    {
      "cell_type": "code",
      "source": [
        "from selenium.webdriver.support.ui import WebDriverWait\n",
        "from selenium.webdriver.support import expected_conditions as EC\n",
        "\n",
        "login_url = \"https://leetcode.com/accounts/login/\"\n",
        "login_name = \"Eisblume\"\n",
        "login_pass = \"Winter1sComing\"\n",
        "\n",
        "wd = webdriver.Chrome('chromedriver',options=options)\n",
        "wd.get(login_url)\n",
        "\n",
        "wait = WebDriverWait(wd, 20)\n",
        "wait.until(EC.element_to_be_clickable((By.XPATH, '//*[@id=\"signin_btn\"]')))\n",
        "wait.until(EC.invisibility_of_element((By.XPATH, '//*[@id=\"initial-loading\"]')))\n",
        "\n",
        "name_elem = wd.find_element('xpath', '//*[@id=\"id_login\"]')\n",
        "pass_elem = wd.find_element('xpath', '//*[@id=\"id_password\"]')\n",
        "login_btn = wd.find_element('xpath', '//*[@id=\"signin_btn\"]')\n",
        "name_elem.send_keys(login_name)\n",
        "pass_elem.send_keys(login_pass)\n",
        "print(login_btn)\n",
        "wd.save_screenshot('yo.png')\n",
        "login_btn.click()\n",
        "\n",
        "wd.close()"
      ],
      "metadata": {
        "id": "7tKnS7Gqu9lT",
        "outputId": "ac35cfae-3be9-4613-faec-4f8beec49f6b",
        "colab": {
          "base_uri": "https://localhost:8080/"
        }
      },
      "execution_count": 62,
      "outputs": [
        {
          "output_type": "stream",
          "name": "stdout",
          "text": [
            "<button class=\"btn__3Y3g fancy-btn__2prB primary__lqsj light__3AfA btn__1z2C btn-md__M51O \" data-no-border=\"true\" data-cy=\"sign-in-btn\" id=\"signin_btn\"><div class=\"btn-content-container__2HVS\"><span class=\"btn-content__2V4r\">Sign In</span></div></button>\n"
          ]
        }
      ]
    },
    {
      "cell_type": "code",
      "source": [
        "problem_url = 'https://leetcode.com/problems/valid-square/'\n",
        "solution_text = '''\n",
        "class Solution:\n",
        "    def validSquare(self, p1: List[int], p2: List[int], p3: List[int], p4: List[int]) -> bool:\n",
        "        s = [p1[0]+p2[0]+p3[0]+p4[0], p1[1]+p2[1]+p3[1]+p4[1]]\n",
        "        l = [[4*p[0]-s[0], 4*p[1]-s[1]] for p in [p1,p2,p3,p4]]\n",
        "        return l[0]!=l[1] and [l[0][1], -l[0][0]] in l and [-l[0][1], l[0][0]] in l and [-l[0][0], -l[0][1]] in l\n",
        "'''\n",
        "\n",
        "wd.get(problem_url)\n",
        "try:\n",
        "  element = WebDriverWait(wd, 20).until(\n",
        "      EC.visibility_of_element_located((By.XPATH, '//*[@id=\"id_login\"]'))\n",
        "  )\n",
        "  #wd.implicitly_wait(20)\n",
        "  code_mirror = wd.find_element_by_class_name('CodeMirror')\n",
        "\n",
        "except:\n",
        "  print('EXCEPTION 1')\n",
        "\n",
        "#  /* getting codemirror element */\n",
        "#WebElement \n",
        "#\n",
        "#/* getting the first line of code inside codemirror and clicking it to bring it in focus */\n",
        "#WebElement codeLine = codeMirror.findElements(By.className(\"CodeMirror-line\")).get(0);\n",
        "#codeLine.click();\n",
        "#\n",
        "#/* sending keystokes to textarea once codemirror is in focus */\n",
        "#WebElement txtbx = codeMirror.findElement(By.cssSelector(\"textarea\"));\n",
        "#txtbx.sendKeys(\"Hello World\");"
      ],
      "metadata": {
        "id": "rbRmf0Gc1XBV"
      },
      "execution_count": null,
      "outputs": []
    }
  ]
}