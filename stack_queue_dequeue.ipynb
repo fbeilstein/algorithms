{
  "nbformat": 4,
  "nbformat_minor": 0,
  "metadata": {
    "colab": {
      "name": "stack_queue_dequeue.ipynb",
      "provenance": [],
      "authorship_tag": "ABX9TyOVGILO49F6iTPh35Eoa1IX",
      "include_colab_link": true
    },
    "kernelspec": {
      "name": "python3",
      "display_name": "Python 3"
    },
    "language_info": {
      "name": "python"
    }
  },
  "cells": [
    {
      "cell_type": "markdown",
      "metadata": {
        "id": "view-in-github",
        "colab_type": "text"
      },
      "source": [
        "<a href=\"https://colab.research.google.com/github/fbeilstein/algorithms/blob/master/stack_queue_dequeue.ipynb\" target=\"_parent\"><img src=\"https://colab.research.google.com/assets/colab-badge.svg\" alt=\"Open In Colab\"/></a>"
      ]
    },
    {
      "cell_type": "code",
      "metadata": {
        "colab": {
          "base_uri": "https://localhost:8080/"
        },
        "id": "POhzxlbFRfbr",
        "outputId": "c3abb81d-0b35-4fda-c5da-d53e835d9cf1"
      },
      "source": [
        "from collections import deque\n",
        "\n",
        "cache = deque()\n",
        "cache.append(12)\n",
        "cache.append(32)\n",
        "print(cache)\n",
        "len(cache)\n",
        "cache.pop()"
      ],
      "execution_count": 1,
      "outputs": [
        {
          "output_type": "stream",
          "name": "stdout",
          "text": [
            "deque([12, 32])\n"
          ]
        },
        {
          "output_type": "execute_result",
          "data": {
            "text/plain": [
              "32"
            ]
          },
          "metadata": {},
          "execution_count": 1
        }
      ]
    },
    {
      "cell_type": "markdown",
      "metadata": {
        "id": "VlqDziKU3vpZ"
      },
      "source": [
        "###Remove All Adjacent Duplicates in String II"
      ]
    },
    {
      "cell_type": "code",
      "metadata": {
        "id": "eUFatd1N3u9d"
      },
      "source": [
        "class Solution:\n",
        "    def removeDuplicates(self, s: str, k: int) -> str:\n",
        "        cache = deque()\n",
        "        for c in s:\n",
        "            if not cache or cache[-1][0] != c:\n",
        "                cache.append((c, 1))\n",
        "            else:\n",
        "                cache[-1] = (c, cache[-1][1] + 1)\n",
        "            if cache[-1][1] == k:\n",
        "                cache.pop()\n",
        "        result = \"\"\n",
        "        while cache:\n",
        "            c, times = cache.pop()\n",
        "            result = c*times + result\n",
        "        return result"
      ],
      "execution_count": null,
      "outputs": []
    },
    {
      "cell_type": "markdown",
      "source": [
        "##Binary Tree Inorder Traversal"
      ],
      "metadata": {
        "id": "dHec0FmirDRE"
      }
    },
    {
      "cell_type": "markdown",
      "source": [
        "Depth First Traversals: \n",
        "* Inorder (Left, Root, Right)\n",
        "* Preorder (Root, Left, Right)\n",
        "* Postorder (Left, Right, Root)"
      ],
      "metadata": {
        "id": "aiF4dsPcrINn"
      }
    },
    {
      "cell_type": "code",
      "source": [
        "# Definition for a binary tree node.\n",
        "# class TreeNode:\n",
        "#     def __init__(self, val=0, left=None, right=None):\n",
        "#         self.val = val\n",
        "#         self.left = left\n",
        "#         self.right = right\n",
        "class Solution:\n",
        "    def inorderTraversal(self, root: Optional[TreeNode]) -> List[int]:\n",
        "        stack = deque()\n",
        "        result = []\n",
        "        while root or stack:\n",
        "            while root: \n",
        "                stack.append(root)\n",
        "                root = root.left\n",
        "            root = stack.pop()\n",
        "            result.append(root.val)\n",
        "            root = root.right\n",
        "        return result\n",
        "    "
      ],
      "metadata": {
        "id": "pZa51k1YrYHL"
      },
      "execution_count": null,
      "outputs": []
    },
    {
      "cell_type": "markdown",
      "source": [
        "##Valid Parentheses"
      ],
      "metadata": {
        "id": "W3EUJ5ZLPIly"
      }
    },
    {
      "cell_type": "code",
      "source": [
        "class Solution:\n",
        "    def isValid(self, s: str) -> bool:\n",
        "        stack = deque()\n",
        "        const_open = ['(', '[', '{']\n",
        "        const_closed = [')', ']', '}']\n",
        "        converter = {'(': ')', '[': ']', '{': '}'}\n",
        "        for ch in s:\n",
        "            if ch in const_open: stack.append(converter[ch])\n",
        "            if ch in const_closed:\n",
        "                if not stack or ch != stack.pop(): return False\n",
        "        return not stack\n",
        "        "
      ],
      "metadata": {
        "id": "iPor8eM9PGTT"
      },
      "execution_count": null,
      "outputs": []
    }
  ]
}