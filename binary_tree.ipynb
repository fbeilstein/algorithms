{
  "nbformat": 4,
  "nbformat_minor": 0,
  "metadata": {
    "colab": {
      "name": "binary_tree.ipynb",
      "provenance": [],
      "authorship_tag": "ABX9TyNUMB8H9x0jGVBT9GpUc0e9",
      "include_colab_link": true
    },
    "kernelspec": {
      "name": "python3",
      "display_name": "Python 3"
    },
    "language_info": {
      "name": "python"
    }
  },
  "cells": [
    {
      "cell_type": "markdown",
      "metadata": {
        "id": "view-in-github",
        "colab_type": "text"
      },
      "source": [
        "<a href=\"https://colab.research.google.com/github/fbeilstein/algorithms/blob/master/binary_tree.ipynb\" target=\"_parent\"><img src=\"https://colab.research.google.com/assets/colab-badge.svg\" alt=\"Open In Colab\"/></a>"
      ]
    },
    {
      "cell_type": "markdown",
      "metadata": {
        "id": "YxoOnWGN9HL2"
      },
      "source": [
        "##Problems"
      ]
    },
    {
      "cell_type": "markdown",
      "metadata": {
        "id": "FnYstSg49JaE"
      },
      "source": [
        "###Diameter of Binary Tree"
      ]
    },
    {
      "cell_type": "code",
      "metadata": {
        "id": "LCOi7dcn839i"
      },
      "source": [
        "# Definition for a binary tree node.\n",
        "# class TreeNode:\n",
        "#     def __init__(self, val=0, left=None, right=None):\n",
        "#         self.val = val\n",
        "#         self.left = left\n",
        "#         self.right = right\n",
        "class Solution:\n",
        "    def _diameter(self, root): # result first arg\n",
        "        left  = self._diameter(root.left)  if root.left  else (0, -1)\n",
        "        right = self._diameter(root.right) if root.right else (0, -1)\n",
        "        return max(left[0], right[0], left[1] + right[1] + 2), 1 + max(left[1], right[1])\n",
        "        \n",
        "    def diameterOfBinaryTree(self, root: Optional[TreeNode]) -> int:\n",
        "        return self._diameter(root)[0]"
      ],
      "execution_count": null,
      "outputs": []
    },
    {
      "cell_type": "markdown",
      "metadata": {
        "id": "m5XZl7anTIes"
      },
      "source": [
        "###Sum Root to Leaf Numbers"
      ]
    },
    {
      "cell_type": "markdown",
      "metadata": {
        "id": "XW-KhvewTom0"
      },
      "source": [
        "![](https://assets.leetcode.com/users/images/ac7c74df-4741-41ba-bf03-9af192f5a569_1613241564.5360203.png)\n",
        "\n",
        "![](https://assets.leetcode.com/users/images/d2977d2b-0064-41b3-aca5-0006037bc926_1613243518.8830612.png)\n",
        "\n",
        "![](https://assets.leetcode.com/users/images/30e7fdcb-44b0-47e5-a052-e8f3ef7298e2_1613243658.6578772.png)"
      ]
    },
    {
      "cell_type": "code",
      "metadata": {
        "id": "7JI-g6WOTHv_"
      },
      "source": [
        "# Definition for a binary tree node.\n",
        "# class TreeNode:\n",
        "#     def __init__(self, val=0, left=None, right=None):\n",
        "#         self.val = val\n",
        "#         self.left = left\n",
        "#         self.right = right\n",
        "class Solution:\n",
        "    def _helper(self, root, num):\n",
        "        cur_num = num * 10 + root.val\n",
        "        if not root.left and not root.right:\n",
        "            return cur_num\n",
        "        sum_1 = self._helper(root.left, cur_num)  if root.left  else 0\n",
        "        sum_2 = self._helper(root.right, cur_num) if root.right else 0\n",
        "        return sum_1 + sum_2\n",
        "        \n",
        "    def sumNumbers(self, root: Optional[TreeNode]) -> int:\n",
        "        return self._helper(root, 0)\n",
        "        \n",
        "        "
      ],
      "execution_count": null,
      "outputs": []
    },
    {
      "cell_type": "markdown",
      "metadata": {
        "id": "bf-IM3QVQbpe"
      },
      "source": [
        "###Sum of Left Leaves"
      ]
    },
    {
      "cell_type": "code",
      "metadata": {
        "id": "9mNnCH2rQcC8"
      },
      "source": [
        "# Definition for a binary tree node.\n",
        "# class TreeNode:\n",
        "#     def __init__(self, val=0, left=None, right=None):\n",
        "#         self.val = val\n",
        "#         self.left = left\n",
        "#         self.right = right\n",
        "class Solution:\n",
        "    def sumOfLeftLeaves(self, root: Optional[TreeNode], mult=0) -> int:\n",
        "        if not root: return 0;\n",
        "        if not (root.left or root.right): return root.val * mult;\n",
        "        return self.sumOfLeftLeaves(root.left, 1) + self.sumOfLeftLeaves(root.right, 0)\n",
        "        "
      ],
      "execution_count": null,
      "outputs": []
    },
    {
      "cell_type": "code",
      "metadata": {
        "id": "0XrCqzj_Q7b0"
      },
      "source": [
        "# Definition for a binary tree node.\n",
        "# class TreeNode:\n",
        "#     def __init__(self, val=0, left=None, right=None):\n",
        "#         self.val = val\n",
        "#         self.left = left\n",
        "#         self.right = right\n",
        "class Solution:\n",
        "    def sumOfLeftLeaves(self, root: Optional[TreeNode]) -> int:\n",
        "        if not root: return 0;\n",
        "        sum = root.left.val if root.left and not root.left.left and not root.left.right else 0\n",
        "        return sum + self.sumOfLeftLeaves(root.left, 1) + self.sumOfLeftLeaves(root.right, 0)\n",
        "        "
      ],
      "execution_count": null,
      "outputs": []
    },
    {
      "cell_type": "markdown",
      "metadata": {
        "id": "tNfnYX_3a8Eg"
      },
      "source": [
        "###Range Sum of BST"
      ]
    },
    {
      "cell_type": "code",
      "metadata": {
        "id": "dxMRQ4lBa7bb"
      },
      "source": [
        "# Definition for a binary tree node.\n",
        "# class TreeNode:\n",
        "#     def __init__(self, val=0, left=None, right=None):\n",
        "#         self.val = val\n",
        "#         self.left = left\n",
        "#         self.right = right\n",
        "class Solution:\n",
        "    def rangeSumBST(self, root: Optional[TreeNode], low: int, high: int) -> int:\n",
        "        if not root: return 0;\n",
        "        sum  = root.val if root and low <= root.val <= high else 0\n",
        "        sum += self.rangeSumBST(root.left, low, high)  if root.val >= low else 0\n",
        "        sum += self.rangeSumBST(root.right, low, high) if root.val <= high else 0\n",
        "        return sum\n",
        "        \n",
        "        "
      ],
      "execution_count": null,
      "outputs": []
    },
    {
      "cell_type": "markdown",
      "metadata": {
        "id": "YT0W-JzmcpUg"
      },
      "source": [
        "###Maximum Depth of Binary Tree"
      ]
    },
    {
      "cell_type": "code",
      "metadata": {
        "id": "dFGLBUQFcmWu"
      },
      "source": [
        "# Definition for a binary tree node.\n",
        "# class TreeNode:\n",
        "#     def __init__(self, val=0, left=None, right=None):\n",
        "#         self.val = val\n",
        "#         self.left = left\n",
        "#         self.right = right\n",
        "class Solution:\n",
        "    def maxDepth(self, root: Optional[TreeNode]) -> int:\n",
        "        if not root: return 0;\n",
        "        return 1 + max(self.maxDepth(root.left), self.maxDepth(root.right))\n",
        "        "
      ],
      "execution_count": null,
      "outputs": []
    }
  ]
}