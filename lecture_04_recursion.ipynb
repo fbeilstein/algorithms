{
  "nbformat": 4,
  "nbformat_minor": 0,
  "metadata": {
    "colab": {
      "provenance": [],
      "include_colab_link": true
    },
    "kernelspec": {
      "name": "python3",
      "display_name": "Python 3"
    },
    "language_info": {
      "name": "python"
    }
  },
  "cells": [
    {
      "cell_type": "markdown",
      "metadata": {
        "id": "view-in-github",
        "colab_type": "text"
      },
      "source": [
        "<a href=\"https://colab.research.google.com/github/fbeilstein/algorithms/blob/master/lecture_04_recursion.ipynb\" target=\"_parent\"><img src=\"https://colab.research.google.com/assets/colab-badge.svg\" alt=\"Open In Colab\"/></a>"
      ]
    },
    {
      "cell_type": "markdown",
      "source": [
        "# Call stack for functions\n",
        "\n",
        "## What is stack?\n",
        "\n",
        "\n",
        "## What is callstack?\n"
      ],
      "metadata": {
        "id": "--qbG8b9u3D8"
      }
    },
    {
      "cell_type": "markdown",
      "source": [
        "# Recursive problems"
      ],
      "metadata": {
        "id": "QaX_jFoMvN61"
      }
    },
    {
      "cell_type": "markdown",
      "source": [
        "# Basic Recursion\n",
        "\n",
        "* base case\n",
        "* recursion\n",
        "  "
      ],
      "metadata": {
        "id": "3byGpqHRuiwZ"
      }
    },
    {
      "cell_type": "markdown",
      "source": [
        "# Famous recursive algorithms"
      ],
      "metadata": {
        "id": "u17tBsd_usAe"
      }
    },
    {
      "cell_type": "code",
      "source": [
        "# sum\n",
        "def recursive_sum(n):\n",
        "  if not n: return 0\n",
        "  return n[-1] + recursive_sum(n[:-1])\n",
        "\n",
        "recursive_sum([1,2,3])"
      ],
      "metadata": {
        "id": "cy-8XoE2hl88",
        "outputId": "b82c8b54-1a09-409a-a54e-e39c0237e276",
        "colab": {
          "base_uri": "https://localhost:8080/"
        }
      },
      "execution_count": 46,
      "outputs": [
        {
          "output_type": "execute_result",
          "data": {
            "text/plain": [
              "6"
            ]
          },
          "metadata": {},
          "execution_count": 46
        }
      ]
    },
    {
      "cell_type": "code",
      "source": [
        "# fibonacci\n",
        "def fib(n):\n",
        "  if n == 0 or n == 1: return 1\n",
        "  return fib(n-1) + fib(n-2)\n",
        "\n",
        "fib(4)"
      ],
      "metadata": {
        "id": "1uN1wc33hyac",
        "outputId": "6e7aeeb4-82f3-4b4e-cbf4-5d4b0f4dae97",
        "colab": {
          "base_uri": "https://localhost:8080/"
        }
      },
      "execution_count": null,
      "outputs": [
        {
          "output_type": "execute_result",
          "data": {
            "text/plain": [
              "5"
            ]
          },
          "metadata": {},
          "execution_count": 23
        }
      ]
    },
    {
      "cell_type": "code",
      "source": [
        "# binomial coefficient\n",
        "def c(n, k):\n",
        "  if k == 0 or n == k: return 1\n",
        "  return c(n-1, k-1) + c(n-1, k)\n"
      ],
      "metadata": {
        "id": "91Hwf6FQkAn0",
        "outputId": "be347ac7-2535-4048-ae75-b7b64df337f4",
        "colab": {
          "base_uri": "https://localhost:8080/"
        }
      },
      "execution_count": null,
      "outputs": [
        {
          "output_type": "execute_result",
          "data": {
            "text/plain": [
              "(1, 5, 10, 10, 5, 1)"
            ]
          },
          "metadata": {},
          "execution_count": 25
        }
      ]
    },
    {
      "cell_type": "code",
      "source": [
        "# factorial\n",
        "def f(n) :\n",
        "  if n == 0: return 1\n",
        "  return n * f(n-1)\n",
        "\n",
        "f(5)"
      ],
      "metadata": {
        "id": "oDQ3p00HhkB3"
      },
      "execution_count": null,
      "outputs": []
    },
    {
      "cell_type": "code",
      "source": [
        "def pow(x,n):\n",
        "  if n == 0: return 1\n",
        "  if n&1:\n",
        "    return x*pow(x*x, n//2)\n",
        "  else:\n",
        "    return pow(x*x, n//2)\n",
        "\n",
        "pow(5,3)"
      ],
      "metadata": {
        "colab": {
          "base_uri": "https://localhost:8080/"
        },
        "id": "L-JgSp29B9_b",
        "outputId": "c16c30e1-66f6-4e5d-f45b-38054ce734bc"
      },
      "execution_count": 44,
      "outputs": [
        {
          "output_type": "execute_result",
          "data": {
            "text/plain": [
              "125"
            ]
          },
          "metadata": {},
          "execution_count": 44
        }
      ]
    },
    {
      "cell_type": "code",
      "source": [
        "# Tower of Hanoi\n",
        "def TowerOfHanoi(n, a, b, c):\n",
        "    if n == 0: return\n",
        "    TowerOfHanoi(n-1, a, c, b)\n",
        "    print(\"Move disk\", n, \"from \", a, \"to \", b)\n",
        "    TowerOfHanoi(n-1, c, b, a)\n",
        "\n",
        "TowerOfHanoi(3, 'a', 'b', 'c')"
      ],
      "metadata": {
        "colab": {
          "base_uri": "https://localhost:8080/"
        },
        "id": "hwH5EQz8xiTP",
        "outputId": "ebc9d317-fee1-4005-deea-537ef05a4d4a"
      },
      "execution_count": 39,
      "outputs": [
        {
          "output_type": "stream",
          "name": "stdout",
          "text": [
            "Move disk 1 from  a to  b\n",
            "Move disk 2 from  a to  c\n",
            "Move disk 1 from  b to  c\n",
            "Move disk 3 from  a to  b\n",
            "Move disk 1 from  c to  a\n",
            "Move disk 2 from  c to  b\n",
            "Move disk 1 from  a to  b\n"
          ]
        }
      ]
    },
    {
      "cell_type": "code",
      "source": [
        "# Euclid algortihm\n",
        "def gcd(a, b) :\n",
        "  if not b: return a\n",
        "  return gcd(b, a%b)\n",
        "\n",
        "gcd(24, 42)"
      ],
      "metadata": {
        "id": "lF5bHaCsgva0",
        "outputId": "bef4a384-cb1e-47ad-8774-b90f09f9f8cd",
        "colab": {
          "base_uri": "https://localhost:8080/"
        }
      },
      "execution_count": null,
      "outputs": [
        {
          "output_type": "execute_result",
          "data": {
            "text/plain": [
              "6"
            ]
          },
          "metadata": {},
          "execution_count": 16
        }
      ]
    },
    {
      "cell_type": "code",
      "source": [
        "# get all subsets\n",
        "def subset(n):\n",
        "  if not n: return [[]]\n",
        "  S = subset(n[:-1])\n",
        "  return S + [(s + [n[-1]]) for s in S]\n",
        "\n",
        "subset([1,2,3])"
      ],
      "metadata": {
        "colab": {
          "base_uri": "https://localhost:8080/"
        },
        "id": "8VcqOdKvxV_H",
        "outputId": "77956e9c-007d-4ac0-c893-f6aa32aeb780"
      },
      "execution_count": 56,
      "outputs": [
        {
          "output_type": "execute_result",
          "data": {
            "text/plain": [
              "[[], [1], [2], [1, 2], [3], [1, 3], [2, 3], [1, 2, 3]]"
            ]
          },
          "metadata": {},
          "execution_count": 56
        }
      ]
    },
    {
      "cell_type": "code",
      "source": [
        "# get all permutations\n",
        "def permute(n):\n",
        "  if not n: return [[]]\n",
        "  P = permute(n[:-1])\n",
        "  out = []\n",
        "  for p in P:\n",
        "    for i in range(len(p)+1):\n",
        "      out += [p[:i] + [n[-1]] + p[i:]]\n",
        "  return out\n",
        "\n",
        "permute([1,2,3])"
      ],
      "metadata": {
        "colab": {
          "base_uri": "https://localhost:8080/"
        },
        "id": "uis4tDIw9QVq",
        "outputId": "d496e695-e17d-4491-c55d-0fbfddbdbaed"
      },
      "execution_count": 63,
      "outputs": [
        {
          "output_type": "execute_result",
          "data": {
            "text/plain": [
              "[[3, 2, 1], [2, 3, 1], [2, 1, 3], [3, 1, 2], [1, 3, 2], [1, 2, 3]]"
            ]
          },
          "metadata": {},
          "execution_count": 63
        }
      ]
    },
    {
      "cell_type": "code",
      "source": [
        "# linear search\n",
        "\n",
        "def linear_search(arr, v):\n",
        "  if not arr: return False\n",
        "  if arr[-1]==v: return True\n",
        "  return linear_search(arr[:-1], v)\n",
        "\n",
        "\n",
        "\n",
        "linear_search([], 4)\n"
      ],
      "metadata": {
        "id": "tUlgoq8rLk5U",
        "outputId": "ddfc57b3-4ddf-4444-9a9d-c589ee067660",
        "colab": {
          "base_uri": "https://localhost:8080/"
        }
      },
      "execution_count": 78,
      "outputs": [
        {
          "output_type": "execute_result",
          "data": {
            "text/plain": [
              "False"
            ]
          },
          "metadata": {},
          "execution_count": 78
        }
      ]
    },
    {
      "cell_type": "code",
      "source": [
        "# binary search: arr is non-decreasing\n",
        "\n",
        "def bin_helper(arr, v, l, r):\n",
        "  if l+1==r: return arr[l]==v\n",
        "  m=(l+r)//2\n",
        "  if v<arr[m]:\n",
        "    return bin_helper(arr, v, l, m)\n",
        "  else:\n",
        "    return bin_helper(arr, v, m, r)\n",
        "\n",
        "def bin_search(arr, v):\n",
        "  return bin_helper(arr, v, 0, len(arr))\n",
        "\n",
        "bin_search([1,2,4,4,5,6], 3)"
      ],
      "metadata": {
        "id": "-vg7wniCDon0",
        "outputId": "cbfc095f-5992-4048-9056-98911359d6d5",
        "colab": {
          "base_uri": "https://localhost:8080/"
        }
      },
      "execution_count": 74,
      "outputs": [
        {
          "output_type": "execute_result",
          "data": {
            "text/plain": [
              "False"
            ]
          },
          "metadata": {},
          "execution_count": 74
        }
      ]
    },
    {
      "cell_type": "code",
      "source": [
        "# mergesort"
      ],
      "metadata": {
        "id": "QWZXXjG4pllV"
      },
      "execution_count": null,
      "outputs": []
    },
    {
      "cell_type": "code",
      "source": [
        "# quicksort"
      ],
      "metadata": {
        "id": "8dnU4HaGpoBk"
      },
      "execution_count": null,
      "outputs": []
    },
    {
      "cell_type": "code",
      "source": [
        "# binary tree traversals"
      ],
      "metadata": {
        "id": "wpDOy9rwv3OH"
      },
      "execution_count": null,
      "outputs": []
    },
    {
      "cell_type": "code",
      "source": [
        "# dfs graph traversal"
      ],
      "metadata": {
        "id": "0tHgyqPsv9Uc"
      },
      "execution_count": null,
      "outputs": []
    },
    {
      "cell_type": "markdown",
      "source": [
        "# Tail recursion and TCO"
      ],
      "metadata": {
        "id": "eGOOqRlxaup-"
      }
    },
    {
      "cell_type": "code",
      "execution_count": null,
      "metadata": {
        "id": "GM5_UV1ATnLT",
        "outputId": "a740544a-6453-4953-bfd0-8e2c6a21c2c8",
        "colab": {
          "base_uri": "https://localhost:8080/"
        }
      },
      "outputs": [
        {
          "output_type": "execute_result",
          "data": {
            "text/plain": [
              "(120, 120)"
            ]
          },
          "metadata": {},
          "execution_count": 26
        }
      ],
      "source": [
        "def f(n):\n",
        "  if n==0: return 1\n",
        "  return n * f(n-1)\n",
        "\n",
        "def g(n, acc=1):\n",
        "  if n==0: return acc\n",
        "  return g(n-1, acc*n)\n",
        "\n",
        "f(5), g(5)"
      ]
    },
    {
      "cell_type": "code",
      "source": [
        "%timeit f(500)"
      ],
      "metadata": {
        "id": "YZS8Yxgzp33G",
        "outputId": "deadd7f6-7d26-491e-aad3-6df772cf2eb9",
        "colab": {
          "base_uri": "https://localhost:8080/"
        }
      },
      "execution_count": null,
      "outputs": [
        {
          "output_type": "stream",
          "name": "stdout",
          "text": [
            "150 µs ± 44.9 µs per loop (mean ± std. dev. of 7 runs, 10000 loops each)\n"
          ]
        }
      ]
    },
    {
      "cell_type": "code",
      "source": [
        "%timeit g(500)"
      ],
      "metadata": {
        "id": "E-ZEteSAp_d4",
        "outputId": "42132e40-e33b-45d3-b812-d9f47e18e701",
        "colab": {
          "base_uri": "https://localhost:8080/"
        }
      },
      "execution_count": null,
      "outputs": [
        {
          "output_type": "stream",
          "name": "stdout",
          "text": [
            "168 µs ± 35 µs per loop (mean ± std. dev. of 7 runs, 10000 loops each)\n"
          ]
        }
      ]
    },
    {
      "cell_type": "code",
      "source": [
        "def sum(n) :\n",
        "  if not n : return 0\n",
        "  return n[-1] + sum(n[:-1])\n",
        "\n",
        "\n",
        "def sum1(n, acc=0) :\n",
        "  if not n : return acc\n",
        "  return sum1(n[:-1], acc+n[-1])\n",
        "\n",
        "sum([1,2,3])\n",
        "sum1([1,2,3])"
      ],
      "metadata": {
        "id": "9W2W23IYa6fC",
        "outputId": "d23e58e8-36ca-4af8-9248-372c812df654",
        "colab": {
          "base_uri": "https://localhost:8080/"
        }
      },
      "execution_count": null,
      "outputs": [
        {
          "output_type": "execute_result",
          "data": {
            "text/plain": [
              "6"
            ]
          },
          "metadata": {},
          "execution_count": 11
        }
      ]
    },
    {
      "cell_type": "markdown",
      "source": [
        "Binary tree"
      ],
      "metadata": {
        "id": "2Z1NairUr6RR"
      }
    }
  ]
}