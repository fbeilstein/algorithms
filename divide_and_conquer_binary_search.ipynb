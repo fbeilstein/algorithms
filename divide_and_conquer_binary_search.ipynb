{
  "nbformat": 4,
  "nbformat_minor": 0,
  "metadata": {
    "colab": {
      "name": "divide_and_conquer_binary_search.ipynb",
      "provenance": [],
      "authorship_tag": "ABX9TyNGY0ai9Wakh+M3R/5njH5W",
      "include_colab_link": true
    },
    "kernelspec": {
      "name": "python3",
      "display_name": "Python 3"
    },
    "language_info": {
      "name": "python"
    }
  },
  "cells": [
    {
      "cell_type": "markdown",
      "metadata": {
        "id": "view-in-github",
        "colab_type": "text"
      },
      "source": [
        "<a href=\"https://colab.research.google.com/github/fbeilstein/algorithms/blob/master/divide_and_conquer_binary_search.ipynb\" target=\"_parent\"><img src=\"https://colab.research.google.com/assets/colab-badge.svg\" alt=\"Open In Colab\"/></a>"
      ]
    },
    {
      "cell_type": "code",
      "execution_count": 2,
      "metadata": {
        "colab": {
          "base_uri": "https://localhost:8080/"
        },
        "id": "QtkN2gNiDbEY",
        "outputId": "787c45b8-5f69-47e6-fef1-8cdee3425eae"
      },
      "outputs": [
        {
          "output_type": "stream",
          "name": "stdout",
          "text": [
            "divide et impera, binary search\n"
          ]
        }
      ],
      "source": [
        "print(\"divide et impera, binary search\")"
      ]
    }
  ]
}