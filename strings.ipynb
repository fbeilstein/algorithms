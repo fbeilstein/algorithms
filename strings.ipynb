{
  "nbformat": 4,
  "nbformat_minor": 0,
  "metadata": {
    "colab": {
      "name": "strings.ipynb",
      "provenance": [],
      "authorship_tag": "ABX9TyPdoY1zz5uMPhJ6aTWqe2hP",
      "include_colab_link": true
    },
    "kernelspec": {
      "name": "python3",
      "display_name": "Python 3"
    },
    "language_info": {
      "name": "python"
    }
  },
  "cells": [
    {
      "cell_type": "markdown",
      "metadata": {
        "id": "view-in-github",
        "colab_type": "text"
      },
      "source": [
        "<a href=\"https://colab.research.google.com/github/fbeilstein/algorithms/blob/master/strings.ipynb\" target=\"_parent\"><img src=\"https://colab.research.google.com/assets/colab-badge.svg\" alt=\"Open In Colab\"/></a>"
      ]
    },
    {
      "cell_type": "markdown",
      "metadata": {
        "id": "VnaBFbmy-kzg"
      },
      "source": [
        "## Reverse String"
      ]
    },
    {
      "cell_type": "code",
      "metadata": {
        "id": "MFkwH0ge8sPx"
      },
      "source": [
        "class Solution:\n",
        "    def reverseString(self, s: List[str]) -> None:\n",
        "        \"\"\"\n",
        "        Do not return anything, modify s in-place instead.\n",
        "        \"\"\"\n",
        "        s[:] = s[::-1]"
      ],
      "execution_count": null,
      "outputs": []
    },
    {
      "cell_type": "code",
      "metadata": {
        "id": "A-U5Lgk6-glX"
      },
      "source": [
        "class Solution:\n",
        "    def reverseString(self, s: List[str]) -> None:\n",
        "        \"\"\"\n",
        "        Do not return anything, modify s in-place instead.\n",
        "        \"\"\"\n",
        "        for idx in range(len(s)//2):\n",
        "            s[idx], s[len(s)-idx-1] = s[len(s)-idx-1], s[idx]\n",
        "        "
      ],
      "execution_count": null,
      "outputs": []
    },
    {
      "cell_type": "markdown",
      "metadata": {
        "id": "VK6wdG6pDF0A"
      },
      "source": [
        "## Reverse String II"
      ]
    },
    {
      "cell_type": "code",
      "metadata": {
        "id": "yNFOVOirDFAK"
      },
      "source": [
        "class Solution:\n",
        "    def reverseStr(self, s: str, k: int) -> str:\n",
        "        s = list(s)\n",
        "        for initial_idx in range(0, len(s), 2*k):\n",
        "            s[initial_idx:initial_idx+k] = s[initial_idx:initial_idx+k][::-1]\n",
        "        return \"\".join(s)"
      ],
      "execution_count": null,
      "outputs": []
    },
    {
      "cell_type": "code",
      "metadata": {
        "id": "NhTv6outDKkU"
      },
      "source": [
        "class Solution:\n",
        "    def reverseStr(self, s: str, k: int) -> str:\n",
        "        result = \"\"\n",
        "        for initial_idx in range(0, len(s), 2*k):\n",
        "            result += s[initial_idx:initial_idx+k][::-1] + s[initial_idx+k:initial_idx+2*k]\n",
        "        return result"
      ],
      "execution_count": null,
      "outputs": []
    }
  ]
}