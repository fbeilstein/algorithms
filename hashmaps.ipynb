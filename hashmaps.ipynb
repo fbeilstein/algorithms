{
  "nbformat": 4,
  "nbformat_minor": 0,
  "metadata": {
    "colab": {
      "name": "hashmaps.ipynb",
      "provenance": [],
      "authorship_tag": "ABX9TyNeJUWkJAPEy/psHRXfZaVx",
      "include_colab_link": true
    },
    "kernelspec": {
      "name": "python3",
      "display_name": "Python 3"
    },
    "language_info": {
      "name": "python"
    }
  },
  "cells": [
    {
      "cell_type": "markdown",
      "metadata": {
        "id": "view-in-github",
        "colab_type": "text"
      },
      "source": [
        "<a href=\"https://colab.research.google.com/github/fbeilstein/algorithms/blob/master/hashmaps.ipynb\" target=\"_parent\"><img src=\"https://colab.research.google.com/assets/colab-badge.svg\" alt=\"Open In Colab\"/></a>"
      ]
    },
    {
      "cell_type": "markdown",
      "metadata": {
        "id": "Mz9BIQcxtFym"
      },
      "source": [
        "* **hash table** maps keys to values (dictionary in Python, std::unordered_map in C++)\n",
        "* keys should be hashable\n",
        "* **hash function** maps int argument to fixed range of integers"
      ]
    },
    {
      "cell_type": "code",
      "metadata": {
        "id": "mtpYrszkF_Iq",
        "colab": {
          "base_uri": "https://localhost:8080/"
        },
        "outputId": "324b57c5-b555-448d-9adf-d2a5aef102d9"
      },
      "source": [
        "# Find first duplicate\n",
        "# Suppose that there can only be numbers 1 to 10\n",
        "\n",
        "input = [1,2,5,3,5,3,3,4,6,3,3,2,2,4,6,6]\n",
        "\n",
        "arr_contains = [False] * 10\n",
        "for i in input:\n",
        "  if arr_contains[i - 1]:\n",
        "    print(i)\n",
        "    break\n",
        "  arr_contains[i-1] = True"
      ],
      "execution_count": 3,
      "outputs": [
        {
          "output_type": "stream",
          "name": "stdout",
          "text": [
            "5\n"
          ]
        }
      ]
    },
    {
      "cell_type": "code",
      "metadata": {
        "id": "jL86rAOAJs_d",
        "colab": {
          "base_uri": "https://localhost:8080/"
        },
        "outputId": "576a4f76-c0eb-43f2-8ce5-4edc6a0887ef"
      },
      "source": [
        "# Find first duplicate\n",
        "# No information on range !\n",
        "\n",
        "input = [1,2,5,3,5,3,3,4,6,3,3,2,2,4,6,6]\n",
        "\n",
        "arr_contains = {} # hash map to the resque\n",
        "for i in input:\n",
        "  if i in arr_contains:\n",
        "    print(i)\n",
        "    break\n",
        "  arr_contains[i] = True"
      ],
      "execution_count": 5,
      "outputs": [
        {
          "output_type": "stream",
          "name": "stdout",
          "text": [
            "5\n"
          ]
        }
      ]
    },
    {
      "cell_type": "code",
      "metadata": {
        "colab": {
          "base_uri": "https://localhost:8080/"
        },
        "id": "5mspfnrTBy5M",
        "outputId": "82e5dd82-1abe-484a-d4d6-9a28a59fe932"
      },
      "source": [
        "# Simplest hashing\n",
        "\n",
        "def hash(x):\n",
        "  return x % 10\n",
        "\n",
        "hash(27), hash(33), hash(147)"
      ],
      "execution_count": 6,
      "outputs": [
        {
          "output_type": "execute_result",
          "data": {
            "text/plain": [
              "(7, 3, 7)"
            ]
          },
          "metadata": {},
          "execution_count": 6
        }
      ]
    },
    {
      "cell_type": "markdown",
      "metadata": {
        "id": "1g9XEFbQELBS"
      },
      "source": [
        "$$\n",
        "h(x) \\neq h(y) \\rightarrow x \\neq y\n",
        "$$\n",
        "contrapositive:\n",
        "$$\n",
        "x = y \\rightarrow h(x) = h(y)\n",
        "$$\n",
        "but equality of hashes does not imply anything"
      ]
    },
    {
      "cell_type": "code",
      "metadata": {
        "colab": {
          "base_uri": "https://localhost:8080/"
        },
        "id": "wqNEszGAEJeA",
        "outputId": "a44b6989-e612-465e-9254-a9e6c541bfd8"
      },
      "source": [
        "# Different objects can be hashable\n",
        "\n",
        "class Student:\n",
        "  def __init__(self, name, age, mark):\n",
        "    self.name = name\n",
        "    self.age = age\n",
        "    self.mark = mark\n",
        "\n",
        "  # Bad hash, but still hash\n",
        "  def hash(self):\n",
        "    return (len(self.name) + 3*self.age + self.mark) % 10\n",
        "\n",
        "x = Student('Ivanov Ivan', 20, 4)\n",
        "x.hash()"
      ],
      "execution_count": 8,
      "outputs": [
        {
          "output_type": "execute_result",
          "data": {
            "text/plain": [
              "5"
            ]
          },
          "metadata": {},
          "execution_count": 8
        }
      ]
    },
    {
      "cell_type": "markdown",
      "metadata": {
        "id": "L82ecAmYFi0Q"
      },
      "source": [
        "* do not confuse hash for hash maps with cryptographic hash -- they have different purposes thus different requirements\n",
        "* you may be concerned how quick your hash works"
      ]
    },
    {
      "cell_type": "code",
      "metadata": {
        "colab": {
          "base_uri": "https://localhost:8080/"
        },
        "id": "4V4em75xFyDx",
        "outputId": "6692a3bd-a649-45ca-ee27-4b0bceb1b8b2"
      },
      "source": [
        "# Hash function should be deterministic !\n",
        "# Example below not allowed\n",
        "\n",
        "counter = 0\n",
        "def hash(x):\n",
        "  global counter\n",
        "  counter += 1\n",
        "  return (x + counter)\n",
        "\n",
        "hash(3), hash(3), hash(3)"
      ],
      "execution_count": 10,
      "outputs": [
        {
          "output_type": "execute_result",
          "data": {
            "text/plain": [
              "(4, 5, 6)"
            ]
          },
          "metadata": {},
          "execution_count": 10
        }
      ]
    },
    {
      "cell_type": "markdown",
      "metadata": {
        "id": "PgBGylHAGzB2"
      },
      "source": [
        "hash function:\n",
        "* deterministic\n",
        "* uniform\n",
        "* keys are hashable = keys are immutable"
      ]
    },
    {
      "cell_type": "code",
      "metadata": {
        "colab": {
          "base_uri": "https://localhost:8080/",
          "height": 163
        },
        "id": "DELntdWpGoiC",
        "outputId": "4da5e724-3dbf-4e67-db9d-691bcc8e6d86"
      },
      "source": [
        "# unhashable key ! ERROR\n",
        "{[1,2]: 3}"
      ],
      "execution_count": 11,
      "outputs": [
        {
          "output_type": "error",
          "ename": "TypeError",
          "evalue": "ignored",
          "traceback": [
            "\u001b[0;31m---------------------------------------------------------------------------\u001b[0m",
            "\u001b[0;31mTypeError\u001b[0m                                 Traceback (most recent call last)",
            "\u001b[0;32m<ipython-input-11-b728134b5d54>\u001b[0m in \u001b[0;36m<module>\u001b[0;34m()\u001b[0m\n\u001b[0;32m----> 1\u001b[0;31m \u001b[0;34m{\u001b[0m\u001b[0;34m[\u001b[0m\u001b[0;36m1\u001b[0m\u001b[0;34m,\u001b[0m\u001b[0;36m2\u001b[0m\u001b[0;34m]\u001b[0m\u001b[0;34m:\u001b[0m \u001b[0;36m3\u001b[0m\u001b[0;34m}\u001b[0m\u001b[0;34m\u001b[0m\u001b[0;34m\u001b[0m\u001b[0m\n\u001b[0m",
            "\u001b[0;31mTypeError\u001b[0m: unhashable type: 'list'"
          ]
        }
      ]
    },
    {
      "cell_type": "markdown",
      "metadata": {
        "id": "wNeIcX2wHxiA"
      },
      "source": [
        "What about **collisions** (i.e. $h(x) = h(y)$ but $x \\neq y$)?\n",
        "\n",
        "There are many techniques, but 2 most popular:\n",
        "\n",
        "* separate chaining (maintains data structure to hold all values in one bucket, e.g. list, binary tree, self-balancing tree, etc)\n",
        "* open adressing (finds another place in hash table by offsetting)\n",
        "\n",
        "Given a good hash-function and table size not much smaller than the number of elements:\n",
        "\n",
        "operation|average|worst\n",
        "---|---|---\n",
        "insertion|$O(1)$|$$O(n)$$\n",
        "removal|$O(1)$|$O(n)$\n",
        "search|$O(1)$|$O(n)$"
      ]
    }
  ]
}