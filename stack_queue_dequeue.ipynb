{
  "nbformat": 4,
  "nbformat_minor": 0,
  "metadata": {
    "colab": {
      "name": "stack_queue_dequeue.ipynb",
      "provenance": [],
      "authorship_tag": "ABX9TyMs3x/C+G4IL1/xnQv3TQD4",
      "include_colab_link": true
    },
    "kernelspec": {
      "name": "python3",
      "display_name": "Python 3"
    },
    "language_info": {
      "name": "python"
    }
  },
  "cells": [
    {
      "cell_type": "markdown",
      "metadata": {
        "id": "view-in-github",
        "colab_type": "text"
      },
      "source": [
        "<a href=\"https://colab.research.google.com/github/fbeilstein/algorithms/blob/master/stack_queue_dequeue.ipynb\" target=\"_parent\"><img src=\"https://colab.research.google.com/assets/colab-badge.svg\" alt=\"Open In Colab\"/></a>"
      ]
    },
    {
      "cell_type": "code",
      "metadata": {
        "colab": {
          "base_uri": "https://localhost:8080/"
        },
        "id": "POhzxlbFRfbr",
        "outputId": "3122a0aa-752c-4c8d-decd-9636f2624f7d"
      },
      "source": [
        "from collections import deque\n",
        "\n",
        "cache = deque()\n",
        "cache.append(12)\n",
        "cache.append(32)\n",
        "print(cache)"
      ],
      "execution_count": 9,
      "outputs": [
        {
          "output_type": "stream",
          "name": "stdout",
          "text": [
            "deque([12, 32])\n"
          ]
        }
      ]
    }
  ]
}