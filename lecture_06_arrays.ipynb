{
  "nbformat": 4,
  "nbformat_minor": 0,
  "metadata": {
    "colab": {
      "provenance": [],
      "include_colab_link": true
    },
    "kernelspec": {
      "name": "python3",
      "display_name": "Python 3"
    },
    "language_info": {
      "name": "python"
    }
  },
  "cells": [
    {
      "cell_type": "markdown",
      "metadata": {
        "id": "view-in-github",
        "colab_type": "text"
      },
      "source": [
        "<a href=\"https://colab.research.google.com/github/fbeilstein/algorithms/blob/master/lecture_06_arrays.ipynb\" target=\"_parent\"><img src=\"https://colab.research.google.com/assets/colab-badge.svg\" alt=\"Open In Colab\"/></a>"
      ]
    },
    {
      "cell_type": "markdown",
      "source": [
        "What is\n",
        "* subsequence\n",
        "* subarray\n",
        "\n",
        "What is\n",
        "* two pointers\n",
        "* sliding window\n",
        "\n",
        "What is\n",
        "* size\n",
        "* range\n",
        "\n",
        "Linear algos:\n",
        "* with/out memory\n",
        "* one/multiple pass\n"
      ],
      "metadata": {
        "id": "otx8AKCJlFfB"
      }
    },
    {
      "cell_type": "markdown",
      "source": [
        "# Max\n",
        "\n",
        "```\n",
        "Given an array nums of none-negative integers, return the maximum element\n",
        "```"
      ],
      "metadata": {
        "id": "-tyJENib45Ht"
      }
    },
    {
      "cell_type": "code",
      "source": [
        "def maximum(nums):\n",
        "  out = -1\n",
        "  for n in nums:\n",
        "    out=max(out, n)\n",
        "  return out"
      ],
      "metadata": {
        "id": "O0loidn15ARE"
      },
      "execution_count": null,
      "outputs": []
    },
    {
      "cell_type": "code",
      "source": [
        "def maximum(nums):\n",
        "  out = nums[0]\n",
        "  for n in nums:\n",
        "    out=max(out, n)\n",
        "  return out"
      ],
      "metadata": {
        "id": "1d7FIy4_UQjW"
      },
      "execution_count": null,
      "outputs": []
    },
    {
      "cell_type": "markdown",
      "source": [
        "# Third Max\n",
        "\n",
        "[414. Third Maximum Number](https://leetcode.com/problems/third-maximum-number/)\n",
        "\n",
        "```\n",
        "Given an integer array nums, return the third distinct maximum number in this array. If the third maximum does not exist, return the maximum number.\n",
        "\n",
        "Example 1:\n",
        "Input: nums = [3,2,1]\n",
        "Output: 1\n",
        "Explanation:\n",
        "The first distinct maximum is 3.\n",
        "The second distinct maximum is 2.\n",
        "The third distinct maximum is 1.\n",
        "\n",
        "Example 2:\n",
        "Input: nums = [1,2]\n",
        "Output: 2\n",
        "Explanation:\n",
        "The first distinct maximum is 2.\n",
        "The second distinct maximum is 1.\n",
        "The third distinct maximum does not exist, so the maximum (2) is returned instead.\n",
        "\n",
        "Example 3:\n",
        "Input: nums = [2,2,3,1]\n",
        "Output: 1\n",
        "Explanation:\n",
        "The first distinct maximum is 3.\n",
        "The second distinct maximum is 2 (both 2's are counted together since they have the same value).\n",
        "The third distinct maximum is 1.\n",
        "\n",
        "\n",
        "Constraints:\n",
        "1 <= nums.length <= 10^4\n",
        "-2^31 <= nums[i] <= 2^31 - 1\n",
        "```"
      ],
      "metadata": {
        "id": "DjquQa8tx8mg"
      }
    },
    {
      "cell_type": "code",
      "source": [
        "def thirdMax(nums):\n",
        "  one = two = three = -2**31-1\n",
        "  for n in nums:\n",
        "    if n > one:\n",
        "      one, two, three = n, one, two\n",
        "    elif n > two and n < one:\n",
        "      two, three = n, two\n",
        "    elif n > three and n < two:\n",
        "      three = n\n",
        "  return three if three != -2**31-1 else one"
      ],
      "metadata": {
        "id": "uz7vy6Vf4gKb"
      },
      "execution_count": 1,
      "outputs": []
    },
    {
      "cell_type": "markdown",
      "source": [
        "# Maximum value of ordered triplet\n",
        "\n",
        "[2873. Maximum Value of an Ordered Triplet I](https://leetcode.com/problems/maximum-value-of-an-ordered-triplet-i/)\n",
        "\n",
        "```\n",
        "You are given a 0-indexed integer array nums.\n",
        "\n",
        "Return the maximum value over all triplets of indices (i, j, k) such that i < j < k. If all such triplets have a negative value, return 0.\n",
        "\n",
        "The value of a triplet of indices (i, j, k) is equal to (nums[i] - nums[j]) * nums[k].\n",
        "\n",
        "Example 1:\n",
        "Input: nums = [12,6,1,2,7]\n",
        "Output: 77\n",
        "Explanation: The value of the triplet (0, 2, 4) is (nums[0] - nums[2]) * nums[4] = 77.\n",
        "It can be shown that there are no ordered triplets of indices with a value greater than 77.\n",
        "\n",
        "Example 2:\n",
        "Input: nums = [1,10,3,4,19]\n",
        "Output: 133\n",
        "Explanation: The value of the triplet (1, 2, 4) is (nums[1] - nums[2]) * nums[4] = 133.\n",
        "It can be shown that there are no ordered triplets of indices with a value greater than 133.\n",
        "\n",
        "Example 3:\n",
        "Input: nums = [1,2,3]\n",
        "Output: 0\n",
        "Explanation: The only ordered triplet of indices (0, 1, 2) has a negative value of (nums[0] - nums[1]) * nums[2] = -3. Hence, the answer would be 0.\n",
        "\n",
        "Constraints:\n",
        "3 <= nums.length <= 100\n",
        "1 <= nums[i] <= 10^6\n",
        "```"
      ],
      "metadata": {
        "id": "QQsi4aLEr2Xh"
      }
    },
    {
      "cell_type": "code",
      "source": [
        "def maximumTripletValue(nums):\n",
        "  out, M, D = 0, nums[0], 0\n",
        "  for n in nums:\n",
        "    out = max(out, D*n)\n",
        "    D = max(D, M-n)\n",
        "    M = max(M, n)\n",
        "  return out"
      ],
      "metadata": {
        "id": "GDq5gfJhr4Qn"
      },
      "execution_count": null,
      "outputs": []
    },
    {
      "cell_type": "markdown",
      "source": [
        "# Increasing triplet"
      ],
      "metadata": {
        "id": "LpAag0Vf4yl7"
      }
    },
    {
      "cell_type": "markdown",
      "source": [
        "[334. Increasing Triplet Subsequence](https://leetcode.com/problems/increasing-triplet-subsequence/)\n",
        "\n",
        "```\n",
        "Given an integer array nums, return true if there exists a triple of indices (i, j, k) such that i < j < k and nums[i] < nums[j] < nums[k]. If no such indices exists, return false.\n",
        "\n",
        "Example 1:\n",
        "Input: nums = [1,2,3,4,5]\n",
        "Output: true\n",
        "Explanation: Any triplet where i < j < k is valid.\n",
        "\n",
        "Example 2:\n",
        "Input: nums = [5,4,3,2,1]\n",
        "Output: false\n",
        "Explanation: No triplet exists.\n",
        "\n",
        "Example 3:\n",
        "Input: nums = [2,1,5,0,4,6]\n",
        "Output: true\n",
        "Explanation: The triplet (3, 4, 5) is valid because nums[3] == 0 < nums[4] == 4 < nums[5] == 6.\n",
        "\n",
        "Constraints:\n",
        "1 <= nums.length <= 5 * 10^5\n",
        "-2^31 <= nums[i] <= 2^31 - 1\n",
        "```"
      ],
      "metadata": {
        "id": "KSPxgtb0woUI"
      }
    },
    {
      "cell_type": "code",
      "source": [
        "def increasingTriplet(nums):\n",
        "  x = y = 2**31\n",
        "  for n in nums:\n",
        "    if n<=x:\n",
        "      x=n\n",
        "    elif n<=y:\n",
        "      y=n\n",
        "    else:\n",
        "      return True\n",
        "  return False"
      ],
      "metadata": {
        "id": "Ynr3cH-SxmX4"
      },
      "execution_count": null,
      "outputs": []
    },
    {
      "cell_type": "markdown",
      "source": [
        "[122. Best Time to Buy and Sell Stock II](https://leetcode.com/problems/best-time-to-buy-and-sell-stock-ii/discuss/1050256/greedy)"
      ],
      "metadata": {
        "id": "DS_mGtefzRnQ"
      }
    },
    {
      "cell_type": "markdown",
      "source": [
        "# Majority\n",
        "\n",
        "[169. Majority Element](https://leetcode.com/problems/majority-element/)\n",
        "\n",
        "```\n",
        "Given an array nums of size n, return the majority element.\n",
        "\n",
        "The majority element is the element that appears more than ⌊n / 2⌋ times. You may assume that the majority element always exists in the array.\n",
        "\n",
        "Example 1:\n",
        "Input: nums = [3,2,3]\n",
        "Output: 3\n",
        "\n",
        "Example 2:\n",
        "Input: nums = [2,2,1,1,1,2,2]\n",
        "Output: 2\n",
        "\n",
        "Constraints:\n",
        "n == nums.length\n",
        "1 <= n <= 5 * 104\n",
        "-10^9 <= nums[i] <= 10^9\n",
        "```"
      ],
      "metadata": {
        "id": "xoxY7ATikYVj"
      }
    },
    {
      "cell_type": "markdown",
      "source": [
        "bla bla bla"
      ],
      "metadata": {
        "id": "RL0OQr-Hkfhz"
      }
    },
    {
      "cell_type": "markdown",
      "source": [
        "# Find and invert\n",
        "\n",
        "[2375. Construct Smallest Number From DI String](https://leetcode.com/problems/construct-smallest-number-from-di-string/discuss/2444054/reverse-'s)\n",
        "\n",
        "```\n",
        "You are given a 0-indexed string pattern of length n consisting of the characters 'I' meaning increasing and 'D' meaning decreasing.\n",
        "A 0-indexed string num of length n + 1 is created using the following conditions:\n",
        "num consists of the digits '1' to '9', where each digit is used at most once.\n",
        "If pattern[i] == 'I', then num[i] < num[i + 1].\n",
        "If pattern[i] == 'D', then num[i] > num[i + 1].\n",
        "Return the lexicographically smallest possible string num that meets the conditions.\n",
        "\n",
        "Example 1:\n",
        "Input: pattern = \"IIIDIDDD\"\n",
        "Output: \"123549876\"\n",
        "Explanation:\n",
        "At indices 0, 1, 2, and 4 we must have that num[i] < num[i+1].\n",
        "At indices 3, 5, 6, and 7 we must have that num[i] > num[i+1].\n",
        "Some possible values of num are \"245639871\", \"135749862\", and \"123849765\".\n",
        "It can be proven that \"123549876\" is the smallest possible num that meets the conditions.\n",
        "Note that \"123414321\" is not possible because the digit '1' is used more than once.\n",
        "\n",
        "Example 2:\n",
        "Input: pattern = \"DDD\"\n",
        "Output: \"4321\"\n",
        "Explanation:\n",
        "Some possible values of num are \"9876\", \"7321\", and \"8742\".\n",
        "It can be proven that \"4321\" is the smallest possible num that meets the conditions.\n",
        "\n",
        "Constraints:\n",
        "1 <= pattern.length <= 8\n",
        "pattern consists of only the letters 'I' and 'D'.\n",
        "```"
      ],
      "metadata": {
        "id": "LL92FfwaXmSM"
      }
    },
    {
      "cell_type": "code",
      "source": [
        "def reverse(nums, l, r):\n",
        "  while l<r:\n",
        "    nums[l],nums[r] = nums[r],nums[l]\n",
        "    l += 1\n",
        "    r -= 1\n",
        "\n",
        "def smallestNumber(self, pattern):\n",
        "  out = [str(i+1) for i in range(0, len(pattern)+1)]\n",
        "  i = j = 0\n",
        "  while i<len(pattern):\n",
        "    while i<len(pattern) and pattern[i]=='I':\n",
        "      i += 1\n",
        "    j = i\n",
        "    while j<len(pattern) and pattern[j]=='D':\n",
        "      j += 1\n",
        "    reverse(out, i, j)\n",
        "    i = j\n",
        "  return ''.join(out)"
      ],
      "metadata": {
        "id": "y7MkRYzSSIwS"
      },
      "execution_count": null,
      "outputs": []
    },
    {
      "cell_type": "markdown",
      "source": [
        "# Rotate array\n",
        "\n",
        "[189. Rotate Array](https://leetcode.com/problems/rotate-array/)\n",
        "\n",
        "```\n",
        "Example 1:\n",
        "Input: nums = [1,2,3,4,5,6,7], k = 3\n",
        "Output: [5,6,7,1,2,3,4]\n",
        "Explanation:\n",
        "rotate 1 steps to the right: [7,1,2,3,4,5,6]\n",
        "rotate 2 steps to the right: [6,7,1,2,3,4,5]\n",
        "rotate 3 steps to the right: [5,6,7,1,2,3,4]\n",
        "\n",
        "Example 2:\n",
        "Input: nums = [-1,-100,3,99], k = 2\n",
        "Output: [3,99,-1,-100]\n",
        "Explanation:\n",
        "rotate 1 steps to the right: [99,-1,-100,3]\n",
        "rotate 2 steps to the right: [3,99,-1,-100]\n",
        "\n",
        "\n",
        "Constraints:\n",
        "1 <= nums.length <= 10^5\n",
        "-2^31 <= nums[i] <= 2^31 - 1\n",
        "0 <= k <= 10^5\n",
        "```"
      ],
      "metadata": {
        "id": "io3bfGRG_4z_"
      }
    },
    {
      "cell_type": "code",
      "source": [
        "def reverse(nums, l, r):\n",
        "  while l<r:\n",
        "    nums[l],nums[r] = nums[r],nums[l]\n",
        "    l += 1\n",
        "    r -= 1\n",
        "\n",
        "def rotate(nums, k):\n",
        "  k %= len(nums)\n",
        "  reverse(nums, 0, len(n)-k-1)\n",
        "  reverse(nums, len(n)-k, len(n)-1)\n",
        "  reverse(nums, 0, len(n)-1)\n",
        "\n",
        "n=[1,2,3,4,5,6,7,8,9,10]\n",
        "rotate(n,3)\n",
        "print(n)"
      ],
      "metadata": {
        "id": "dKa_P_pyOkXV",
        "colab": {
          "base_uri": "https://localhost:8080/"
        },
        "outputId": "8141ca4e-fb86-495a-f383-6c02680f69b5"
      },
      "execution_count": 22,
      "outputs": [
        {
          "output_type": "stream",
          "name": "stdout",
          "text": [
            "[8, 9, 10, 1, 2, 3, 4, 5, 6, 7]\n"
          ]
        }
      ]
    },
    {
      "cell_type": "code",
      "execution_count": null,
      "metadata": {
        "id": "6GCQie-Ewc5S",
        "cellView": "form",
        "outputId": "4bf233a8-2654-4fc3-96c5-5a4820b8dead",
        "colab": {
          "base_uri": "https://localhost:8080/",
          "height": 421
        }
      },
      "outputs": [
        {
          "output_type": "execute_result",
          "data": {
            "text/plain": [
              "<IPython.lib.display.YouTubeVideo at 0x7bebb01afb50>"
            ],
            "text/html": [
              "\n",
              "        <iframe\n",
              "            width=\"600\"\n",
              "            height=\"400\"\n",
              "            src=\"https://www.youtube.com/embed/JXDNfiO6cSA\"\n",
              "            frameborder=\"0\"\n",
              "            allowfullscreen\n",
              "            \n",
              "        ></iframe>\n",
              "        "
            ],
            "image/jpeg": "[encoded data removed]"
          },
          "metadata": {},
          "execution_count": 2
        }
      ],
      "source": [
        "#@title Rotate array\n",
        "from IPython.display import YouTubeVideo\n",
        "YouTubeVideo('JXDNfiO6cSA', width=600, height=400)"
      ]
    },
    {
      "cell_type": "markdown",
      "source": [
        "# U-turn"
      ],
      "metadata": {
        "id": "zuE5DkiXm6Q1"
      }
    },
    {
      "cell_type": "markdown",
      "source": [
        "[1574. Shortest Subarray to be Removed to Make Array Sorted](https://leetcode.com/problems/shortest-subarray-to-be-removed-to-make-array-sorted/)\n",
        "\n",
        "```\n",
        "Given an integer array nums, partition it into two (contiguous) subarrays left and right so that:\n",
        "\n",
        "* Every element in left is less than or equal to every element in right.\n",
        "* left and right are non-empty.\n",
        "* left has the smallest possible size.\n",
        "* Return the length of left after such a partitioning.\n",
        "\n",
        "Test cases are generated such that partitioning exists.\n",
        "\n",
        "Example 1:\n",
        "Input: arr = [1,2,3,10,4,2,3,5]\n",
        "Output: 3\n",
        "Explanation: The shortest subarray we can remove is [10,4,2] of length 3. The remaining elements after that will be [1,2,3,3,5] which are sorted.\n",
        "Another correct solution is to remove the subarray [3,10,4].\n",
        "\n",
        "Example 2:\n",
        "Input: arr = [5,4,3,2,1]\n",
        "Output: 4\n",
        "Explanation: Since the array is strictly decreasing, we can only keep a single element. Therefore we need to remove a subarray of length 4, either [5,4,3,2] or [4,3,2,1].\n",
        "\n",
        "Example 3:\n",
        "Input: arr = [1,2,3]\n",
        "Output: 0\n",
        "Explanation: The array is already non-decreasing. We do not need to remove any elements.\n",
        "\n",
        "\n",
        "Constraints:\n",
        "1 <= arr.length <= 105\n",
        "0 <= arr[i] <= 109\n",
        "```"
      ],
      "metadata": {
        "id": "Dm3hmBKfRMTI"
      }
    },
    {
      "cell_type": "code",
      "source": [
        "def findLengthOfShortestSubarray(nums):\n",
        "  j = len(nums)-1\n",
        "  while j and nums[j-1]<=nums[j]:\n",
        "    j -= 1\n",
        "\n",
        "  out,i = j,0\n",
        "  while i<len(nums) and (i==0 or nums[i-1]<=nums[i]):\n",
        "    if j<len(nums) and nums[j]<nums[i] or j<=i:\n",
        "      j += 1\n",
        "    else:\n",
        "      i += 1\n",
        "    out = min(out, j-i)\n",
        "  return out"
      ],
      "metadata": {
        "id": "8o99GiP4F65V"
      },
      "execution_count": 20,
      "outputs": []
    },
    {
      "cell_type": "markdown",
      "source": [
        "What is lexicographical order"
      ],
      "metadata": {
        "id": "B-dIb4l5yrbi"
      }
    },
    {
      "cell_type": "markdown",
      "source": [
        "[31. Next Permutation](https://leetcode.com/problems/next-permutation/)\n",
        "\n",
        "```\n",
        "A permutation of an array of integers is an arrangement of its members into a sequence or linear order.\n",
        "\n",
        "For example, for arr = [1,2,3], the following are all the permutations of arr: [1,2,3], [1,3,2], [2, 1, 3], [2, 3, 1], [3,1,2], [3,2,1].\n",
        "The next permutation of an array of integers is the next lexicographically greater permutation of its integer.\n",
        "More formally, if all the permutations of the array are sorted in one container according to their lexicographical order, then the next permutation of that array is the permutation that follows it in the sorted container.\n",
        "If such arrangement is not possible, the array must be rearranged as the lowest possible order (i.e., sorted in ascending order).\n",
        "For example, the next permutation of arr = [1,2,3] is [1,3,2].\n",
        "Similarly, the next permutation of arr = [2,3,1] is [3,1,2].\n",
        "While the next permutation of arr = [3,2,1] is [1,2,3] because [3,2,1] does not have a lexicographical larger rearrangement.\n",
        "Given an array of integers nums, find the next permutation of nums. The replacement must be in place and use only constant extra memory.\n",
        "\n",
        "Example 1:\n",
        "Input: nums = [1,2,3]\n",
        "Output: [1,3,2]\n",
        "\n",
        "Example 2:\n",
        "Input: nums = [3,2,1]\n",
        "Output: [1,2,3]\n",
        "\n",
        "Example 3:\n",
        "Input: nums = [1,1,5]\n",
        "Output: [1,5,1]\n",
        "\n",
        "Constraints:\n",
        "1 <= nums.length <= 100\n",
        "0 <= nums[i] <= 100\n",
        "```"
      ],
      "metadata": {
        "id": "ya1rEuV6Ebo9"
      }
    },
    {
      "cell_type": "code",
      "source": [
        "def reverse(nums, l, r):\n",
        "    while l<r:\n",
        "        nums[l],nums[r] = nums[r],nums[l]\n",
        "        l += 1\n",
        "        r -= 1\n",
        "\n",
        "def nextPermutation(self, nums):\n",
        "  i = len(nums)-1\n",
        "  while i and nums[i-1]>=nums[i]:\n",
        "    i -= 1\n",
        "\n",
        "  if i:\n",
        "    j=i\n",
        "    while j<len(nums) and nums[i-1]<nums[j]:\n",
        "      j += 1\n",
        "      nums[i-1],nums[j-1] = nums[j-1],nums[i-1]\n",
        "  reverse(nums, i, len(nums)-1)"
      ],
      "metadata": {
        "id": "taWXu6QOO-k5"
      },
      "execution_count": 21,
      "outputs": []
    },
    {
      "cell_type": "markdown",
      "source": [
        "# Merge\n",
        "\n",
        "[Merge Sorted Arrays](https://leetcode.com/problems/merge-sorted-array/)\n",
        "\n",
        "```\n",
        "You are given two integer arrays nums1 and nums2, sorted in non-decreasing order, and two integers m and n, representing the number of elements in nums1 and nums2 respectively.\n",
        "Merge nums1 and nums2 into a single array sorted in non-decreasing order.\n",
        "The final sorted array should not be returned by the function, but instead be stored inside the array nums1.\n",
        "To accommodate this, nums1 has a length of m + n, where the first m elements denote the elements that should be merged, and the last n elements are set to 0 and should be ignored. nums2 has a length of n.\n",
        "\n",
        "\n",
        "Example 1:\n",
        "Input: nums1 = [1,2,3,0,0,0], m = 3, nums2 = [2,5,6], n = 3\n",
        "Output: [1,2,2,3,5,6]\n",
        "Explanation: The arrays we are merging are [1,2,3] and [2,5,6].\n",
        "The result of the merge is [1,2,2,3,5,6] with the underlined elements coming from nums1.\n",
        "\n",
        "Example 2:\n",
        "Input: nums1 = [1], m = 1, nums2 = [], n = 0\n",
        "Output: [1]\n",
        "Explanation: The arrays we are merging are [1] and [].\n",
        "The result of the merge is [1].\n",
        "\n",
        "Example 3:\n",
        "Input: nums1 = [0], m = 0, nums2 = [1], n = 1\n",
        "Output: [1]\n",
        "Explanation: The arrays we are merging are [] and [1].\n",
        "The result of the merge is [1].\n",
        "Note that because m = 0, there are no elements in nums1. The 0 is only there to ensure the merge result can fit in nums1.\n",
        "\n",
        "Constraints:\n",
        "nums1.length == m + n\n",
        "nums2.length == n\n",
        "0 <= m, n <= 200\n",
        "1 <= m + n <= 200\n",
        "-109 <= nums1[i], nums2[j] <= 109\n",
        "```"
      ],
      "metadata": {
        "id": "DzgMpWEGJXG3"
      }
    },
    {
      "cell_type": "code",
      "source": [
        "def merge(x,y):\n",
        "  i,j = 0,0\n",
        "  out = []\n",
        "  while i+j<len(x)+len(y):\n",
        "    if j==len(y) or i<len(x) and x[i]<y[j]:\n",
        "      out += [x[i]]\n",
        "      i += 1\n",
        "    else :\n",
        "      out += [y[j]]\n",
        "      j += 1\n",
        "  return out"
      ],
      "metadata": {
        "id": "zzyopg09OfoN"
      },
      "execution_count": null,
      "outputs": []
    },
    {
      "cell_type": "markdown",
      "source": [
        "# Partition"
      ],
      "metadata": {
        "id": "IsaaoE0cR80m"
      }
    },
    {
      "cell_type": "markdown",
      "source": [
        "Similar problem: https://leetcode.com/problems/sort-array-by-parity/discuss/1150627/6%2B-solutions"
      ],
      "metadata": {
        "id": "FiJqgD-WR7tB"
      }
    },
    {
      "cell_type": "markdown",
      "source": [
        "```\n",
        "Given an integer array nums and an integer t. You task is to do a partition:\n",
        "all numbers less than t must appear before any number that is greater than t.\n",
        "```"
      ],
      "metadata": {
        "id": "NyFxrFK5DGAl"
      }
    },
    {
      "cell_type": "code",
      "source": [],
      "metadata": {
        "id": "ufalVwZPoX3Q"
      },
      "execution_count": 16,
      "outputs": []
    },
    {
      "cell_type": "code",
      "source": [
        "def partition(nums, t):\n",
        "  i = j = 0\n",
        "  while j<len(nums):\n",
        "    if nums[j]<=t:\n",
        "      nums[i], nums[j] = nums[j], nums[i]\n",
        "      i += 1\n",
        "    j += 1\n",
        "    return nums\n",
        "\n",
        "def partition1(nums, t):\n",
        "  i,j = 0, len(nums)-1\n",
        "  while i<j:\n",
        "    if nums[i]>=t:\n",
        "      nums[i], nums[j] = nums[j], nums[i]\n",
        "      j -= 1\n",
        "    i += 1\n",
        "    return nums\n",
        "\n",
        "n = [100,5,10,15,17,20,100,1]\n",
        "print(partition1(n,-2))\n",
        "print(n)"
      ],
      "metadata": {
        "colab": {
          "base_uri": "https://localhost:8080/"
        },
        "id": "uThnLvt09iQP",
        "outputId": "138ee10c-b15c-4de4-8678-f3e91043d154"
      },
      "execution_count": 19,
      "outputs": [
        {
          "output_type": "stream",
          "name": "stdout",
          "text": [
            "3\n",
            "[1, 100, 20, 17, 15, 10, 5, 100]\n"
          ]
        }
      ]
    },
    {
      "cell_type": "markdown",
      "source": [
        "# Two pointers\n",
        "\n",
        "3-4 problems"
      ],
      "metadata": {
        "id": "KL2hkoVkmtkR"
      }
    },
    {
      "cell_type": "markdown",
      "source": [
        "# Dutch flag\n",
        "\n",
        "[75. Sort Colors](https://leetcode.com/problems/sort-colors/)\n",
        "\n",
        "```\n",
        "Given an array nums with n objects colored red, white, or blue, sort them in-place so that objects of the same color are adjacent, with the colors in the order red, white, and blue.\n",
        "We will use the integers 0, 1, and 2 to represent the color red, white, and blue, respectively.\n",
        "You must solve this problem without using the library's sort function.\n",
        "\n",
        "Example 1:\n",
        "Input: nums = [2,0,2,1,1,0]\n",
        "Output: [0,0,1,1,2,2]\n",
        "\n",
        "Example 2:\n",
        "Input: nums = [2,0,1]\n",
        "Output: [0,1,2]\n",
        "\n",
        "Constraints:\n",
        "n == nums.length\n",
        "1 <= n <= 300\n",
        "nums[i] is either 0, 1, or 2.\n",
        "```"
      ],
      "metadata": {
        "id": "PF4RPTWFTEjv"
      }
    },
    {
      "cell_type": "code",
      "source": [
        "def sortColors(n):\n",
        "  i,j,k = 0,0,len(n)-1\n",
        "  while j<=k:\n",
        "    match n[j]:\n",
        "      case 0:\n",
        "        n[i],n[j] = n[j],n[i];\n",
        "        i += 1\n",
        "        j += 1\n",
        "      case 1:\n",
        "        j += 1\n",
        "      case 2:\n",
        "        n[j],n[k] = n[k],n[j];\n",
        "        k -= 1"
      ],
      "metadata": {
        "id": "rh1-VVqSOaIm"
      },
      "execution_count": null,
      "outputs": []
    },
    {
      "cell_type": "markdown",
      "source": [
        "# Running sum"
      ],
      "metadata": {
        "id": "JuWDYdM1yZX3"
      }
    },
    {
      "cell_type": "markdown",
      "source": [
        "# Some problems with associative array ?"
      ],
      "metadata": {
        "id": "dtmIAX5hyd3S"
      }
    }
  ]
}