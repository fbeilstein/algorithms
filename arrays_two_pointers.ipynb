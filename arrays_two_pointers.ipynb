{
  "nbformat": 4,
  "nbformat_minor": 0,
  "metadata": {
    "colab": {
      "name": "arrays.ipynb",
      "provenance": [],
      "include_colab_link": true
    },
    "kernelspec": {
      "name": "python3",
      "display_name": "Python 3"
    }
  },
  "cells": [
    {
      "cell_type": "markdown",
      "metadata": {
        "id": "view-in-github",
        "colab_type": "text"
      },
      "source": [
        "<a href=\"https://colab.research.google.com/github/fbeilstein/algorithms/blob/master/arrays_two_pointers.ipynb\" target=\"_parent\"><img src=\"https://colab.research.google.com/assets/colab-badge.svg\" alt=\"Open In Colab\"/></a>"
      ]
    },
    {
      "cell_type": "code",
      "metadata": {
        "id": "vhPhMPbxc5V0",
        "cellView": "form"
      },
      "source": [
        "#@title Visualization code\n",
        "\n",
        "str_style = '''\n",
        "<style>\n",
        "table {\n",
        "  border-collapse: collapse;\n",
        "}\n",
        "\n",
        "td {\n",
        "  min-width:30px;\n",
        "  height: 30px;\n",
        "  position: relative; \n",
        "  text-align:center; \n",
        "  color: #00000080;\n",
        "  font-size:20px;\n",
        "  font-weight: bolder;\n",
        "  padding: 19px;\n",
        "}\n",
        "\n",
        ".border {\n",
        "  border: 2px solid #d6d6d6ff;\n",
        "}\n",
        "\n",
        ".noborder {\n",
        "  border: 0px;\n",
        "}\n",
        "</style>\n",
        "'''\n",
        "\n",
        "def enclose_element(element, color, txt_color, border=True):\n",
        "  res  = '\\t<td bgcolor=\"' + color + '\" '\n",
        "  res += 'class=\"border\"' if border else 'class=\"noborder\"'\n",
        "  if txt_color: res += 'style=\"color:' + str(txt_color) + '\" ';\n",
        "  res += '>' + str(element) + '</td>'\n",
        "  return res\n",
        "\n",
        "def horizontal_tbl(array, colors, txt_colors, borders):\n",
        "  result = '<table>\\n'\n",
        "  for row, c_row, tc_row, has_border in zip(array, colors, txt_colors, borders):\n",
        "    result += '<tr>\\n'\n",
        "    for e, c, tc in zip(row, c_row, tc_row):\n",
        "      result += enclose_element(e, c, tc, has_border) + '\\n'\n",
        "    result += '</tr>\\n'\n",
        "  result += '</table>\\n'\n",
        "  return result\n",
        "\n",
        "def array_to_html(array, colors, txt_colors, borders):\n",
        "  return str_style + horizontal_tbl(array, colors, txt_colors, borders)\n",
        "\n",
        "def visualize_array(array, colors, txt_colors, borders):\n",
        "  array_str = array_to_html(array, colors, txt_colors, borders)\n",
        "  import IPython\n",
        "  from google.colab import output\n",
        "  display(IPython.display.HTML(array_str))\n"
      ],
      "execution_count": null,
      "outputs": []
    },
    {
      "cell_type": "markdown",
      "metadata": {
        "id": "Cqt7I_NdIWZK"
      },
      "source": [
        "## Arithmetic Slices"
      ]
    },
    {
      "cell_type": "code",
      "metadata": {
        "id": "oiB1RydQIVvP"
      },
      "source": [
        "class Solution:\n",
        "    def numberOfArithmeticSlices(self, nums: List[int]) -> int:\n",
        "        if len(nums) < 3:\n",
        "            return 0\n",
        "        diff = nums[1] - nums[0]\n",
        "        old_elem = nums[1]\n",
        "        distance = 0\n",
        "        out = 0\n",
        "        for e in nums[2:]:\n",
        "            if e - old_elem == diff:\n",
        "                distance += 1\n",
        "                out += distance\n",
        "            else:\n",
        "                distance = 0\n",
        "                diff = e - old_elem\n",
        "            old_elem = e\n",
        "        return out"
      ],
      "execution_count": null,
      "outputs": []
    },
    {
      "cell_type": "markdown",
      "metadata": {
        "id": "fW7bWqCTVK2u"
      },
      "source": [
        "![](https://assets.leetcode.com/users/images/32c39a91-9b51-476d-889b-50fae198f402_1611970000.094286.png)"
      ]
    },
    {
      "cell_type": "markdown",
      "metadata": {
        "id": "sbajR9ZBYbfm"
      },
      "source": [
        "## Detect Pattern of Length M Repeated K or More Times"
      ]
    },
    {
      "cell_type": "code",
      "metadata": {
        "id": "EAPQoAyBYgNj"
      },
      "source": [
        "class Solution:\n",
        "    def containsPattern(self, arr: List[int], m: int, k: int) -> bool:\n",
        "        accumulator = 0\n",
        "        for idx in range(m, len(arr)):\n",
        "            if arr[idx] == arr[idx - m]:\n",
        "                accumulator += 1\n",
        "                if accumulator >= m*(k-1):\n",
        "                    return True\n",
        "            else:\n",
        "                accumulator = 0\n",
        "        return False"
      ],
      "execution_count": null,
      "outputs": []
    },
    {
      "cell_type": "code",
      "metadata": {
        "colab": {
          "base_uri": "https://localhost:8080/",
          "height": 734
        },
        "id": "bMmOOASbZyn0",
        "outputId": "60482bc4-b4d4-4510-ce34-6bc5e76882b4"
      },
      "source": [
        "arr = [1,3,1,1,2,1,2,1,1,1,3]\n",
        "m = 2\n",
        "k = 2\n",
        "\n",
        "accumulator = 0\n",
        "colors = [['#ffffff'] * len(arr), ['#ffffff'] * len(arr)]\n",
        "for idx in range(m, len(arr)):\n",
        "  disp = [arr, [\"\"] * len(arr)]\n",
        "  disp[1][idx] += '<b style=\"color:green\">↑</b>'\n",
        "  disp[1][idx - m] += '<b style=\"color:red\">↑</b>'\n",
        "  if arr[idx] == arr[idx - m]:\n",
        "    accumulator += 1\n",
        "    colors[0][idx-m] = '#00aa00'\n",
        "    visualize_array(disp, colors, [['#000000'] * len(arr)] * 2, [True, False])\n",
        "    if accumulator >= m*(k-1):\n",
        "      print(True)\n",
        "      break\n",
        "  else:\n",
        "    visualize_array(disp, colors, [['#000000'] * len(arr)] * 2, [True, False])\n",
        "    accumulator = 0\n",
        "  \n",
        "else:\n",
        "  print(False)"
      ],
      "execution_count": null,
      "outputs": [
        {
          "output_type": "display_data",
          "data": {
            "text/html": [
              "\n",
              "<style>\n",
              "table {\n",
              "  border-collapse: collapse;\n",
              "}\n",
              "\n",
              "td {\n",
              "  min-width:30px;\n",
              "  height: 30px;\n",
              "  position: relative; \n",
              "  text-align:center; \n",
              "  color: #00000080;\n",
              "  font-size:20px;\n",
              "  font-weight: bolder;\n",
              "  padding: 19px;\n",
              "}\n",
              "\n",
              ".border {\n",
              "  border: 2px solid #d6d6d6ff;\n",
              "}\n",
              "\n",
              ".noborder {\n",
              "  border: 0px;\n",
              "}\n",
              "</style>\n",
              "<table>\n",
              "<tr>\n",
              "\t<td bgcolor=\"#00aa00\" class=\"border\"style=\"color:#000000\" >1</td>\n",
              "\t<td bgcolor=\"#ffffff\" class=\"border\"style=\"color:#000000\" >3</td>\n",
              "\t<td bgcolor=\"#ffffff\" class=\"border\"style=\"color:#000000\" >1</td>\n",
              "\t<td bgcolor=\"#ffffff\" class=\"border\"style=\"color:#000000\" >1</td>\n",
              "\t<td bgcolor=\"#ffffff\" class=\"border\"style=\"color:#000000\" >2</td>\n",
              "\t<td bgcolor=\"#ffffff\" class=\"border\"style=\"color:#000000\" >1</td>\n",
              "\t<td bgcolor=\"#ffffff\" class=\"border\"style=\"color:#000000\" >2</td>\n",
              "\t<td bgcolor=\"#ffffff\" class=\"border\"style=\"color:#000000\" >1</td>\n",
              "\t<td bgcolor=\"#ffffff\" class=\"border\"style=\"color:#000000\" >1</td>\n",
              "\t<td bgcolor=\"#ffffff\" class=\"border\"style=\"color:#000000\" >1</td>\n",
              "\t<td bgcolor=\"#ffffff\" class=\"border\"style=\"color:#000000\" >3</td>\n",
              "</tr>\n",
              "<tr>\n",
              "\t<td bgcolor=\"#ffffff\" class=\"noborder\"style=\"color:#000000\" ><b style=\"color:red\">↑</b></td>\n",
              "\t<td bgcolor=\"#ffffff\" class=\"noborder\"style=\"color:#000000\" ></td>\n",
              "\t<td bgcolor=\"#ffffff\" class=\"noborder\"style=\"color:#000000\" ><b style=\"color:green\">↑</b></td>\n",
              "\t<td bgcolor=\"#ffffff\" class=\"noborder\"style=\"color:#000000\" ></td>\n",
              "\t<td bgcolor=\"#ffffff\" class=\"noborder\"style=\"color:#000000\" ></td>\n",
              "\t<td bgcolor=\"#ffffff\" class=\"noborder\"style=\"color:#000000\" ></td>\n",
              "\t<td bgcolor=\"#ffffff\" class=\"noborder\"style=\"color:#000000\" ></td>\n",
              "\t<td bgcolor=\"#ffffff\" class=\"noborder\"style=\"color:#000000\" ></td>\n",
              "\t<td bgcolor=\"#ffffff\" class=\"noborder\"style=\"color:#000000\" ></td>\n",
              "\t<td bgcolor=\"#ffffff\" class=\"noborder\"style=\"color:#000000\" ></td>\n",
              "\t<td bgcolor=\"#ffffff\" class=\"noborder\"style=\"color:#000000\" ></td>\n",
              "</tr>\n",
              "</table>\n"
            ],
            "text/plain": [
              "<IPython.core.display.HTML object>"
            ]
          },
          "metadata": {}
        },
        {
          "output_type": "display_data",
          "data": {
            "text/html": [
              "\n",
              "<style>\n",
              "table {\n",
              "  border-collapse: collapse;\n",
              "}\n",
              "\n",
              "td {\n",
              "  min-width:30px;\n",
              "  height: 30px;\n",
              "  position: relative; \n",
              "  text-align:center; \n",
              "  color: #00000080;\n",
              "  font-size:20px;\n",
              "  font-weight: bolder;\n",
              "  padding: 19px;\n",
              "}\n",
              "\n",
              ".border {\n",
              "  border: 2px solid #d6d6d6ff;\n",
              "}\n",
              "\n",
              ".noborder {\n",
              "  border: 0px;\n",
              "}\n",
              "</style>\n",
              "<table>\n",
              "<tr>\n",
              "\t<td bgcolor=\"#00aa00\" class=\"border\"style=\"color:#000000\" >1</td>\n",
              "\t<td bgcolor=\"#ffffff\" class=\"border\"style=\"color:#000000\" >3</td>\n",
              "\t<td bgcolor=\"#ffffff\" class=\"border\"style=\"color:#000000\" >1</td>\n",
              "\t<td bgcolor=\"#ffffff\" class=\"border\"style=\"color:#000000\" >1</td>\n",
              "\t<td bgcolor=\"#ffffff\" class=\"border\"style=\"color:#000000\" >2</td>\n",
              "\t<td bgcolor=\"#ffffff\" class=\"border\"style=\"color:#000000\" >1</td>\n",
              "\t<td bgcolor=\"#ffffff\" class=\"border\"style=\"color:#000000\" >2</td>\n",
              "\t<td bgcolor=\"#ffffff\" class=\"border\"style=\"color:#000000\" >1</td>\n",
              "\t<td bgcolor=\"#ffffff\" class=\"border\"style=\"color:#000000\" >1</td>\n",
              "\t<td bgcolor=\"#ffffff\" class=\"border\"style=\"color:#000000\" >1</td>\n",
              "\t<td bgcolor=\"#ffffff\" class=\"border\"style=\"color:#000000\" >3</td>\n",
              "</tr>\n",
              "<tr>\n",
              "\t<td bgcolor=\"#ffffff\" class=\"noborder\"style=\"color:#000000\" ></td>\n",
              "\t<td bgcolor=\"#ffffff\" class=\"noborder\"style=\"color:#000000\" ><b style=\"color:red\">↑</b></td>\n",
              "\t<td bgcolor=\"#ffffff\" class=\"noborder\"style=\"color:#000000\" ></td>\n",
              "\t<td bgcolor=\"#ffffff\" class=\"noborder\"style=\"color:#000000\" ><b style=\"color:green\">↑</b></td>\n",
              "\t<td bgcolor=\"#ffffff\" class=\"noborder\"style=\"color:#000000\" ></td>\n",
              "\t<td bgcolor=\"#ffffff\" class=\"noborder\"style=\"color:#000000\" ></td>\n",
              "\t<td bgcolor=\"#ffffff\" class=\"noborder\"style=\"color:#000000\" ></td>\n",
              "\t<td bgcolor=\"#ffffff\" class=\"noborder\"style=\"color:#000000\" ></td>\n",
              "\t<td bgcolor=\"#ffffff\" class=\"noborder\"style=\"color:#000000\" ></td>\n",
              "\t<td bgcolor=\"#ffffff\" class=\"noborder\"style=\"color:#000000\" ></td>\n",
              "\t<td bgcolor=\"#ffffff\" class=\"noborder\"style=\"color:#000000\" ></td>\n",
              "</tr>\n",
              "</table>\n"
            ],
            "text/plain": [
              "<IPython.core.display.HTML object>"
            ]
          },
          "metadata": {}
        },
        {
          "output_type": "display_data",
          "data": {
            "text/html": [
              "\n",
              "<style>\n",
              "table {\n",
              "  border-collapse: collapse;\n",
              "}\n",
              "\n",
              "td {\n",
              "  min-width:30px;\n",
              "  height: 30px;\n",
              "  position: relative; \n",
              "  text-align:center; \n",
              "  color: #00000080;\n",
              "  font-size:20px;\n",
              "  font-weight: bolder;\n",
              "  padding: 19px;\n",
              "}\n",
              "\n",
              ".border {\n",
              "  border: 2px solid #d6d6d6ff;\n",
              "}\n",
              "\n",
              ".noborder {\n",
              "  border: 0px;\n",
              "}\n",
              "</style>\n",
              "<table>\n",
              "<tr>\n",
              "\t<td bgcolor=\"#00aa00\" class=\"border\"style=\"color:#000000\" >1</td>\n",
              "\t<td bgcolor=\"#ffffff\" class=\"border\"style=\"color:#000000\" >3</td>\n",
              "\t<td bgcolor=\"#ffffff\" class=\"border\"style=\"color:#000000\" >1</td>\n",
              "\t<td bgcolor=\"#ffffff\" class=\"border\"style=\"color:#000000\" >1</td>\n",
              "\t<td bgcolor=\"#ffffff\" class=\"border\"style=\"color:#000000\" >2</td>\n",
              "\t<td bgcolor=\"#ffffff\" class=\"border\"style=\"color:#000000\" >1</td>\n",
              "\t<td bgcolor=\"#ffffff\" class=\"border\"style=\"color:#000000\" >2</td>\n",
              "\t<td bgcolor=\"#ffffff\" class=\"border\"style=\"color:#000000\" >1</td>\n",
              "\t<td bgcolor=\"#ffffff\" class=\"border\"style=\"color:#000000\" >1</td>\n",
              "\t<td bgcolor=\"#ffffff\" class=\"border\"style=\"color:#000000\" >1</td>\n",
              "\t<td bgcolor=\"#ffffff\" class=\"border\"style=\"color:#000000\" >3</td>\n",
              "</tr>\n",
              "<tr>\n",
              "\t<td bgcolor=\"#ffffff\" class=\"noborder\"style=\"color:#000000\" ></td>\n",
              "\t<td bgcolor=\"#ffffff\" class=\"noborder\"style=\"color:#000000\" ></td>\n",
              "\t<td bgcolor=\"#ffffff\" class=\"noborder\"style=\"color:#000000\" ><b style=\"color:red\">↑</b></td>\n",
              "\t<td bgcolor=\"#ffffff\" class=\"noborder\"style=\"color:#000000\" ></td>\n",
              "\t<td bgcolor=\"#ffffff\" class=\"noborder\"style=\"color:#000000\" ><b style=\"color:green\">↑</b></td>\n",
              "\t<td bgcolor=\"#ffffff\" class=\"noborder\"style=\"color:#000000\" ></td>\n",
              "\t<td bgcolor=\"#ffffff\" class=\"noborder\"style=\"color:#000000\" ></td>\n",
              "\t<td bgcolor=\"#ffffff\" class=\"noborder\"style=\"color:#000000\" ></td>\n",
              "\t<td bgcolor=\"#ffffff\" class=\"noborder\"style=\"color:#000000\" ></td>\n",
              "\t<td bgcolor=\"#ffffff\" class=\"noborder\"style=\"color:#000000\" ></td>\n",
              "\t<td bgcolor=\"#ffffff\" class=\"noborder\"style=\"color:#000000\" ></td>\n",
              "</tr>\n",
              "</table>\n"
            ],
            "text/plain": [
              "<IPython.core.display.HTML object>"
            ]
          },
          "metadata": {}
        },
        {
          "output_type": "display_data",
          "data": {
            "text/html": [
              "\n",
              "<style>\n",
              "table {\n",
              "  border-collapse: collapse;\n",
              "}\n",
              "\n",
              "td {\n",
              "  min-width:30px;\n",
              "  height: 30px;\n",
              "  position: relative; \n",
              "  text-align:center; \n",
              "  color: #00000080;\n",
              "  font-size:20px;\n",
              "  font-weight: bolder;\n",
              "  padding: 19px;\n",
              "}\n",
              "\n",
              ".border {\n",
              "  border: 2px solid #d6d6d6ff;\n",
              "}\n",
              "\n",
              ".noborder {\n",
              "  border: 0px;\n",
              "}\n",
              "</style>\n",
              "<table>\n",
              "<tr>\n",
              "\t<td bgcolor=\"#00aa00\" class=\"border\"style=\"color:#000000\" >1</td>\n",
              "\t<td bgcolor=\"#ffffff\" class=\"border\"style=\"color:#000000\" >3</td>\n",
              "\t<td bgcolor=\"#ffffff\" class=\"border\"style=\"color:#000000\" >1</td>\n",
              "\t<td bgcolor=\"#00aa00\" class=\"border\"style=\"color:#000000\" >1</td>\n",
              "\t<td bgcolor=\"#ffffff\" class=\"border\"style=\"color:#000000\" >2</td>\n",
              "\t<td bgcolor=\"#ffffff\" class=\"border\"style=\"color:#000000\" >1</td>\n",
              "\t<td bgcolor=\"#ffffff\" class=\"border\"style=\"color:#000000\" >2</td>\n",
              "\t<td bgcolor=\"#ffffff\" class=\"border\"style=\"color:#000000\" >1</td>\n",
              "\t<td bgcolor=\"#ffffff\" class=\"border\"style=\"color:#000000\" >1</td>\n",
              "\t<td bgcolor=\"#ffffff\" class=\"border\"style=\"color:#000000\" >1</td>\n",
              "\t<td bgcolor=\"#ffffff\" class=\"border\"style=\"color:#000000\" >3</td>\n",
              "</tr>\n",
              "<tr>\n",
              "\t<td bgcolor=\"#ffffff\" class=\"noborder\"style=\"color:#000000\" ></td>\n",
              "\t<td bgcolor=\"#ffffff\" class=\"noborder\"style=\"color:#000000\" ></td>\n",
              "\t<td bgcolor=\"#ffffff\" class=\"noborder\"style=\"color:#000000\" ></td>\n",
              "\t<td bgcolor=\"#ffffff\" class=\"noborder\"style=\"color:#000000\" ><b style=\"color:red\">↑</b></td>\n",
              "\t<td bgcolor=\"#ffffff\" class=\"noborder\"style=\"color:#000000\" ></td>\n",
              "\t<td bgcolor=\"#ffffff\" class=\"noborder\"style=\"color:#000000\" ><b style=\"color:green\">↑</b></td>\n",
              "\t<td bgcolor=\"#ffffff\" class=\"noborder\"style=\"color:#000000\" ></td>\n",
              "\t<td bgcolor=\"#ffffff\" class=\"noborder\"style=\"color:#000000\" ></td>\n",
              "\t<td bgcolor=\"#ffffff\" class=\"noborder\"style=\"color:#000000\" ></td>\n",
              "\t<td bgcolor=\"#ffffff\" class=\"noborder\"style=\"color:#000000\" ></td>\n",
              "\t<td bgcolor=\"#ffffff\" class=\"noborder\"style=\"color:#000000\" ></td>\n",
              "</tr>\n",
              "</table>\n"
            ],
            "text/plain": [
              "<IPython.core.display.HTML object>"
            ]
          },
          "metadata": {}
        },
        {
          "output_type": "display_data",
          "data": {
            "text/html": [
              "\n",
              "<style>\n",
              "table {\n",
              "  border-collapse: collapse;\n",
              "}\n",
              "\n",
              "td {\n",
              "  min-width:30px;\n",
              "  height: 30px;\n",
              "  position: relative; \n",
              "  text-align:center; \n",
              "  color: #00000080;\n",
              "  font-size:20px;\n",
              "  font-weight: bolder;\n",
              "  padding: 19px;\n",
              "}\n",
              "\n",
              ".border {\n",
              "  border: 2px solid #d6d6d6ff;\n",
              "}\n",
              "\n",
              ".noborder {\n",
              "  border: 0px;\n",
              "}\n",
              "</style>\n",
              "<table>\n",
              "<tr>\n",
              "\t<td bgcolor=\"#00aa00\" class=\"border\"style=\"color:#000000\" >1</td>\n",
              "\t<td bgcolor=\"#ffffff\" class=\"border\"style=\"color:#000000\" >3</td>\n",
              "\t<td bgcolor=\"#ffffff\" class=\"border\"style=\"color:#000000\" >1</td>\n",
              "\t<td bgcolor=\"#00aa00\" class=\"border\"style=\"color:#000000\" >1</td>\n",
              "\t<td bgcolor=\"#00aa00\" class=\"border\"style=\"color:#000000\" >2</td>\n",
              "\t<td bgcolor=\"#ffffff\" class=\"border\"style=\"color:#000000\" >1</td>\n",
              "\t<td bgcolor=\"#ffffff\" class=\"border\"style=\"color:#000000\" >2</td>\n",
              "\t<td bgcolor=\"#ffffff\" class=\"border\"style=\"color:#000000\" >1</td>\n",
              "\t<td bgcolor=\"#ffffff\" class=\"border\"style=\"color:#000000\" >1</td>\n",
              "\t<td bgcolor=\"#ffffff\" class=\"border\"style=\"color:#000000\" >1</td>\n",
              "\t<td bgcolor=\"#ffffff\" class=\"border\"style=\"color:#000000\" >3</td>\n",
              "</tr>\n",
              "<tr>\n",
              "\t<td bgcolor=\"#ffffff\" class=\"noborder\"style=\"color:#000000\" ></td>\n",
              "\t<td bgcolor=\"#ffffff\" class=\"noborder\"style=\"color:#000000\" ></td>\n",
              "\t<td bgcolor=\"#ffffff\" class=\"noborder\"style=\"color:#000000\" ></td>\n",
              "\t<td bgcolor=\"#ffffff\" class=\"noborder\"style=\"color:#000000\" ></td>\n",
              "\t<td bgcolor=\"#ffffff\" class=\"noborder\"style=\"color:#000000\" ><b style=\"color:red\">↑</b></td>\n",
              "\t<td bgcolor=\"#ffffff\" class=\"noborder\"style=\"color:#000000\" ></td>\n",
              "\t<td bgcolor=\"#ffffff\" class=\"noborder\"style=\"color:#000000\" ><b style=\"color:green\">↑</b></td>\n",
              "\t<td bgcolor=\"#ffffff\" class=\"noborder\"style=\"color:#000000\" ></td>\n",
              "\t<td bgcolor=\"#ffffff\" class=\"noborder\"style=\"color:#000000\" ></td>\n",
              "\t<td bgcolor=\"#ffffff\" class=\"noborder\"style=\"color:#000000\" ></td>\n",
              "\t<td bgcolor=\"#ffffff\" class=\"noborder\"style=\"color:#000000\" ></td>\n",
              "</tr>\n",
              "</table>\n"
            ],
            "text/plain": [
              "<IPython.core.display.HTML object>"
            ]
          },
          "metadata": {}
        },
        {
          "output_type": "stream",
          "name": "stdout",
          "text": [
            "True\n"
          ]
        }
      ]
    },
    {
      "cell_type": "markdown",
      "metadata": {
        "id": "tmdpJzbzmMdB"
      },
      "source": [
        "## Longest Continuous Increasing Subsequence"
      ]
    },
    {
      "cell_type": "code",
      "metadata": {
        "id": "H32JsW93mRbJ"
      },
      "source": [
        "class Solution:\n",
        "    def findLengthOfLCIS(self, nums: List[int]) -> int:\n",
        "        max_lng = 1\n",
        "        lng = 1\n",
        "        for idx in range(1, len(nums)):\n",
        "            lng = (lng + 1) if nums[idx - 1] < nums[idx] else 1\n",
        "            max_lng = max(lng, max_lng)\n",
        "        return max_lng"
      ],
      "execution_count": null,
      "outputs": []
    },
    {
      "cell_type": "code",
      "metadata": {
        "id": "bwDY78I8sAlK",
        "colab": {
          "base_uri": "https://localhost:8080/",
          "height": 283
        },
        "outputId": "3b13af6f-f7cf-414a-b57a-8f717db52fba"
      },
      "source": [
        "import numpy as np\n",
        "import matplotlib.pyplot as plt\n",
        "\n",
        "\n",
        "arr = np.random.randint(10, size = 15)\n",
        "plt.plot(arr)\n",
        "print(arr)"
      ],
      "execution_count": null,
      "outputs": [
        {
          "output_type": "stream",
          "name": "stdout",
          "text": [
            "[4 2 8 6 3 7 9 7 9 3 6 8 0 4 8]\n"
          ]
        },
        {
          "output_type": "display_data",
          "data": {
            "image/png": "[encoded data removed]",
            "text/plain": [
              "<Figure size 432x288 with 1 Axes>"
            ]
          },
          "metadata": {
            "needs_background": "light"
          }
        }
      ]
    }
  ]
}