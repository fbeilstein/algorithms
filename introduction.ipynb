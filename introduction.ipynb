{
  "nbformat": 4,
  "nbformat_minor": 0,
  "metadata": {
    "colab": {
      "name": "introduction.ipynb",
      "provenance": [],
      "include_colab_link": true
    },
    "kernelspec": {
      "name": "python3",
      "display_name": "Python 3"
    }
  },
  "cells": [
    {
      "cell_type": "markdown",
      "metadata": {
        "id": "view-in-github",
        "colab_type": "text"
      },
      "source": [
        "<a href=\"https://colab.research.google.com/github/fbeilstein/algorithms/blob/master/introduction.ipynb\" target=\"_parent\"><img src=\"https://colab.research.google.com/assets/colab-badge.svg\" alt=\"Open In Colab\"/></a>"
      ]
    },
    {
      "cell_type": "markdown",
      "metadata": {
        "id": "doAqbCHh3kTG"
      },
      "source": [
        "**Family of Bachmann–Landau notations**\n",
        "\n",
        "| &nbsp;&nbsp;&nbsp;&nbsp;&nbsp;&nbsp;&nbsp;&nbsp;Notation&nbsp;&nbsp;&nbsp;&nbsp;&nbsp;&nbsp;&nbsp;&nbsp;&nbsp;&nbsp;&nbsp;&nbsp; | Name | Description | &nbsp;&nbsp;&nbsp;&nbsp;&nbsp;&nbsp;&nbsp;&nbsp;&nbsp;&nbsp;&nbsp;&nbsp;&nbsp;&nbsp;&nbsp;&nbsp;&nbsp;&nbsp;&nbsp;Formal Definition&nbsp;&nbsp;&nbsp;&nbsp;&nbsp;&nbsp;&nbsp;&nbsp;&nbsp;&nbsp;&nbsp;&nbsp;&nbsp;&nbsp;&nbsp;&nbsp;&nbsp;&nbsp;&nbsp; | &nbsp;&nbsp;&nbsp;&nbsp;&nbsp;&nbsp;&nbsp;&nbsp;&nbsp;&nbsp;&nbsp;&nbsp;Limit Definition&nbsp;&nbsp;&nbsp;&nbsp;&nbsp;&nbsp;&nbsp;&nbsp;&nbsp;&nbsp;&nbsp;&nbsp; |\n",
        "| --- | --- | --- | --- | --- |\n",
        "| $f(n) = O(g(n))$ | Big O; Big Oh; Big Omicron | $|f|$ is bounded above by $g$ (up to constant factor) asymptotically | $\\exists k > 0:  \\exists n_0:  \\forall n>n_0:  |f(n)|\\leq k g(n)$ | $\\limsup_{n \\to \\infty} \\frac{\\left|f(n)\\right|}{g(n)} < \\infty$ |\n",
        "| $f(n) = \\Theta(g(n))$ | Big Theta | $f$ is bounded both above and below by $g$ asymptotically | $\\exists k_1 > 0  \\exists k_2>0  \\exists n_0  \\forall n > n_0\\colon$  $k_1 \\cdot g(n) \\leq f(n) \\leq k_2 \\cdot g(n)$ | $f(n) = O(g(n)) \\text{ and } f(n) = \\Omega(g(n)) \\text{ (Knuth version)}$ |\n",
        "| $f(n) = \\Omega(g(n))$ | Big Omega in complexity theory (Knuth) | $f$ is bounded below by $g$ asymptotically | $\\exists k > 0  \\exists n_0  \\forall  n>n_0\\colon   f(n) \\geq k\\cdot g(n)$ | $\\liminf_{n \\to \\infty} \\frac{f(n)}{g(n)} > 0 $|\n",
        "| $f(n) = o(g(n))$ | Small O; Small Oh | $f$ is dominated by $g$ asymptotically | $\\forall k>0  \\exists n_0  \\forall n > n_0\\colon  |f(n)| < k\\cdot g(n)$ | $\\lim_{n \\to \\infty} \\frac{\\left|f(n)\\right|}{g(n)} = 0$ |\n",
        "| $f(n)\\sim g(n)$ | On the order of | $f$ is equal to $g$ asymptotically | $\\forall \\varepsilon > 0 \\exists n_0\\forall n > n_0\\colon \\left| \\frac{f(n)}{g(n)} - 1 \\right|  < \\varepsilon$ | $\\lim_{n \\to \\infty} \\frac{f(n)}{g(n)} = 1$ |\n",
        "| $f(n) = \\omega(g(n))$ | Small Omega | $f$ dominates $g$ asymptotically | $\\forall k > 0 \\exists n_0 \\forall n > n_0 \\colon  |f(n)| > k\\cdot |g(n)|$ | $\\lim_{n \\to \\infty} \\frac{\\left|f(n)\\right|}{g(n)} = \\infty$ |\n",
        "| $f(n) = \\Omega(g(n))$ | Big Omega in number theory (Hardy–Littlewood) | $|f|$ is not dominated by $g$ asymptotically | $\\exists k>0 \\forall n_0 \\exists n > n_0\\colon |f(n)| \\geq k\\cdot g(n)$ | $\\limsup_{n \\to \\infty} \\frac{\\left|f(n)\\right|}{g(n)} > 0 $ |"
      ]
    },
    {
      "cell_type": "code",
      "metadata": {
        "id": "7zk5ijzSK58h",
        "colab": {
          "base_uri": "https://localhost:8080/",
          "height": 275
        },
        "outputId": "f7561ee8-3ca3-4e7f-b59c-32706d54666e"
      },
      "source": [
        "import matplotlib.pyplot as plt\n",
        "import numpy as np\n",
        "\n",
        "x = range(1, 100)\n",
        "funcs = [lambda x: x * np.log(x), lambda x: np.log(x), lambda x: x, lambda x: np.power(x,2), lambda x: np.power(x,3)]\n",
        "for f in funcs:\n",
        "  plt.plot(x, f(x))"
      ],
      "execution_count": null,
      "outputs": [
        {
          "output_type": "display_data",
          "data": {
            "image/png": "[encoded data removed]",
            "text/plain": [
              "<Figure size 432x288 with 1 Axes>"
            ]
          },
          "metadata": {
            "tags": [],
            "needs_background": "light"
          }
        }
      ]
    },
    {
      "cell_type": "code",
      "metadata": {
        "id": "zCHP4r1O95Kk",
        "colab": {
          "base_uri": "https://localhost:8080/"
        },
        "outputId": "96c5a6a2-0b6b-4da7-97b6-304c640f9217"
      },
      "source": [
        "def fib_rec(N):\n",
        "  if N <= 1:\n",
        "    return 1\n",
        "  return fib_rec(N-1) + fib_rec(N-2)\n",
        "\n",
        "%timeit fib_rec(40)"
      ],
      "execution_count": null,
      "outputs": [
        {
          "output_type": "stream",
          "text": [
            "1 loop, best of 3: 35.3 s per loop\n"
          ],
          "name": "stdout"
        }
      ]
    },
    {
      "cell_type": "code",
      "metadata": {
        "colab": {
          "base_uri": "https://localhost:8080/"
        },
        "id": "JWPfzX-9CcD8",
        "outputId": "6bd8f010-c2c8-4893-da9c-55e21f04f1ff"
      },
      "source": [
        "def fib_iter(N):\n",
        "  a, b = 1, 1\n",
        "  for _ in range(N):\n",
        "    a, b = b, a+b\n",
        "  return a\n",
        "\n",
        "%timeit fib_iter(1000)"
      ],
      "execution_count": null,
      "outputs": [
        {
          "output_type": "stream",
          "text": [
            "10000 loops, best of 3: 71.3 µs per loop\n"
          ],
          "name": "stdout"
        }
      ]
    },
    {
      "cell_type": "code",
      "metadata": {
        "colab": {
          "base_uri": "https://localhost:8080/"
        },
        "id": "6kI7w5-UC1k6",
        "outputId": "c0bd1a45-2a0f-4136-c58a-39ae935c37f1"
      },
      "source": [
        "import numpy as np\n",
        "\n",
        "def fib_matrix(N):\n",
        "  M = np.array([[1,1],[1,0]])\n",
        "  P = np.array([[1,0],[0,1]])\n",
        "  n = 1\n",
        "  while n <= N:\n",
        "    if n & N: P = np.dot(P,M);\n",
        "    n *= 2\n",
        "    M = np.dot(M,M)\n",
        "  return np.dot(P, np.array([1, 1]))[1]\n",
        "\n",
        "\n",
        "%timeit fib_matrix(1000)"
      ],
      "execution_count": null,
      "outputs": [
        {
          "output_type": "stream",
          "text": [
            "The slowest run took 23.93 times longer than the fastest. This could mean that an intermediate result is being cached.\n",
            "10000 loops, best of 3: 29.3 µs per loop\n"
          ],
          "name": "stdout"
        }
      ]
    },
    {
      "cell_type": "code",
      "metadata": {
        "id": "93ftimUmGIUV"
      },
      "source": [
        ""
      ],
      "execution_count": null,
      "outputs": []
    },
    {
      "cell_type": "markdown",
      "metadata": {
        "id": "4_4VhX4TZs5T"
      },
      "source": [
        "#Problems"
      ]
    },
    {
      "cell_type": "markdown",
      "metadata": {
        "id": "7O4Xh2ZyZvX1"
      },
      "source": [
        "##Sqrt(x)"
      ]
    },
    {
      "cell_type": "markdown",
      "metadata": {
        "id": "8LWaUGWbaPOG"
      },
      "source": [
        "* make sure that the return value is int! read the problem."
      ]
    },
    {
      "cell_type": "code",
      "metadata": {
        "colab": {
          "base_uri": "https://localhost:8080/"
        },
        "id": "6jRAugvTZx-a",
        "outputId": "627ab030-933e-47de-8060-d07bb28e9e38"
      },
      "source": [
        "from math import sqrt\n",
        "\n",
        "class Solution:\n",
        "    def mySqrt(self, x: int) -> int:\n",
        "        return int(sqrt(x))\n",
        "        \n",
        "obj = Solution()\n",
        "obj.mySqrt(4)"
      ],
      "execution_count": null,
      "outputs": [
        {
          "output_type": "execute_result",
          "data": {
            "text/plain": [
              "2"
            ]
          },
          "metadata": {},
          "execution_count": 4
        }
      ]
    },
    {
      "cell_type": "markdown",
      "metadata": {
        "id": "t5B5B60BaUuE"
      },
      "source": [
        "## Ugly Number"
      ]
    },
    {
      "cell_type": "code",
      "metadata": {
        "id": "iKyaOsBxatqa"
      },
      "source": [
        "class Solution:\n",
        "    def isUgly(self, n: int) -> bool:\n",
        "      if not n: return False;\n",
        "      for d in [2, 3, 5]:\n",
        "        while not n % d: n /= d;\n",
        "      return n == 1"
      ],
      "execution_count": null,
      "outputs": []
    },
    {
      "cell_type": "code",
      "metadata": {
        "colab": {
          "base_uri": "https://localhost:8080/"
        },
        "id": "c1XTaGaGbmC6",
        "outputId": "783d08d8-f048-4a51-a131-14c18e9f8701"
      },
      "source": [
        "def factorize(num):\n",
        "  if num == 1 : return \"1\"\n",
        "  from sympy.ntheory import factorint\n",
        "  factors = factorint(int(num))\n",
        "  s = \"\"\n",
        "  for f in factors:\n",
        "    s += (str(f) + ' * ') * factors[f]\n",
        "  return s[:-2]\n",
        "\n",
        "\n",
        "class Solution:\n",
        "    def isUgly(self, n: int) -> bool:\n",
        "      if not n: return False;\n",
        "      print(factorize(n))\n",
        "      for d in [2, 3, 5]:\n",
        "        while not n % d: n /= d;\n",
        "        print(\"d = \", d, \" factorization after cycle: \", factorize(n))\n",
        "      return n == 1\n",
        "\n",
        "obj = Solution()\n",
        "print(obj.isUgly(25))\n",
        "print(obj.isUgly(147))\n",
        "print(obj.isUgly(16))\n"
      ],
      "execution_count": null,
      "outputs": [
        {
          "output_type": "stream",
          "text": [
            "5 * 5 \n",
            "d =  2  factorization after cycle:  5 * 5 \n",
            "d =  3  factorization after cycle:  5 * 5 \n",
            "d =  5  factorization after cycle:  1\n",
            "True\n",
            "3 * 7 * 7 \n",
            "d =  2  factorization after cycle:  3 * 7 * 7 \n",
            "d =  3  factorization after cycle:  7 * 7 \n",
            "d =  5  factorization after cycle:  7 * 7 \n",
            "False\n",
            "2 * 2 * 2 * 2 \n",
            "d =  2  factorization after cycle:  1\n",
            "d =  3  factorization after cycle:  1\n",
            "d =  5  factorization after cycle:  1\n",
            "True\n"
          ],
          "name": "stdout"
        }
      ]
    },
    {
      "cell_type": "markdown",
      "metadata": {
        "id": "UTCb_5oxdqEW"
      },
      "source": [
        "## Reverse Integer"
      ]
    },
    {
      "cell_type": "code",
      "metadata": {
        "id": "UWCtpU-CdseA"
      },
      "source": [
        "class Solution:\n",
        "    def reverse(self, x: int) -> int:\n",
        "        result = 0\n",
        "        sign = 1 if x > 0 else -1\n",
        "        max_result = 2**31 if sign < 0 else 2**31-1\n",
        "        x = x * sign\n",
        "        while x:\n",
        "            if result > (max_result - x % 10) // 10:\n",
        "                return 0\n",
        "            result = result * 10 + x % 10\n",
        "            x = x // 10\n",
        "        return result * sign"
      ],
      "execution_count": null,
      "outputs": []
    },
    {
      "cell_type": "code",
      "metadata": {
        "colab": {
          "base_uri": "https://localhost:8080/"
        },
        "id": "_47Biw3hh988",
        "outputId": "d96526f4-e20b-4f00-8dd0-e2e3c0b52e26"
      },
      "source": [
        "class Solution:\n",
        "  def reverse(self, x: int) -> int:\n",
        "    print(\"input: \", x)\n",
        "    result = 0\n",
        "    sign = 1 if x > 0 else -1\n",
        "    max_result = 2**31 if sign < 0 else 2**31-1\n",
        "    x = x * sign\n",
        "    print(\"abs(x) = \", x, \"  result = \", result)\n",
        "    while x:\n",
        "      if result > (max_result - x % 10) // 10:\n",
        "        return 0\n",
        "      result = result * 10 + x % 10\n",
        "      x = x // 10\n",
        "      print(\"abs(x) = \", x, \"  result = \", result)\n",
        "    print(\"final result: \", result * sign)\n",
        "    return result * sign\n",
        "\n",
        "obj = Solution()\n",
        "obj.reverse(123)\n",
        "obj.reverse(-123)\n",
        "obj.reverse(12345678)"
      ],
      "execution_count": null,
      "outputs": [
        {
          "output_type": "stream",
          "text": [
            "input:  123\n",
            "abs(x) =  123   result =  0\n",
            "abs(x) =  12   result =  3\n",
            "abs(x) =  1   result =  32\n",
            "abs(x) =  0   result =  321\n",
            "final result:  321\n",
            "input:  -123\n",
            "abs(x) =  123   result =  0\n",
            "abs(x) =  12   result =  3\n",
            "abs(x) =  1   result =  32\n",
            "abs(x) =  0   result =  321\n",
            "final result:  -321\n",
            "input:  12345678\n",
            "abs(x) =  12345678   result =  0\n",
            "abs(x) =  1234567   result =  8\n",
            "abs(x) =  123456   result =  87\n",
            "abs(x) =  12345   result =  876\n",
            "abs(x) =  1234   result =  8765\n",
            "abs(x) =  123   result =  87654\n",
            "abs(x) =  12   result =  876543\n",
            "abs(x) =  1   result =  8765432\n",
            "abs(x) =  0   result =  87654321\n",
            "final result:  87654321\n"
          ],
          "name": "stdout"
        },
        {
          "output_type": "execute_result",
          "data": {
            "text/plain": [
              "87654321"
            ]
          },
          "metadata": {},
          "execution_count": 21
        }
      ]
    },
    {
      "cell_type": "markdown",
      "metadata": {
        "id": "Ngn8haQfk_3v"
      },
      "source": [
        "## Palindrome Number"
      ]
    },
    {
      "cell_type": "code",
      "metadata": {
        "id": "1EfTvkkqk_K-"
      },
      "source": [
        "class Solution:\n",
        "  def isPalindrome(self, x: int) -> bool:\n",
        "    if not x: return True \n",
        "    if (x < 0) or not(x % 10): return False\n",
        "    result = 0\n",
        "    while result < x:\n",
        "      result = result * 10 + x % 10\n",
        "      x = x // 10\n",
        "    return result == x or result//10 == x"
      ],
      "execution_count": null,
      "outputs": []
    },
    {
      "cell_type": "markdown",
      "metadata": {
        "id": "5WJ7v87ElsqG"
      },
      "source": [
        "## Pow(x, n)"
      ]
    },
    {
      "cell_type": "markdown",
      "metadata": {
        "id": "hYW-V5cCleFo"
      },
      "source": [
        "![](https://assets.leetcode.com/users/images/be69a84b-6dd6-4982-a02f-bed5f15ecd87_1613954741.2457345.png)"
      ]
    },
    {
      "cell_type": "code",
      "metadata": {
        "id": "B6UFrxt1lsmn"
      },
      "source": [
        "class Solution:\n",
        "  def myPow(self, x: float, n: int) -> float:\n",
        "    if n < 0:\n",
        "      n = -n\n",
        "      x = 1.0 / x\n",
        "    result = 1.0\n",
        "    while n:\n",
        "      if n % 2:\n",
        "        result *= x\n",
        "      x = x * x\n",
        "      n = n // 2\n",
        "    return result"
      ],
      "execution_count": null,
      "outputs": []
    },
    {
      "cell_type": "code",
      "metadata": {
        "id": "6mn0K59knRqC",
        "colab": {
          "base_uri": "https://localhost:8080/",
          "height": 35
        },
        "outputId": "2dc47e50-ad7d-4380-bd66-dd8022a8ad9c"
      },
      "source": [
        "bin(25)"
      ],
      "execution_count": null,
      "outputs": [
        {
          "output_type": "execute_result",
          "data": {
            "application/vnd.google.colaboratory.intrinsic+json": {
              "type": "string"
            },
            "text/plain": [
              "'0b11001'"
            ]
          },
          "metadata": {},
          "execution_count": 1
        }
      ]
    },
    {
      "cell_type": "code",
      "metadata": {
        "id": "_1IbuoesF2bU",
        "outputId": "5aef2c05-44ec-482f-c5ee-446e94492368",
        "colab": {
          "base_uri": "https://localhost:8080/",
          "height": 525
        }
      },
      "source": [
        "def visuals(n, temp, accum, x_n, x_temp, x_a):\n",
        "  n_bits = list(bin(n))[2:]\n",
        "  t_bits = list(bin(temp))[2:]\n",
        "  t_bits = [\" \"] * (len(n_bits) - len(t_bits)) + t_bits \n",
        "  a_bits = list(bin(accum))[2:]\n",
        "  a_bits = [\" \"] * (len(n_bits) - len(a_bits)) + a_bits \n",
        "  \n",
        "  result = \"<table>\\n\"\n",
        "  result += \"<tr>\\n\"\n",
        "  result += \"<td>n = </td><td>\" + \"</td><td>\".join(n_bits) + \"</td>\"\n",
        "  result += \"<td>x<sup>n</sup>=</td><td>\" + str(x_n) + \"</td>\\n\"\n",
        "  result += \"</tr><tr>\\n\"\n",
        "  result += \"<td>k = </td><td>\" + \"</td><td>\".join(t_bits) + \"</td>\"\n",
        "  result += \"<td>x<sup>k</sup>=</td><td>\" + str(x_temp) + \"</td>\\n\"\n",
        "  result += \"</tr><tr>\\n\"\n",
        "  result += \"<td>m = </td><td>\" + \"</td><td>\".join(a_bits) + \"</td>\"\n",
        "  result += \"<td>x<sup>m</sup>=</td><td>\" + str(x_a) + \"</td>\\n\"\n",
        "  result += \"</tr>\\n\"\n",
        "  result += \"</table>\"\n",
        "  \n",
        "  import IPython\n",
        "  from google.colab import output\n",
        "  display(IPython.display.HTML(result))\n",
        "\n",
        "x = 5\n",
        "n = 123\n",
        "temp = 1\n",
        "temp_x = x\n",
        "accum_x = 1\n",
        "accum = 0\n",
        "while temp <= n:\n",
        "  if temp & n:\n",
        "    accum_x *= temp_x\n",
        "    accum += temp\n",
        "  visuals(n, temp, accum, x**n, temp_x, accum_x)\n",
        "  temp_x *= temp_x\n",
        "  temp *= 2"
      ],
      "execution_count": 21,
      "outputs": [
        {
          "output_type": "display_data",
          "data": {
            "text/html": [
              "<table>\n",
              "<tr>\n",
              "<td>n = </td><td>1</td><td>1</td><td>1</td><td>1</td><td>0</td><td>1</td><td>1</td><td>x<sup>n</sup>=</td><td>94039548065783000637498922977779654225493244541767001720700136502273380756378173828125</td>\n",
              "</tr><tr>\n",
              "<td>k = </td><td> </td><td> </td><td> </td><td> </td><td> </td><td> </td><td>1</td><td>x<sup>k</sup>=</td><td>5</td>\n",
              "</tr><tr>\n",
              "<td>m = </td><td> </td><td> </td><td> </td><td> </td><td> </td><td> </td><td>1</td><td>x<sup>m</sup>=</td><td>5</td>\n",
              "</tr>\n",
              "</table>"
            ],
            "text/plain": [
              "<IPython.core.display.HTML object>"
            ]
          },
          "metadata": {}
        },
        {
          "output_type": "display_data",
          "data": {
            "text/html": [
              "<table>\n",
              "<tr>\n",
              "<td>n = </td><td>1</td><td>1</td><td>1</td><td>1</td><td>0</td><td>1</td><td>1</td><td>x<sup>n</sup>=</td><td>94039548065783000637498922977779654225493244541767001720700136502273380756378173828125</td>\n",
              "</tr><tr>\n",
              "<td>k = </td><td> </td><td> </td><td> </td><td> </td><td> </td><td>1</td><td>0</td><td>x<sup>k</sup>=</td><td>25</td>\n",
              "</tr><tr>\n",
              "<td>m = </td><td> </td><td> </td><td> </td><td> </td><td> </td><td>1</td><td>1</td><td>x<sup>m</sup>=</td><td>125</td>\n",
              "</tr>\n",
              "</table>"
            ],
            "text/plain": [
              "<IPython.core.display.HTML object>"
            ]
          },
          "metadata": {}
        },
        {
          "output_type": "display_data",
          "data": {
            "text/html": [
              "<table>\n",
              "<tr>\n",
              "<td>n = </td><td>1</td><td>1</td><td>1</td><td>1</td><td>0</td><td>1</td><td>1</td><td>x<sup>n</sup>=</td><td>94039548065783000637498922977779654225493244541767001720700136502273380756378173828125</td>\n",
              "</tr><tr>\n",
              "<td>k = </td><td> </td><td> </td><td> </td><td> </td><td>1</td><td>0</td><td>0</td><td>x<sup>k</sup>=</td><td>625</td>\n",
              "</tr><tr>\n",
              "<td>m = </td><td> </td><td> </td><td> </td><td> </td><td> </td><td>1</td><td>1</td><td>x<sup>m</sup>=</td><td>125</td>\n",
              "</tr>\n",
              "</table>"
            ],
            "text/plain": [
              "<IPython.core.display.HTML object>"
            ]
          },
          "metadata": {}
        },
        {
          "output_type": "display_data",
          "data": {
            "text/html": [
              "<table>\n",
              "<tr>\n",
              "<td>n = </td><td>1</td><td>1</td><td>1</td><td>1</td><td>0</td><td>1</td><td>1</td><td>x<sup>n</sup>=</td><td>94039548065783000637498922977779654225493244541767001720700136502273380756378173828125</td>\n",
              "</tr><tr>\n",
              "<td>k = </td><td> </td><td> </td><td> </td><td>1</td><td>0</td><td>0</td><td>0</td><td>x<sup>k</sup>=</td><td>390625</td>\n",
              "</tr><tr>\n",
              "<td>m = </td><td> </td><td> </td><td> </td><td>1</td><td>0</td><td>1</td><td>1</td><td>x<sup>m</sup>=</td><td>48828125</td>\n",
              "</tr>\n",
              "</table>"
            ],
            "text/plain": [
              "<IPython.core.display.HTML object>"
            ]
          },
          "metadata": {}
        },
        {
          "output_type": "display_data",
          "data": {
            "text/html": [
              "<table>\n",
              "<tr>\n",
              "<td>n = </td><td>1</td><td>1</td><td>1</td><td>1</td><td>0</td><td>1</td><td>1</td><td>x<sup>n</sup>=</td><td>94039548065783000637498922977779654225493244541767001720700136502273380756378173828125</td>\n",
              "</tr><tr>\n",
              "<td>k = </td><td> </td><td> </td><td>1</td><td>0</td><td>0</td><td>0</td><td>0</td><td>x<sup>k</sup>=</td><td>152587890625</td>\n",
              "</tr><tr>\n",
              "<td>m = </td><td> </td><td> </td><td>1</td><td>1</td><td>0</td><td>1</td><td>1</td><td>x<sup>m</sup>=</td><td>7450580596923828125</td>\n",
              "</tr>\n",
              "</table>"
            ],
            "text/plain": [
              "<IPython.core.display.HTML object>"
            ]
          },
          "metadata": {}
        },
        {
          "output_type": "display_data",
          "data": {
            "text/html": [
              "<table>\n",
              "<tr>\n",
              "<td>n = </td><td>1</td><td>1</td><td>1</td><td>1</td><td>0</td><td>1</td><td>1</td><td>x<sup>n</sup>=</td><td>94039548065783000637498922977779654225493244541767001720700136502273380756378173828125</td>\n",
              "</tr><tr>\n",
              "<td>k = </td><td> </td><td>1</td><td>0</td><td>0</td><td>0</td><td>0</td><td>0</td><td>x<sup>k</sup>=</td><td>23283064365386962890625</td>\n",
              "</tr><tr>\n",
              "<td>m = </td><td> </td><td>1</td><td>1</td><td>1</td><td>0</td><td>1</td><td>1</td><td>x<sup>m</sup>=</td><td>173472347597680709441192448139190673828125</td>\n",
              "</tr>\n",
              "</table>"
            ],
            "text/plain": [
              "<IPython.core.display.HTML object>"
            ]
          },
          "metadata": {}
        },
        {
          "output_type": "display_data",
          "data": {
            "text/html": [
              "<table>\n",
              "<tr>\n",
              "<td>n = </td><td>1</td><td>1</td><td>1</td><td>1</td><td>0</td><td>1</td><td>1</td><td>x<sup>n</sup>=</td><td>94039548065783000637498922977779654225493244541767001720700136502273380756378173828125</td>\n",
              "</tr><tr>\n",
              "<td>k = </td><td>1</td><td>0</td><td>0</td><td>0</td><td>0</td><td>0</td><td>0</td><td>x<sup>k</sup>=</td><td>542101086242752217003726400434970855712890625</td>\n",
              "</tr><tr>\n",
              "<td>m = </td><td>1</td><td>1</td><td>1</td><td>1</td><td>0</td><td>1</td><td>1</td><td>x<sup>m</sup>=</td><td>94039548065783000637498922977779654225493244541767001720700136502273380756378173828125</td>\n",
              "</tr>\n",
              "</table>"
            ],
            "text/plain": [
              "<IPython.core.display.HTML object>"
            ]
          },
          "metadata": {}
        }
      ]
    },
    {
      "cell_type": "code",
      "metadata": {
        "id": "4xE639VzGhwh"
      },
      "source": [
        ""
      ],
      "execution_count": null,
      "outputs": []
    }
  ]
}