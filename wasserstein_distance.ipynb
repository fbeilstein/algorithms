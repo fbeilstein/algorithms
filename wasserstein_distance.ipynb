{
  "nbformat": 4,
  "nbformat_minor": 0,
  "metadata": {
    "colab": {
      "provenance": [],
      "authorship_tag": "ABX9TyOnIdxzUpKPZO+G2QHNIw0E",
      "include_colab_link": true
    },
    "kernelspec": {
      "name": "python3",
      "display_name": "Python 3"
    },
    "language_info": {
      "name": "python"
    },
    "accelerator": "GPU",
    "gpuClass": "standard",
    "widgets": {
      "application/vnd.jupyter.widget-state+json": {
        "7e402751956c4fe88fe6e3a03a1205cc": {
          "model_module": "@jupyter-widgets/controls",
          "model_name": "IntProgressModel",
          "model_module_version": "1.5.0",
          "state": {
            "_dom_classes": [],
            "_model_module": "@jupyter-widgets/controls",
            "_model_module_version": "1.5.0",
            "_model_name": "IntProgressModel",
            "_view_count": null,
            "_view_module": "@jupyter-widgets/controls",
            "_view_module_version": "1.5.0",
            "_view_name": "ProgressView",
            "bar_style": "",
            "description": "",
            "description_tooltip": null,
            "layout": "IPY_MODEL_a231965d996f43d39d18f9b8119594ea",
            "max": 144,
            "min": 0,
            "orientation": "horizontal",
            "style": "IPY_MODEL_d1aca2769bf24d07a7fc1275f5233e2d",
            "value": 144
          }
        },
        "a231965d996f43d39d18f9b8119594ea": {
          "model_module": "@jupyter-widgets/base",
          "model_name": "LayoutModel",
          "model_module_version": "1.2.0",
          "state": {
            "_model_module": "@jupyter-widgets/base",
            "_model_module_version": "1.2.0",
            "_model_name": "LayoutModel",
            "_view_count": null,
            "_view_module": "@jupyter-widgets/base",
            "_view_module_version": "1.2.0",
            "_view_name": "LayoutView",
            "align_content": null,
            "align_items": null,
            "align_self": null,
            "border": null,
            "bottom": null,
            "display": null,
            "flex": null,
            "flex_flow": null,
            "grid_area": null,
            "grid_auto_columns": null,
            "grid_auto_flow": null,
            "grid_auto_rows": null,
            "grid_column": null,
            "grid_gap": null,
            "grid_row": null,
            "grid_template_areas": null,
            "grid_template_columns": null,
            "grid_template_rows": null,
            "height": null,
            "justify_content": null,
            "justify_items": null,
            "left": null,
            "margin": null,
            "max_height": null,
            "max_width": null,
            "min_height": null,
            "min_width": null,
            "object_fit": null,
            "object_position": null,
            "order": null,
            "overflow": null,
            "overflow_x": null,
            "overflow_y": null,
            "padding": null,
            "right": null,
            "top": null,
            "visibility": null,
            "width": null
          }
        },
        "d1aca2769bf24d07a7fc1275f5233e2d": {
          "model_module": "@jupyter-widgets/controls",
          "model_name": "ProgressStyleModel",
          "model_module_version": "1.5.0",
          "state": {
            "_model_module": "@jupyter-widgets/controls",
            "_model_module_version": "1.5.0",
            "_model_name": "ProgressStyleModel",
            "_view_count": null,
            "_view_module": "@jupyter-widgets/base",
            "_view_module_version": "1.2.0",
            "_view_name": "StyleView",
            "bar_color": null,
            "description_width": ""
          }
        },
        "54688a6f32d242f5ab9ad7c94badabd0": {
          "model_module": "@jupyter-widgets/controls",
          "model_name": "HBoxModel",
          "model_module_version": "1.5.0",
          "state": {
            "_dom_classes": [],
            "_model_module": "@jupyter-widgets/controls",
            "_model_module_version": "1.5.0",
            "_model_name": "HBoxModel",
            "_view_count": null,
            "_view_module": "@jupyter-widgets/controls",
            "_view_module_version": "1.5.0",
            "_view_name": "HBoxView",
            "box_style": "",
            "children": [
              "IPY_MODEL_c63670438dd146cca903ddd186d885c3",
              "IPY_MODEL_d340a1f69ae3448b99aff53891e1eccb"
            ],
            "layout": "IPY_MODEL_6694ead087ce4e90bb2b0be467fecdcf"
          }
        },
        "c63670438dd146cca903ddd186d885c3": {
          "model_module": "@jupyter-widgets/controls",
          "model_name": "DropdownModel",
          "model_module_version": "1.5.0",
          "state": {
            "_dom_classes": [],
            "_model_module": "@jupyter-widgets/controls",
            "_model_module_version": "1.5.0",
            "_model_name": "DropdownModel",
            "_options_labels": [
              "0",
              "1",
              "2"
            ],
            "_view_count": null,
            "_view_module": "@jupyter-widgets/controls",
            "_view_module_version": "1.5.0",
            "_view_name": "DropdownView",
            "description": "dimension",
            "description_tooltip": null,
            "disabled": false,
            "index": 1,
            "layout": "IPY_MODEL_35a5fbd20db8494fb3fc413eddcb5076",
            "style": "IPY_MODEL_d1655efa209b46aa9e3a6f73a2ce6951"
          }
        },
        "d340a1f69ae3448b99aff53891e1eccb": {
          "model_module": "@jupyter-widgets/controls",
          "model_name": "DropdownModel",
          "model_module_version": "1.5.0",
          "state": {
            "_dom_classes": [],
            "_model_module": "@jupyter-widgets/controls",
            "_model_module_version": "1.5.0",
            "_model_name": "DropdownModel",
            "_options_labels": [
              "5",
              "6",
              "7",
              "8",
              "9",
              "10"
            ],
            "_view_count": null,
            "_view_module": "@jupyter-widgets/controls",
            "_view_module_version": "1.5.0",
            "_view_name": "DropdownView",
            "description": "sigma8*10",
            "description_tooltip": null,
            "disabled": false,
            "index": 0,
            "layout": "IPY_MODEL_3f5a81811826403fb61df6fa80b33ca2",
            "style": "IPY_MODEL_a18c4d551a0a43beb2c1a2dfd3065d08"
          }
        },
        "6694ead087ce4e90bb2b0be467fecdcf": {
          "model_module": "@jupyter-widgets/base",
          "model_name": "LayoutModel",
          "model_module_version": "1.2.0",
          "state": {
            "_model_module": "@jupyter-widgets/base",
            "_model_module_version": "1.2.0",
            "_model_name": "LayoutModel",
            "_view_count": null,
            "_view_module": "@jupyter-widgets/base",
            "_view_module_version": "1.2.0",
            "_view_name": "LayoutView",
            "align_content": null,
            "align_items": null,
            "align_self": null,
            "border": null,
            "bottom": null,
            "display": null,
            "flex": null,
            "flex_flow": null,
            "grid_area": null,
            "grid_auto_columns": null,
            "grid_auto_flow": null,
            "grid_auto_rows": null,
            "grid_column": null,
            "grid_gap": null,
            "grid_row": null,
            "grid_template_areas": null,
            "grid_template_columns": null,
            "grid_template_rows": null,
            "height": null,
            "justify_content": null,
            "justify_items": null,
            "left": null,
            "margin": null,
            "max_height": null,
            "max_width": null,
            "min_height": null,
            "min_width": null,
            "object_fit": null,
            "object_position": null,
            "order": null,
            "overflow": null,
            "overflow_x": null,
            "overflow_y": null,
            "padding": null,
            "right": null,
            "top": null,
            "visibility": null,
            "width": null
          }
        },
        "35a5fbd20db8494fb3fc413eddcb5076": {
          "model_module": "@jupyter-widgets/base",
          "model_name": "LayoutModel",
          "model_module_version": "1.2.0",
          "state": {
            "_model_module": "@jupyter-widgets/base",
            "_model_module_version": "1.2.0",
            "_model_name": "LayoutModel",
            "_view_count": null,
            "_view_module": "@jupyter-widgets/base",
            "_view_module_version": "1.2.0",
            "_view_name": "LayoutView",
            "align_content": null,
            "align_items": null,
            "align_self": null,
            "border": null,
            "bottom": null,
            "display": null,
            "flex": null,
            "flex_flow": null,
            "grid_area": null,
            "grid_auto_columns": null,
            "grid_auto_flow": null,
            "grid_auto_rows": null,
            "grid_column": null,
            "grid_gap": null,
            "grid_row": null,
            "grid_template_areas": null,
            "grid_template_columns": null,
            "grid_template_rows": null,
            "height": null,
            "justify_content": null,
            "justify_items": null,
            "left": null,
            "margin": null,
            "max_height": null,
            "max_width": null,
            "min_height": null,
            "min_width": null,
            "object_fit": null,
            "object_position": null,
            "order": null,
            "overflow": null,
            "overflow_x": null,
            "overflow_y": null,
            "padding": null,
            "right": null,
            "top": null,
            "visibility": null,
            "width": null
          }
        },
        "d1655efa209b46aa9e3a6f73a2ce6951": {
          "model_module": "@jupyter-widgets/controls",
          "model_name": "DescriptionStyleModel",
          "model_module_version": "1.5.0",
          "state": {
            "_model_module": "@jupyter-widgets/controls",
            "_model_module_version": "1.5.0",
            "_model_name": "DescriptionStyleModel",
            "_view_count": null,
            "_view_module": "@jupyter-widgets/base",
            "_view_module_version": "1.2.0",
            "_view_name": "StyleView",
            "description_width": ""
          }
        },
        "3f5a81811826403fb61df6fa80b33ca2": {
          "model_module": "@jupyter-widgets/base",
          "model_name": "LayoutModel",
          "model_module_version": "1.2.0",
          "state": {
            "_model_module": "@jupyter-widgets/base",
            "_model_module_version": "1.2.0",
            "_model_name": "LayoutModel",
            "_view_count": null,
            "_view_module": "@jupyter-widgets/base",
            "_view_module_version": "1.2.0",
            "_view_name": "LayoutView",
            "align_content": null,
            "align_items": null,
            "align_self": null,
            "border": null,
            "bottom": null,
            "display": null,
            "flex": null,
            "flex_flow": null,
            "grid_area": null,
            "grid_auto_columns": null,
            "grid_auto_flow": null,
            "grid_auto_rows": null,
            "grid_column": null,
            "grid_gap": null,
            "grid_row": null,
            "grid_template_areas": null,
            "grid_template_columns": null,
            "grid_template_rows": null,
            "height": null,
            "justify_content": null,
            "justify_items": null,
            "left": null,
            "margin": null,
            "max_height": null,
            "max_width": null,
            "min_height": null,
            "min_width": null,
            "object_fit": null,
            "object_position": null,
            "order": null,
            "overflow": null,
            "overflow_x": null,
            "overflow_y": null,
            "padding": null,
            "right": null,
            "top": null,
            "visibility": null,
            "width": null
          }
        },
        "a18c4d551a0a43beb2c1a2dfd3065d08": {
          "model_module": "@jupyter-widgets/controls",
          "model_name": "DescriptionStyleModel",
          "model_module_version": "1.5.0",
          "state": {
            "_model_module": "@jupyter-widgets/controls",
            "_model_module_version": "1.5.0",
            "_model_name": "DescriptionStyleModel",
            "_view_count": null,
            "_view_module": "@jupyter-widgets/base",
            "_view_module_version": "1.2.0",
            "_view_name": "StyleView",
            "description_width": ""
          }
        },
        "ce8cb7fa2dcb4a30922fbb8ff1b54a77": {
          "model_module": "@jupyter-widgets/output",
          "model_name": "OutputModel",
          "model_module_version": "1.0.0",
          "state": {
            "_dom_classes": [],
            "_model_module": "@jupyter-widgets/output",
            "_model_module_version": "1.0.0",
            "_model_name": "OutputModel",
            "_view_count": null,
            "_view_module": "@jupyter-widgets/output",
            "_view_module_version": "1.0.0",
            "_view_name": "OutputView",
            "layout": "IPY_MODEL_ece0b5d091424eb2b4d666d4df12e234",
            "msg_id": "",
            "outputs": [
              {
                "output_type": "display_data",
                "data": {
                  "text/plain": "<Figure size 864x504 with 1 Axes>",
                  "image/png": "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\n"
                },
                "metadata": {}
              }
            ]
          }
        },
        "ece0b5d091424eb2b4d666d4df12e234": {
          "model_module": "@jupyter-widgets/base",
          "model_name": "LayoutModel",
          "model_module_version": "1.2.0",
          "state": {
            "_model_module": "@jupyter-widgets/base",
            "_model_module_version": "1.2.0",
            "_model_name": "LayoutModel",
            "_view_count": null,
            "_view_module": "@jupyter-widgets/base",
            "_view_module_version": "1.2.0",
            "_view_name": "LayoutView",
            "align_content": null,
            "align_items": null,
            "align_self": null,
            "border": null,
            "bottom": null,
            "display": null,
            "flex": null,
            "flex_flow": null,
            "grid_area": null,
            "grid_auto_columns": null,
            "grid_auto_flow": null,
            "grid_auto_rows": null,
            "grid_column": null,
            "grid_gap": null,
            "grid_row": null,
            "grid_template_areas": null,
            "grid_template_columns": null,
            "grid_template_rows": null,
            "height": null,
            "justify_content": null,
            "justify_items": null,
            "left": null,
            "margin": null,
            "max_height": null,
            "max_width": null,
            "min_height": null,
            "min_width": null,
            "object_fit": null,
            "object_position": null,
            "order": null,
            "overflow": null,
            "overflow_x": null,
            "overflow_y": null,
            "padding": null,
            "right": null,
            "top": null,
            "visibility": null,
            "width": null
          }
        },
        "39cfd64f423548e196617f702d64d897": {
          "model_module": "@jupyter-widgets/controls",
          "model_name": "IntProgressModel",
          "model_module_version": "1.5.0",
          "state": {
            "_dom_classes": [],
            "_model_module": "@jupyter-widgets/controls",
            "_model_module_version": "1.5.0",
            "_model_name": "IntProgressModel",
            "_view_count": null,
            "_view_module": "@jupyter-widgets/controls",
            "_view_module_version": "1.5.0",
            "_view_name": "ProgressView",
            "bar_style": "",
            "description": "",
            "description_tooltip": null,
            "layout": "IPY_MODEL_c0892c713be24783afea98d2ce7b08a2",
            "max": 432,
            "min": 0,
            "orientation": "horizontal",
            "style": "IPY_MODEL_cdfa167b0639426f87e464a01e75d2a3",
            "value": 14
          }
        },
        "c0892c713be24783afea98d2ce7b08a2": {
          "model_module": "@jupyter-widgets/base",
          "model_name": "LayoutModel",
          "model_module_version": "1.2.0",
          "state": {
            "_model_module": "@jupyter-widgets/base",
            "_model_module_version": "1.2.0",
            "_model_name": "LayoutModel",
            "_view_count": null,
            "_view_module": "@jupyter-widgets/base",
            "_view_module_version": "1.2.0",
            "_view_name": "LayoutView",
            "align_content": null,
            "align_items": null,
            "align_self": null,
            "border": null,
            "bottom": null,
            "display": null,
            "flex": null,
            "flex_flow": null,
            "grid_area": null,
            "grid_auto_columns": null,
            "grid_auto_flow": null,
            "grid_auto_rows": null,
            "grid_column": null,
            "grid_gap": null,
            "grid_row": null,
            "grid_template_areas": null,
            "grid_template_columns": null,
            "grid_template_rows": null,
            "height": null,
            "justify_content": null,
            "justify_items": null,
            "left": null,
            "margin": null,
            "max_height": null,
            "max_width": null,
            "min_height": null,
            "min_width": null,
            "object_fit": null,
            "object_position": null,
            "order": null,
            "overflow": null,
            "overflow_x": null,
            "overflow_y": null,
            "padding": null,
            "right": null,
            "top": null,
            "visibility": null,
            "width": null
          }
        },
        "cdfa167b0639426f87e464a01e75d2a3": {
          "model_module": "@jupyter-widgets/controls",
          "model_name": "ProgressStyleModel",
          "model_module_version": "1.5.0",
          "state": {
            "_model_module": "@jupyter-widgets/controls",
            "_model_module_version": "1.5.0",
            "_model_name": "ProgressStyleModel",
            "_view_count": null,
            "_view_module": "@jupyter-widgets/base",
            "_view_module_version": "1.2.0",
            "_view_name": "StyleView",
            "bar_color": null,
            "description_width": ""
          }
        },
        "45612b7005004a939945a56912ecc352": {
          "model_module": "@jupyter-widgets/controls",
          "model_name": "IntProgressModel",
          "model_module_version": "1.5.0",
          "state": {
            "_dom_classes": [],
            "_model_module": "@jupyter-widgets/controls",
            "_model_module_version": "1.5.0",
            "_model_name": "IntProgressModel",
            "_view_count": null,
            "_view_module": "@jupyter-widgets/controls",
            "_view_module_version": "1.5.0",
            "_view_name": "ProgressView",
            "bar_style": "",
            "description": "",
            "description_tooltip": null,
            "layout": "IPY_MODEL_96be6aac44cc492bb8e9c9a4c9907ac1",
            "max": 48,
            "min": 0,
            "orientation": "horizontal",
            "style": "IPY_MODEL_e7bd1ea3a14f4b2c964cfa263315c269",
            "value": 21
          }
        },
        "96be6aac44cc492bb8e9c9a4c9907ac1": {
          "model_module": "@jupyter-widgets/base",
          "model_name": "LayoutModel",
          "model_module_version": "1.2.0",
          "state": {
            "_model_module": "@jupyter-widgets/base",
            "_model_module_version": "1.2.0",
            "_model_name": "LayoutModel",
            "_view_count": null,
            "_view_module": "@jupyter-widgets/base",
            "_view_module_version": "1.2.0",
            "_view_name": "LayoutView",
            "align_content": null,
            "align_items": null,
            "align_self": null,
            "border": null,
            "bottom": null,
            "display": null,
            "flex": null,
            "flex_flow": null,
            "grid_area": null,
            "grid_auto_columns": null,
            "grid_auto_flow": null,
            "grid_auto_rows": null,
            "grid_column": null,
            "grid_gap": null,
            "grid_row": null,
            "grid_template_areas": null,
            "grid_template_columns": null,
            "grid_template_rows": null,
            "height": null,
            "justify_content": null,
            "justify_items": null,
            "left": null,
            "margin": null,
            "max_height": null,
            "max_width": null,
            "min_height": null,
            "min_width": null,
            "object_fit": null,
            "object_position": null,
            "order": null,
            "overflow": null,
            "overflow_x": null,
            "overflow_y": null,
            "padding": null,
            "right": null,
            "top": null,
            "visibility": null,
            "width": null
          }
        },
        "e7bd1ea3a14f4b2c964cfa263315c269": {
          "model_module": "@jupyter-widgets/controls",
          "model_name": "ProgressStyleModel",
          "model_module_version": "1.5.0",
          "state": {
            "_model_module": "@jupyter-widgets/controls",
            "_model_module_version": "1.5.0",
            "_model_name": "ProgressStyleModel",
            "_view_count": null,
            "_view_module": "@jupyter-widgets/base",
            "_view_module_version": "1.2.0",
            "_view_name": "StyleView",
            "bar_color": null,
            "description_width": ""
          }
        },
        "6366a782d03c433ca2c4987b80473d9f": {
          "model_module": "@jupyter-widgets/controls",
          "model_name": "HBoxModel",
          "model_module_version": "1.5.0",
          "state": {
            "_dom_classes": [],
            "_model_module": "@jupyter-widgets/controls",
            "_model_module_version": "1.5.0",
            "_model_name": "HBoxModel",
            "_view_count": null,
            "_view_module": "@jupyter-widgets/controls",
            "_view_module_version": "1.5.0",
            "_view_name": "HBoxView",
            "box_style": "",
            "children": [
              "IPY_MODEL_3a5dcd0a4b174dbeb9b9071ed437c54f",
              "IPY_MODEL_d645daabe4b7487683d1b8c6289bd0a4"
            ],
            "layout": "IPY_MODEL_d311c3a03e8747bd9b67ea7cf69e4b3c"
          }
        },
        "3a5dcd0a4b174dbeb9b9071ed437c54f": {
          "model_module": "@jupyter-widgets/controls",
          "model_name": "DropdownModel",
          "model_module_version": "1.5.0",
          "state": {
            "_dom_classes": [],
            "_model_module": "@jupyter-widgets/controls",
            "_model_module_version": "1.5.0",
            "_model_name": "DropdownModel",
            "_options_labels": [
              "13",
              "15",
              "20"
            ],
            "_view_count": null,
            "_view_module": "@jupyter-widgets/controls",
            "_view_module_version": "1.5.0",
            "_view_name": "DropdownView",
            "description": "red shift",
            "description_tooltip": null,
            "disabled": false,
            "index": 0,
            "layout": "IPY_MODEL_4633bea8cff4438f9c5e94eb6d956b76",
            "style": "IPY_MODEL_53f6b802f4bd4d919294dc7766bb9eb6"
          }
        },
        "d645daabe4b7487683d1b8c6289bd0a4": {
          "model_module": "@jupyter-widgets/controls",
          "model_name": "DropdownModel",
          "model_module_version": "1.5.0",
          "state": {
            "_dom_classes": [],
            "_model_module": "@jupyter-widgets/controls",
            "_model_module_version": "1.5.0",
            "_model_name": "DropdownModel",
            "_options_labels": [
              "0.0",
              "0.1",
              "0.2",
              "0.3",
              "0.4",
              "0.5"
            ],
            "_view_count": null,
            "_view_module": "@jupyter-widgets/controls",
            "_view_module_version": "1.5.0",
            "_view_name": "DropdownView",
            "description": "Delta sigma8 x 10$",
            "description_tooltip": null,
            "disabled": false,
            "index": 3,
            "layout": "IPY_MODEL_077a18cabce5490e924c2491160fc91f",
            "style": "IPY_MODEL_dfbf175a93344cb189de7b366dcda121"
          }
        },
        "d311c3a03e8747bd9b67ea7cf69e4b3c": {
          "model_module": "@jupyter-widgets/base",
          "model_name": "LayoutModel",
          "model_module_version": "1.2.0",
          "state": {
            "_model_module": "@jupyter-widgets/base",
            "_model_module_version": "1.2.0",
            "_model_name": "LayoutModel",
            "_view_count": null,
            "_view_module": "@jupyter-widgets/base",
            "_view_module_version": "1.2.0",
            "_view_name": "LayoutView",
            "align_content": null,
            "align_items": null,
            "align_self": null,
            "border": null,
            "bottom": null,
            "display": null,
            "flex": null,
            "flex_flow": null,
            "grid_area": null,
            "grid_auto_columns": null,
            "grid_auto_flow": null,
            "grid_auto_rows": null,
            "grid_column": null,
            "grid_gap": null,
            "grid_row": null,
            "grid_template_areas": null,
            "grid_template_columns": null,
            "grid_template_rows": null,
            "height": null,
            "justify_content": null,
            "justify_items": null,
            "left": null,
            "margin": null,
            "max_height": null,
            "max_width": null,
            "min_height": null,
            "min_width": null,
            "object_fit": null,
            "object_position": null,
            "order": null,
            "overflow": null,
            "overflow_x": null,
            "overflow_y": null,
            "padding": null,
            "right": null,
            "top": null,
            "visibility": null,
            "width": null
          }
        },
        "4633bea8cff4438f9c5e94eb6d956b76": {
          "model_module": "@jupyter-widgets/base",
          "model_name": "LayoutModel",
          "model_module_version": "1.2.0",
          "state": {
            "_model_module": "@jupyter-widgets/base",
            "_model_module_version": "1.2.0",
            "_model_name": "LayoutModel",
            "_view_count": null,
            "_view_module": "@jupyter-widgets/base",
            "_view_module_version": "1.2.0",
            "_view_name": "LayoutView",
            "align_content": null,
            "align_items": null,
            "align_self": null,
            "border": null,
            "bottom": null,
            "display": null,
            "flex": null,
            "flex_flow": null,
            "grid_area": null,
            "grid_auto_columns": null,
            "grid_auto_flow": null,
            "grid_auto_rows": null,
            "grid_column": null,
            "grid_gap": null,
            "grid_row": null,
            "grid_template_areas": null,
            "grid_template_columns": null,
            "grid_template_rows": null,
            "height": null,
            "justify_content": null,
            "justify_items": null,
            "left": null,
            "margin": null,
            "max_height": null,
            "max_width": null,
            "min_height": null,
            "min_width": null,
            "object_fit": null,
            "object_position": null,
            "order": null,
            "overflow": null,
            "overflow_x": null,
            "overflow_y": null,
            "padding": null,
            "right": null,
            "top": null,
            "visibility": null,
            "width": null
          }
        },
        "53f6b802f4bd4d919294dc7766bb9eb6": {
          "model_module": "@jupyter-widgets/controls",
          "model_name": "DescriptionStyleModel",
          "model_module_version": "1.5.0",
          "state": {
            "_model_module": "@jupyter-widgets/controls",
            "_model_module_version": "1.5.0",
            "_model_name": "DescriptionStyleModel",
            "_view_count": null,
            "_view_module": "@jupyter-widgets/base",
            "_view_module_version": "1.2.0",
            "_view_name": "StyleView",
            "description_width": ""
          }
        },
        "077a18cabce5490e924c2491160fc91f": {
          "model_module": "@jupyter-widgets/base",
          "model_name": "LayoutModel",
          "model_module_version": "1.2.0",
          "state": {
            "_model_module": "@jupyter-widgets/base",
            "_model_module_version": "1.2.0",
            "_model_name": "LayoutModel",
            "_view_count": null,
            "_view_module": "@jupyter-widgets/base",
            "_view_module_version": "1.2.0",
            "_view_name": "LayoutView",
            "align_content": null,
            "align_items": null,
            "align_self": null,
            "border": null,
            "bottom": null,
            "display": null,
            "flex": null,
            "flex_flow": null,
            "grid_area": null,
            "grid_auto_columns": null,
            "grid_auto_flow": null,
            "grid_auto_rows": null,
            "grid_column": null,
            "grid_gap": null,
            "grid_row": null,
            "grid_template_areas": null,
            "grid_template_columns": null,
            "grid_template_rows": null,
            "height": null,
            "justify_content": null,
            "justify_items": null,
            "left": null,
            "margin": null,
            "max_height": null,
            "max_width": null,
            "min_height": null,
            "min_width": null,
            "object_fit": null,
            "object_position": null,
            "order": null,
            "overflow": null,
            "overflow_x": null,
            "overflow_y": null,
            "padding": null,
            "right": null,
            "top": null,
            "visibility": null,
            "width": null
          }
        },
        "dfbf175a93344cb189de7b366dcda121": {
          "model_module": "@jupyter-widgets/controls",
          "model_name": "DescriptionStyleModel",
          "model_module_version": "1.5.0",
          "state": {
            "_model_module": "@jupyter-widgets/controls",
            "_model_module_version": "1.5.0",
            "_model_name": "DescriptionStyleModel",
            "_view_count": null,
            "_view_module": "@jupyter-widgets/base",
            "_view_module_version": "1.2.0",
            "_view_name": "StyleView",
            "description_width": ""
          }
        },
        "dae893316b1c41b18af5212454ed4847": {
          "model_module": "@jupyter-widgets/output",
          "model_name": "OutputModel",
          "model_module_version": "1.0.0",
          "state": {
            "_dom_classes": [],
            "_model_module": "@jupyter-widgets/output",
            "_model_module_version": "1.0.0",
            "_model_name": "OutputModel",
            "_view_count": null,
            "_view_module": "@jupyter-widgets/output",
            "_view_module_version": "1.0.0",
            "_view_name": "OutputView",
            "layout": "IPY_MODEL_a04c74d122c44f97880402f5a56f84da",
            "msg_id": "",
            "outputs": [
              {
                "output_type": "display_data",
                "data": {
                  "text/plain": "<Figure size 1440x432 with 2 Axes>",
                  "image/png": "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\n"
                },
                "metadata": {}
              }
            ]
          }
        },
        "a04c74d122c44f97880402f5a56f84da": {
          "model_module": "@jupyter-widgets/base",
          "model_name": "LayoutModel",
          "model_module_version": "1.2.0",
          "state": {
            "_model_module": "@jupyter-widgets/base",
            "_model_module_version": "1.2.0",
            "_model_name": "LayoutModel",
            "_view_count": null,
            "_view_module": "@jupyter-widgets/base",
            "_view_module_version": "1.2.0",
            "_view_name": "LayoutView",
            "align_content": null,
            "align_items": null,
            "align_self": null,
            "border": null,
            "bottom": null,
            "display": null,
            "flex": null,
            "flex_flow": null,
            "grid_area": null,
            "grid_auto_columns": null,
            "grid_auto_flow": null,
            "grid_auto_rows": null,
            "grid_column": null,
            "grid_gap": null,
            "grid_row": null,
            "grid_template_areas": null,
            "grid_template_columns": null,
            "grid_template_rows": null,
            "height": null,
            "justify_content": null,
            "justify_items": null,
            "left": null,
            "margin": null,
            "max_height": null,
            "max_width": null,
            "min_height": null,
            "min_width": null,
            "object_fit": null,
            "object_position": null,
            "order": null,
            "overflow": null,
            "overflow_x": null,
            "overflow_y": null,
            "padding": null,
            "right": null,
            "top": null,
            "visibility": null,
            "width": null
          }
        }
      }
    }
  },
  "cells": [
    {
      "cell_type": "markdown",
      "metadata": {
        "id": "view-in-github",
        "colab_type": "text"
      },
      "source": [
        "<a href=\"https://colab.research.google.com/github/fbeilstein/algorithms/blob/master/wasserstein_distance.ipynb\" target=\"_parent\"><img src=\"https://colab.research.google.com/assets/colab-badge.svg\" alt=\"Open In Colab\"/></a>"
      ]
    },
    {
      "cell_type": "code",
      "source": [
        "#@title #Download datasets\n",
        "#@markdown Run this block of code to download our dataset to Google Colab.\n",
        "#@markdown If successful this code yields \n",
        "#@markdown * folder `alldata2` containing all data for further scripts\n",
        "#@markdown * file `alldata_large.zip` -- the same data zipped; not needed for scripts, but you may want to download it to your local machine\n",
        "\n",
        "from IPython.display import clear_output\n",
        "\n",
        "files = ['alldata.zip', 'alldata.z01', 'alldata.z02', 'alldata.z03']\n",
        "print('deleting old files if exist')\n",
        "!rm -rf alldata2\n",
        "!rm -f alldata_large.zip\n",
        "for f in files:\n",
        "  !rm -f {f}\n",
        "for i,f in enumerate(files):\n",
        "  print('downloading part ', i+1, ' of ', len(files))\n",
        "  #result = !curl -s -S https://raw.githubusercontent.com/mtsizh/bottleneck-distance-for-sigma8/main/{f} > /dev/null && echo \"TRUE\"\n",
        "  result = !wget -q https://raw.githubusercontent.com/mtsizh/bottleneck-distance-for-sigma8/main/{f} && echo \"1\" || echo \"0\"\n",
        "  if result == ['1']:\n",
        "    print('OK')\n",
        "  else:\n",
        "    raise Exception(\"ERROR WHILE DOWNLOADING DATA\")\n",
        "clear_output()\n",
        "print(\"DOWNLOAD SUCCESSFUL\")\n",
        "print(\"PARTS TO ZIP\")\n",
        "result = !zip -qq -F alldata.zip --out alldata_large.zip 2>/dev/null && echo \"1\" || echo \"0\"\n",
        "if result == ['1']:\n",
        "  print('OK')\n",
        "else:\n",
        "  raise Exception(\"ERROR WHILE CREATING LARGE ZIP\")\n",
        "print(\"UNZIPPING\")\n",
        "result = !unzip -o -qq alldata_large.zip 2>/dev/null && echo \"1\" || echo \"0\"\n",
        "if result == ['1']:\n",
        "  print('OK')\n",
        "else:\n",
        "  raise Exception(\"ERROR WHILE UNZIPPING\")\n",
        "print('cleaning')\n",
        "for f in files:\n",
        "  !rm -f {f}\n",
        "clear_output()\n",
        "print(\"ALL DATA DOWNLOADED AND UNPACKED\")"
      ],
      "metadata": {
        "cellView": "form",
        "id": "SzMIc6iSgdh2",
        "outputId": "84549c81-4a58-409f-ddea-a53e67e25ca5",
        "colab": {
          "base_uri": "https://localhost:8080/"
        }
      },
      "execution_count": 1,
      "outputs": [
        {
          "output_type": "stream",
          "name": "stdout",
          "text": [
            "ALL DATA DOWNLOADED AND UNPACKED\n"
          ]
        }
      ]
    },
    {
      "cell_type": "markdown",
      "source": [
        "install gudhi library with the following code (needed for persistence homology calculations)"
      ],
      "metadata": {
        "id": "jb2DFHrD_1O5"
      }
    },
    {
      "cell_type": "code",
      "source": [
        "!pip install ott-jax\n",
        "!pip install POT\n",
        "!pip install eagerpy\n",
        "!pip install gudhi"
      ],
      "metadata": {
        "id": "18noI2tO_0CC"
      },
      "execution_count": null,
      "outputs": []
    },
    {
      "cell_type": "markdown",
      "source": [
        "The following code calculates persistence intervals. Results are saved as `persistence.json` file. Computations are lengthy, please wait until the progressbar reaches 100%. For your convenience `persistence.json.zip` is created so that you can download intermediate data to your computer.\n",
        "\n",
        "If you want to suspend your work for a while: download the zip file and you can later reupload it to Google Colab, unzip with command `!unzip persistence.json.zip` and proceed your work."
      ],
      "metadata": {
        "id": "ReBsh2qSMj13"
      }
    },
    {
      "cell_type": "code",
      "source": [
        "#@markdown Folder with data (should be ok by default)\n",
        "root_folder = \"./alldata2\" #@param {type: \"string\"}\n",
        "#@markdown Choose mass filtering in % (0 to 100)\n",
        "remove_masses_lower_than = 0  #@param {type: \"slider\", min: 0, max: 100}\n",
        "remove_masses_higher_than = 100  #@param {type: \"slider\", min: 0, max: 100}\n",
        "#@markdown Choose random filtering in % (0 to 100)\n",
        "bootstrap_percent = 100  #@param {type: \"slider\", min: 0, max: 100}\n",
        "#@markdown File to save results, use JSON only! (should be ok by default)\n",
        "save_to = \"persistence.json\" #@param {type: \"string\"}\n",
        "\n",
        "if remove_masses_higher_than <= remove_masses_lower_than:\n",
        "  raise Exception(\"Upper masses limit should be larger then the lower limit\")\n",
        "\n",
        "import os\n",
        "from glob import glob\n",
        "import re\n",
        "import numpy as np\n",
        "import pandas as pd\n",
        "import gudhi\n",
        "from ipywidgets import IntProgress\n",
        "from IPython import display\n",
        "\n",
        "\n",
        "def read_all_data(filename, bootstrap_percent=100, mass_filter=[0, 100]):\n",
        "  df = pd.read_csv(filename, sep=r'\\t', header=None, engine ='python')\n",
        "  df.drop(df.columns.difference([0,1,2,3]), axis=1, inplace=True)\n",
        "  df.rename(columns={0:'x', 1:'y', 2:'z', 3:'m'}, inplace=True)\n",
        "  min_m = df['m'].quantile(mass_filter[0]/100)\n",
        "  max_m = df['m'].quantile(mass_filter[1]/100)\n",
        "  df = df[df['m'].between(min_m, max_m)]\n",
        "  df.drop(['m'], axis=1, inplace=True)\n",
        "  all_arr = df.to_numpy()\n",
        "  return all_arr[np.random.choice(all_arr.shape[0], replace=False,\n",
        "                           size=all_arr.shape[0]*bootstrap_percent//100)]\n",
        "\n",
        "def get_persistence_intervals(point_set, dim):\n",
        "  alpha_complex = gudhi.AlphaComplex(points=point_set)\n",
        "  simplex_tree = alpha_complex.create_simplex_tree(default_filtration_value=False)\n",
        "  simplex_tree.compute_persistence()\n",
        "  persistence_intervals = simplex_tree.persistence_intervals_in_dimension(dim)\n",
        "  return persistence_intervals\n",
        "\n",
        "dat_files = [y for x in os.walk(root_folder) for y in glob(os.path.join(x[0], '*.dat'))]\n",
        "reg_expr = '.*\\/([0-9]+)groups_([0-9]+)_new.dat'\n",
        "parsed = [{'filename': f, \n",
        "           'sigma': int(re.match(reg_expr, f).group(1)), \n",
        "           'red_shift': int(re.match(reg_expr, f).group(2))\n",
        "           } for f in dat_files]\n",
        "all_data = pd.DataFrame(columns=[\"sigma8*10\", \"red_shift\", \"dimension\", \"born\", \"persists\"])\n",
        "\n",
        "bar = IntProgress(min=0, max=len(parsed))\n",
        "bar.value = 0\n",
        "display.display(bar)\n",
        "\n",
        "for f in parsed:\n",
        "  data = read_all_data(f['filename'], bootstrap_percent, \n",
        "                       [remove_masses_lower_than, remove_masses_higher_than])\n",
        "  for dim in [0, 1, 2]:\n",
        "    I = get_persistence_intervals(data, dim)\n",
        "    df = {'sigma8*10': f['sigma'], \n",
        "          'red_shift': f['red_shift'], \n",
        "          'dimension': dim,\n",
        "          'born': I[:,0].tolist(),\n",
        "          'dies': I[:,1].tolist(),\n",
        "          'persists': (I[:,1] - I[:,0]).tolist()}\n",
        "    all_data = all_data.append(df, ignore_index = True)\n",
        "  bar.value += 1 \n",
        "\n",
        "all_data.to_json(save_to)\n",
        "print(\"JSON creation complete!\")\n",
        "\n",
        "result =!zip -qq -r {save_to}.zip {save_to} 2>/dev/null && echo \"1\" || echo \"0\"\n",
        "if result == ['1']:\n",
        "  print('zipped')\n",
        "else:\n",
        "  raise Exception(\"ERROR WHILE CREATING ZIP\")"
      ],
      "metadata": {
        "id": "VO_MTMmMrAV9",
        "outputId": "7ebcfdb8-fc06-4024-818c-6ed12cc17582",
        "colab": {
          "base_uri": "https://localhost:8080/",
          "height": 85,
          "referenced_widgets": [
            "7e402751956c4fe88fe6e3a03a1205cc",
            "a231965d996f43d39d18f9b8119594ea",
            "d1aca2769bf24d07a7fc1275f5233e2d"
          ]
        }
      },
      "execution_count": 14,
      "outputs": [
        {
          "output_type": "display_data",
          "data": {
            "text/plain": [
              "IntProgress(value=0, max=144)"
            ],
            "application/vnd.jupyter.widget-view+json": {
              "version_major": 2,
              "version_minor": 0,
              "model_id": "7e402751956c4fe88fe6e3a03a1205cc"
            }
          },
          "metadata": {}
        },
        {
          "output_type": "stream",
          "name": "stdout",
          "text": [
            "JSON creation complete!\n",
            "zipped\n"
          ]
        }
      ]
    },
    {
      "cell_type": "markdown",
      "source": [
        "The following code visualizes results of the previous calculation."
      ],
      "metadata": {
        "id": "_XMnGMJ_3lGf"
      }
    },
    {
      "cell_type": "code",
      "source": [
        "#@markdown File to load data (should be ok by default)\n",
        "read_from = \"persistence.json\" #@param {type: \"string\"}\n",
        "\n",
        "\n",
        "import pandas as pd\n",
        "import matplotlib.pyplot as plt\n",
        "import numpy as np\n",
        "import seaborn as sns\n",
        "sns.set_style(\"whitegrid\")\n",
        "from IPython import display\n",
        "\n",
        "df = pd.read_json(read_from)\n",
        "df = df.groupby(['sigma8*10', 'red_shift', 'dimension']).agg(lambda x: sum(list(x), [])).reset_index()\n",
        "\n",
        "\n",
        "def plot_by_params(dim, sig):\n",
        "  plt.figure(figsize=(12,7))\n",
        "  sns.set_context(\"notebook\", font_scale=1.5)\n",
        "\n",
        "  plt.title(\"$\\sigma_8 = \"+str(sig/10)+\" $, dimension: \"+str(dim))\n",
        "  plt.xlabel(\"Birth\")\n",
        "  plt.ylabel(\"Persistence\")\n",
        "\n",
        "  pick_df = df[(df['sigma8*10'] == sig) & (df['dimension'] == dim)]\n",
        "  r_shifts = pick_df['red_shift'].unique()\n",
        "  cmap = plt.cm.get_cmap('plasma')\n",
        "\n",
        "  for idx,red_shift in enumerate(r_shifts):\n",
        "    X = np.array(pick_df[pick_df['red_shift'] == red_shift]['born'].values[0])\n",
        "    Y = np.array(pick_df[pick_df['red_shift'] == red_shift]['persists'].values[0])\n",
        "    plt.scatter(X, Y, color=cmap(idx/len(r_shifts)), label=\"red shift: \"+str(red_shift))\n",
        "\n",
        "  plt.legend()\n",
        "  plt.show()\n",
        "  \n",
        "\n",
        "import ipywidgets as widgets\n",
        "\n",
        "def make_widget(field):\n",
        "  return widgets.Dropdown(\n",
        "    options=df[field].unique(),\n",
        "    #value='2',\n",
        "    description=field,\n",
        "    disabled=False,\n",
        "  )\n",
        "\n",
        "from ipywidgets import interactive_output\n",
        "\n",
        "w = [make_widget(field) for field in ['dimension', 'sigma8*10']]\n",
        "ui = widgets.HBox(w)\n",
        "out = widgets.interactive_output(plot_by_params, {'dim': w[0], \n",
        "                                                  'sig': w[1]})\n",
        "display.display(ui, out)\n"
      ],
      "metadata": {
        "id": "yDTn2wfXN14I",
        "outputId": "b7d00ae5-1dda-4f89-9a9c-231901758722",
        "colab": {
          "base_uri": "https://localhost:8080/",
          "height": 515,
          "referenced_widgets": [
            "54688a6f32d242f5ab9ad7c94badabd0",
            "c63670438dd146cca903ddd186d885c3",
            "d340a1f69ae3448b99aff53891e1eccb",
            "6694ead087ce4e90bb2b0be467fecdcf",
            "35a5fbd20db8494fb3fc413eddcb5076",
            "d1655efa209b46aa9e3a6f73a2ce6951",
            "3f5a81811826403fb61df6fa80b33ca2",
            "a18c4d551a0a43beb2c1a2dfd3065d08",
            "ce8cb7fa2dcb4a30922fbb8ff1b54a77",
            "ece0b5d091424eb2b4d666d4df12e234"
          ]
        }
      },
      "execution_count": 15,
      "outputs": [
        {
          "output_type": "display_data",
          "data": {
            "text/plain": [
              "HBox(children=(Dropdown(description='dimension', options=(0, 1, 2), value=0), Dropdown(description='sigma8*10'…"
            ],
            "application/vnd.jupyter.widget-view+json": {
              "version_major": 2,
              "version_minor": 0,
              "model_id": "54688a6f32d242f5ab9ad7c94badabd0"
            }
          },
          "metadata": {}
        },
        {
          "output_type": "display_data",
          "data": {
            "text/plain": [
              "Output()"
            ],
            "application/vnd.jupyter.widget-view+json": {
              "version_major": 2,
              "version_minor": 0,
              "model_id": "ce8cb7fa2dcb4a30922fbb8ff1b54a77"
            }
          },
          "metadata": {}
        }
      ]
    },
    {
      "cell_type": "markdown",
      "source": [
        "The following code calculates distances between pairs of simulations. Results are stored as a json file. For your convenience archive is created as well.\n",
        "\n",
        "Warning: takes a lot of time."
      ],
      "metadata": {
        "id": "ITRbeX520Ki8"
      }
    },
    {
      "cell_type": "code",
      "source": [
        "#@markdown File to load data (should be ok by default)\n",
        "read_from = \"persistence.json\" #@param {type: \"string\"}\n",
        "#@markdown Choose metric $W_p$ (p-Wasserstein) or $W_\\infty$ (Bottleneck distance)\n",
        "metric_to_use = \"p-Wasserstein\" #@param [\"Bottleneck distance\", \"p-Wasserstein\"] {allow-input: false}\n",
        "#@markdown If you choose p-Wasserstein set the order p\n",
        "wasserstein_order = 1.0  #@param {type: \"slider\", min: 1.0, max: 5.0}\n",
        "#@markdown File to save results, use JSON only! (should be ok by default)\n",
        "save_to = \"distances.json\" #@param {type: \"string\"}\n",
        "\n",
        "\n",
        "import numpy as np\n",
        "import pandas as pd\n",
        "import gudhi\n",
        "#import gudhi.hera\n",
        "import gudhi.wasserstein\n",
        "from ipywidgets import IntProgress\n",
        "from IPython import display\n",
        "import tensorflow as tf\n",
        "\n",
        "df = pd.read_json(read_from)\n",
        "result = pd.DataFrame(columns=[\"Dsigma8*10\", \"red_shift\", \"dimension\", \"distances\"])\n",
        "\n",
        "bar = IntProgress(min=0, max=len(df.index))\n",
        "bar.value = 0\n",
        "bar1 = IntProgress(min=0, max=len(df.index))\n",
        "bar1.value = 0\n",
        "display.display(bar, bar1)\n",
        "\n",
        "\n",
        "for r_shift in df['red_shift'].unique():\n",
        "  df1 = df[df['red_shift'] == r_shift]\n",
        "  for dimension in df1['dimension'].unique():\n",
        "    df2 = df1[df1['dimension'] == dimension]\n",
        "    distances = {}\n",
        "    for idx1 in range(len(df2.index)):\n",
        "      I1 = np.transpose([df2.iloc[idx1]['born'], df2.iloc[idx1]['dies']]).astype(float)\n",
        "      I1 = tf.convert_to_tensor(I1, dtype=float)\n",
        "      sigma81 = df2.iloc[idx1]['sigma8*10']\n",
        "      bar1.max = len(df2.index)\n",
        "      bar1.value = 0\n",
        "      for idx2 in range(len(df2.index)):\n",
        "        bar1.value += 1\n",
        "        if idx2 <= idx1:\n",
        "          continue\n",
        "        I2 = np.transpose([df2.iloc[idx2]['born'], df2.iloc[idx2]['dies']]).astype(float)\n",
        "        I2 = tf.convert_to_tensor(I2, dtype=float)\n",
        "        sigma82 = df2.iloc[idx2]['sigma8*10']\n",
        "        #print(I1.shape, I2.shape)\n",
        "        if metric_to_use == \"p-Wasserstein\":\n",
        "          #dist = float(gudhi.hera.wasserstein_distance(np.array(I1, dtype=float), \n",
        "          #                                             np.array(I2, dtype=float)))\n",
        "          dist = float(gudhi.wasserstein.wasserstein_distance(I1, \n",
        "                                                              I2,\n",
        "                                                              matching=False,\n",
        "                                                              enable_autodiff=True, \n",
        "                                                              keep_essential_parts=False,\n",
        "                                                              order=wasserstein_order))\n",
        "        else:\n",
        "          dist = float(gudhi.bottleneck_distance(I1, I2))\n",
        "        dsigma = np.abs(sigma81 - sigma82)\n",
        "        if not dsigma in distances:\n",
        "          distances[dsigma] = []\n",
        "        distances[dsigma].append(dist)\n",
        "      bar.value += 1\n",
        "    for dsigma in distances:\n",
        "      row = {'Dsigma8*10': dsigma, \n",
        "             'red_shift': r_shift, \n",
        "             'dimension': dimension,\n",
        "             'distances': distances[dsigma]}\n",
        "      result = result.append(row, ignore_index = True)\n",
        "\n",
        "result.to_json(save_to)\n",
        "print(\"JSON creation complete!\")\n",
        "\n",
        "result =!zip -qq -r {save_to}.zip {save_to} 2>/dev/null && echo \"1\" || echo \"0\"\n",
        "if result == ['1']:\n",
        "  print('zipped')\n",
        "else:\n",
        "  raise Exception(\"ERROR WHILE CREATING ZIP\")"
      ],
      "metadata": {
        "id": "aGOyykSJXHVj",
        "outputId": "77284d48-b88f-403e-b80d-f1af128c1ef7",
        "colab": {
          "base_uri": "https://localhost:8080/",
          "height": 79,
          "referenced_widgets": [
            "39cfd64f423548e196617f702d64d897",
            "c0892c713be24783afea98d2ce7b08a2",
            "cdfa167b0639426f87e464a01e75d2a3",
            "45612b7005004a939945a56912ecc352",
            "96be6aac44cc492bb8e9c9a4c9907ac1",
            "e7bd1ea3a14f4b2c964cfa263315c269"
          ]
        }
      },
      "execution_count": null,
      "outputs": [
        {
          "output_type": "display_data",
          "data": {
            "text/plain": [
              "IntProgress(value=0, max=432)"
            ],
            "application/vnd.jupyter.widget-view+json": {
              "version_major": 2,
              "version_minor": 0,
              "model_id": "39cfd64f423548e196617f702d64d897"
            }
          },
          "metadata": {}
        },
        {
          "output_type": "display_data",
          "data": {
            "text/plain": [
              "IntProgress(value=0, max=432)"
            ],
            "application/vnd.jupyter.widget-view+json": {
              "version_major": 2,
              "version_minor": 0,
              "model_id": "45612b7005004a939945a56912ecc352"
            }
          },
          "metadata": {}
        }
      ]
    },
    {
      "cell_type": "markdown",
      "source": [
        "install KDEpy library with the following code (needed for probability density estimation, specifically finding kernel width by Silverman's rule)"
      ],
      "metadata": {
        "id": "ipAPRiUWxs-h"
      }
    },
    {
      "cell_type": "code",
      "source": [
        "!pip install KDEpy"
      ],
      "metadata": {
        "id": "UlaVXrJqslIN"
      },
      "execution_count": null,
      "outputs": []
    },
    {
      "cell_type": "markdown",
      "source": [
        "The following code visualizes results of the previous calculation."
      ],
      "metadata": {
        "id": "5K0KgGS_0Fho"
      }
    },
    {
      "cell_type": "code",
      "source": [
        "#@markdown File to load data (should be ok by default)\n",
        "read_from = \"distances.json\" #@param {type: \"string\"}\n",
        "\n",
        "import pandas as pd\n",
        "import matplotlib.pyplot as plt\n",
        "import numpy as np\n",
        "import seaborn as sns\n",
        "sns.set_style(\"whitegrid\")\n",
        "from matplotlib.patches import Patch\n",
        "from matplotlib.lines import Line2D\n",
        "from sklearn.neighbors import KernelDensity\n",
        "from KDEpy import FFTKDE\n",
        "\n",
        "df = pd.read_json(read_from)\n",
        "\n",
        "legend_elements = [\n",
        "                    Line2D([0], [0], marker='o', color='w', \n",
        "                          label='$0$ homologies',\n",
        "                          markerfacecolor='r', markersize=10),\n",
        "                   Line2D([0], [0], marker='o', color='w', \n",
        "                          label='$1$ homologies',\n",
        "                          markerfacecolor='b', markersize=10),\n",
        "                  Line2D([0], [0], marker='o', color='w', \n",
        "                          label='$2$ homologies',\n",
        "                          markerfacecolor='g', markersize=10)\n",
        "                   ]\n",
        "\n",
        "def plot_data(ax, data, box_color='b', shift=0.0):\n",
        "  ax.set_xlabel(\"$\\Delta \\sigma_8$\")\n",
        "  ax.set_ylabel(\"$W$ distance\")\n",
        "  y = data['distances'].tolist()\n",
        "  x = data['Dsigma8*10'].tolist()  \n",
        "  y = [y[i] for i in np.argsort(x)]\n",
        "  xu = np.sort(x)/10\n",
        "  medians = [np.median(yd) for yd in y]\n",
        "  import warnings\n",
        "  warnings.filterwarnings(\"ignore\", category=np.VisibleDeprecationWarning) \n",
        "  ax.boxplot(y, \n",
        "              showmeans=True, positions=xu + shift, widths=0.006,\n",
        "              boxprops=dict(color=box_color),\n",
        "              whiskerprops=dict(color=box_color),\n",
        "              capprops=dict(color=box_color),\n",
        "              flierprops=dict(color=box_color, markeredgecolor=box_color))\n",
        "  ax.plot(xu + shift, medians, c=box_color)\n",
        "  ax.set_xlim(np.min(xu)-0.025, np.max(xu)+0.025)\n",
        "  ax.set_navigate(False)\n",
        "  ax.set_xticks(xu)\n",
        "  ax.set_xticklabels(xu)\n",
        "\n",
        "def plot_pdf(ax, data, pdf_color, limits, label):\n",
        "  kde = FFTKDE(bw='silverman', kernel='gaussian')\n",
        "  kde.fit(data)(None)\n",
        "  b_w = kde.bw\n",
        "  kde = KernelDensity(bandwidth=b_w, kernel='gaussian')\n",
        "  kde.fit(data.reshape(-1, 1))\n",
        "  x_d = np.linspace(limits[0], limits[1], 1001)\n",
        "  logprob = kde.score_samples(x_d.reshape(-1, 1))\n",
        "  plt.plot(data, np.full_like(data, 0.0), '|k', markeredgewidth=1, color=pdf_color)\n",
        "  ax.set_title('Pdf approximation')\n",
        "  ax.set_xlabel('$W$ distance for Homologies', fontsize=18)\n",
        "  ax.set_ylabel('Probability density function', fontsize=18)\n",
        "  ax.fill_between(x_d, np.exp(logprob), alpha=0.3, label=label, color=pdf_color)\n",
        "\n",
        "def plot_by_params(red_s, Dsigma8):\n",
        "  sns.set_context(\"notebook\", font_scale=1.5)\n",
        "  fig, axs = plt.subplots(1, 2, figsize=(20,6))\n",
        "  df_filtered = df[df['red_shift'] == red_s]\n",
        "  dims = np.unique(df_filtered['dimension'])\n",
        "  colors = {0:'r', 1:'b', 2:'g'}\n",
        "  for d in dims:\n",
        "    data = df_filtered[df_filtered['dimension'] == d]\n",
        "    plot_data(axs[0], data, \n",
        "              box_color=colors[d],\n",
        "              shift={0:-0.005, 1:0.0, 2:+0.005}[d])\n",
        "  axs[0].legend(handles=legend_elements, loc='upper left', prop={'size': 12})\n",
        "  Dsigma810 = int(Dsigma8*10)\n",
        "  df_filtered = df_filtered[df_filtered['Dsigma8*10'] == Dsigma810]\n",
        "  limits=[np.min(df_filtered['distances'].tolist()), np.max(df_filtered['distances'].tolist())]\n",
        "  for d in dims:\n",
        "    data = df_filtered[df_filtered['dimension'] == d]['distances']\n",
        "    plot_pdf(axs[1], np.array(data.tolist()[0]), pdf_color=colors[d], limits=limits, label=str(d)+\" homology\")  \n",
        "  axs[1].legend()\n",
        "  plt.show()\n",
        "  \n",
        "import ipywidgets as widgets\n",
        "\n",
        "def make_widget(options, descr):\n",
        "  return widgets.Dropdown(\n",
        "    options=options,\n",
        "    #value='2',\n",
        "    description=descr,\n",
        "    disabled=False,\n",
        "  )\n",
        "\n",
        "from ipywidgets import interactive_output\n",
        "\n",
        "w = [make_widget(np.unique(df['red_shift']), 'red shift'),\n",
        "     make_widget(np.unique(df['Dsigma8*10'])/10, 'Delta sigma8 x 10$')]\n",
        "ui = widgets.HBox(w)\n",
        "out = widgets.interactive_output(plot_by_params, {'red_s': w[0],\n",
        "                                                  'Dsigma8': w[1]})\n",
        "display.display(ui, out)\n",
        "\n"
      ],
      "metadata": {
        "id": "DXZQKPTUo0OU",
        "outputId": "36f95fe8-9295-4fda-9f7e-a9cce9a8d7a7",
        "colab": {
          "base_uri": "https://localhost:8080/",
          "height": 463,
          "referenced_widgets": [
            "6366a782d03c433ca2c4987b80473d9f",
            "3a5dcd0a4b174dbeb9b9071ed437c54f",
            "d645daabe4b7487683d1b8c6289bd0a4",
            "d311c3a03e8747bd9b67ea7cf69e4b3c",
            "4633bea8cff4438f9c5e94eb6d956b76",
            "53f6b802f4bd4d919294dc7766bb9eb6",
            "077a18cabce5490e924c2491160fc91f",
            "dfbf175a93344cb189de7b366dcda121",
            "dae893316b1c41b18af5212454ed4847",
            "a04c74d122c44f97880402f5a56f84da"
          ]
        }
      },
      "execution_count": 13,
      "outputs": [
        {
          "output_type": "display_data",
          "data": {
            "text/plain": [
              "HBox(children=(Dropdown(description='red shift', options=(13, 15, 20), value=13), Dropdown(description='Delta …"
            ],
            "application/vnd.jupyter.widget-view+json": {
              "version_major": 2,
              "version_minor": 0,
              "model_id": "6366a782d03c433ca2c4987b80473d9f"
            }
          },
          "metadata": {}
        },
        {
          "output_type": "display_data",
          "data": {
            "text/plain": [
              "Output()"
            ],
            "application/vnd.jupyter.widget-view+json": {
              "version_major": 2,
              "version_minor": 0,
              "model_id": "dae893316b1c41b18af5212454ed4847"
            }
          },
          "metadata": {}
        }
      ]
    }
  ]
}