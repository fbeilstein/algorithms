{
  "nbformat": 4,
  "nbformat_minor": 0,
  "metadata": {
    "colab": {
      "name": "stack_queue_dequeue.ipynb",
      "provenance": [],
      "authorship_tag": "ABX9TyMBeIEi5j/bxuPTNkcWptFs",
      "include_colab_link": true
    },
    "kernelspec": {
      "name": "python3",
      "display_name": "Python 3"
    },
    "language_info": {
      "name": "python"
    }
  },
  "cells": [
    {
      "cell_type": "markdown",
      "metadata": {
        "id": "view-in-github",
        "colab_type": "text"
      },
      "source": [
        "<a href=\"https://colab.research.google.com/github/fbeilstein/algorithms/blob/master/stack_queue_dequeue.ipynb\" target=\"_parent\"><img src=\"https://colab.research.google.com/assets/colab-badge.svg\" alt=\"Open In Colab\"/></a>"
      ]
    },
    {
      "cell_type": "code",
      "metadata": {
        "colab": {
          "base_uri": "https://localhost:8080/"
        },
        "id": "POhzxlbFRfbr",
        "outputId": "847e5ff8-69b2-4532-fa9d-f9a7afa3f28d"
      },
      "source": [
        "from collections import deque\n",
        "\n",
        "cache = deque()\n",
        "cache.append(12)\n",
        "cache.append(32)\n",
        "print(cache)\n",
        "len(cache)\n",
        "cache.pop()"
      ],
      "execution_count": 16,
      "outputs": [
        {
          "output_type": "stream",
          "name": "stdout",
          "text": [
            "deque([12, 32])\n"
          ]
        },
        {
          "output_type": "execute_result",
          "data": {
            "text/plain": [
              "32"
            ]
          },
          "metadata": {},
          "execution_count": 16
        }
      ]
    },
    {
      "cell_type": "markdown",
      "metadata": {
        "id": "VlqDziKU3vpZ"
      },
      "source": [
        "###Remove All Adjacent Duplicates in String II"
      ]
    },
    {
      "cell_type": "code",
      "metadata": {
        "id": "eUFatd1N3u9d"
      },
      "source": [
        "class Solution:\n",
        "    def removeDuplicates(self, s: str, k: int) -> str:\n",
        "        cache = deque()\n",
        "        for c in s:\n",
        "            if not cache or cache[-1][0] != c:\n",
        "                cache.append((c, 1))\n",
        "            else:\n",
        "                cache[-1] = (c, cache[-1][1] + 1)\n",
        "            if cache[-1][1] == k:\n",
        "                cache.pop()\n",
        "        result = \"\"\n",
        "        while cache:\n",
        "            c, times = cache.pop()\n",
        "            result = c*times + result\n",
        "        return result"
      ],
      "execution_count": null,
      "outputs": []
    }
  ]
}