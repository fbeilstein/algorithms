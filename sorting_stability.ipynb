{
  "nbformat": 4,
  "nbformat_minor": 0,
  "metadata": {
    "colab": {
      "name": "sorting_stability.ipynb",
      "provenance": [],
      "authorship_tag": "ABX9TyMP3cecYYHaJ1mods0rlq6V",
      "include_colab_link": true
    },
    "kernelspec": {
      "name": "python3",
      "display_name": "Python 3"
    },
    "language_info": {
      "name": "python"
    }
  },
  "cells": [
    {
      "cell_type": "markdown",
      "metadata": {
        "id": "view-in-github",
        "colab_type": "text"
      },
      "source": [
        "<a href=\"https://colab.research.google.com/github/fbeilstein/algorithms/blob/master/sorting_stability.ipynb\" target=\"_parent\"><img src=\"https://colab.research.google.com/assets/colab-badge.svg\" alt=\"Open In Colab\"/></a>"
      ]
    },
    {
      "cell_type": "code",
      "execution_count": null,
      "metadata": {
        "colab": {
          "base_uri": "https://localhost:8080/"
        },
        "id": "tsyIKuFiBJL5",
        "outputId": "9381493e-ee9f-4591-f25d-5c20140b3be9"
      },
      "outputs": [
        {
          "output_type": "stream",
          "name": "stdout",
          "text": [
            "sorting stability\n"
          ]
        }
      ],
      "source": [
        "print(\"sorting stability\")"
      ]
    },
    {
      "cell_type": "code",
      "source": [
        "arr = [3, 14, 1, 10, 3, 2]\n",
        "\n",
        "for i in range(len(arr)):\n",
        "  for j in range(len(arr)):\n",
        "    if arr[i] < arr[j]:\n",
        "      arr[i], arr[j] = arr[j], arr[i]\n",
        "  print(arr)\n",
        "\n",
        "print(arr)"
      ],
      "metadata": {
        "colab": {
          "base_uri": "https://localhost:8080/"
        },
        "id": "U4zuGeaXKS_N",
        "outputId": "a3f9d097-d785-4198-8d7f-b679583c25da"
      },
      "execution_count": 2,
      "outputs": [
        {
          "output_type": "stream",
          "name": "stdout",
          "text": [
            "[14, 3, 1, 10, 3, 2]\n",
            "[3, 14, 1, 10, 3, 2]\n",
            "[1, 3, 14, 10, 3, 2]\n",
            "[1, 3, 10, 14, 3, 2]\n",
            "[1, 3, 3, 10, 14, 2]\n",
            "[1, 2, 3, 3, 10, 14]\n",
            "[1, 2, 3, 3, 10, 14]\n"
          ]
        }
      ]
    }
  ]
}