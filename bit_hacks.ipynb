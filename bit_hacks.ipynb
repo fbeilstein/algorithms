{
  "nbformat": 4,
  "nbformat_minor": 0,
  "metadata": {
    "colab": {
      "name": "bit_hacks.ipynb",
      "provenance": [],
      "authorship_tag": "ABX9TyMrNoSLiKnXzLUMkG2k+dp2",
      "include_colab_link": true
    },
    "kernelspec": {
      "name": "python3",
      "display_name": "Python 3"
    },
    "language_info": {
      "name": "python"
    }
  },
  "cells": [
    {
      "cell_type": "markdown",
      "metadata": {
        "id": "view-in-github",
        "colab_type": "text"
      },
      "source": [
        "<a href=\"https://colab.research.google.com/github/fbeilstein/algorithms/blob/master/bit_hacks.ipynb\" target=\"_parent\"><img src=\"https://colab.research.google.com/assets/colab-badge.svg\" alt=\"Open In Colab\"/></a>"
      ]
    },
    {
      "cell_type": "markdown",
      "metadata": {
        "id": "Kqgd9TdCMIPM"
      },
      "source": [
        "##Problems"
      ]
    },
    {
      "cell_type": "markdown",
      "metadata": {
        "id": "iYz4y0EKMKrg"
      },
      "source": [
        "###Sum of Two Integers"
      ]
    },
    {
      "cell_type": "code",
      "metadata": {
        "id": "4iJNnyU1t40j"
      },
      "source": [
        "class Solution:\n",
        "    def getSum(self, a: int, b: int) -> int:\n",
        "        mask = 0xffffffff\n",
        "        while b & mask:\n",
        "            semi_sum = a ^ b\n",
        "            carry    = (a & b) << 1\n",
        "            a, b = semi_sum, carry\n",
        "        if b: return a & mask; \n",
        "        return a\n",
        "# https://leetcode.com/problems/sum-of-two-integers/"
      ],
      "execution_count": null,
      "outputs": []
    },
    {
      "cell_type": "markdown",
      "metadata": {
        "id": "YxAEe-DkNeUI"
      },
      "source": [
        "###Determine Color of a Chessboard Square"
      ]
    },
    {
      "cell_type": "code",
      "metadata": {
        "id": "XfBYiOmMNdhl"
      },
      "source": [
        "class Solution:\n",
        "    def squareIsWhite(self, coordinates: str) -> bool:\n",
        "        return (ord(coordinates[0]) + int(coordinates[1])) & 1\n",
        "\n",
        "\n",
        "# https://leetcode.com/problems/determine-color-of-a-chessboard-square/"
      ],
      "execution_count": null,
      "outputs": []
    },
    {
      "cell_type": "markdown",
      "metadata": {
        "id": "IINdzHAWCwEQ"
      },
      "source": [
        "###Power of Two"
      ]
    },
    {
      "cell_type": "code",
      "metadata": {
        "id": "QYm-7g9sCve5"
      },
      "source": [
        "class Solution:\n",
        "    def isPowerOfTwo(self, n: int) -> bool:\n",
        "        return n and not (n & (n-1))\n",
        "        \n",
        "# https://leetcode.com/problems/power-of-two/"
      ],
      "execution_count": null,
      "outputs": []
    },
    {
      "cell_type": "markdown",
      "metadata": {
        "id": "z0aCoHoVDQWj"
      },
      "source": [
        "###Single Number"
      ]
    },
    {
      "cell_type": "code",
      "metadata": {
        "id": "XQpB_QI_DPm-"
      },
      "source": [
        "class Solution:\n",
        "    def singleNumber(self, nums: List[int]) -> int:\n",
        "        return reduce(lambda x,y: x^y, nums)\n",
        "        \n",
        "\n",
        "# https://leetcode.com/problems/single-number/"
      ],
      "execution_count": null,
      "outputs": []
    }
  ]
}