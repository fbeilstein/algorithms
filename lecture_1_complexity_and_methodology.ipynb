{
  "nbformat": 4,
  "nbformat_minor": 0,
  "metadata": {
    "colab": {
      "provenance": [],
      "toc_visible": true,
      "include_colab_link": true
    },
    "kernelspec": {
      "name": "python3",
      "display_name": "Python 3"
    },
    "language_info": {
      "name": "python"
    }
  },
  "cells": [
    {
      "cell_type": "markdown",
      "metadata": {
        "id": "view-in-github",
        "colab_type": "text"
      },
      "source": [
        "<a href=\"https://colab.research.google.com/github/fbeilstein/algorithms/blob/master/lecture_1_complexity_and_methodology.ipynb\" target=\"_parent\"><img src=\"https://colab.research.google.com/assets/colab-badge.svg\" alt=\"Open In Colab\"/></a>"
      ]
    },
    {
      "cell_type": "markdown",
      "source": [
        "# Good practices of problem solving"
      ],
      "metadata": {
        "id": "rV9Z3DrIKtbc"
      }
    },
    {
      "cell_type": "markdown",
      "source": [
        "## Math Prerequisites\n",
        "\n",
        "* O-notation and complexity\n",
        "* what is a set, function/map\n",
        "* numbers, bits/binary operations, hex\n",
        "* elementary probability theory, bimomial coefficients\n",
        "* elementary combinatorics\n",
        "* formula for sum of arithmetic progression, formula for sum of geometric progression, formula for the sum of odd numbers\n",
        "* prime numbers, divisors, GCD, GCR, modulo algebra\n",
        "* elementary geometry: perimeter/area, rotations"
      ],
      "metadata": {
        "id": "VZWEBSWYMqvX"
      }
    },
    {
      "cell_type": "markdown",
      "source": [
        "## Tools Beside Math\n",
        "\n",
        "* paper and pen\n",
        "* inkscape/paint/online paint/excel/Mathematica/online gifmaker\n",
        "* online services (convert to binary, prime number decomposition)"
      ],
      "metadata": {
        "id": "TlLiJ9Q7MyE4"
      }
    },
    {
      "cell_type": "markdown",
      "source": [
        "## What Makes a Good Algorithm Good\n",
        "\n",
        "* time-space efficiency\n",
        "* short and clean code\n",
        "* minimal edgecases\n",
        "* no code duplication\n",
        "* minimal +/- 1s or other constants"
      ],
      "metadata": {
        "id": "MtTGEczUN4tI"
      }
    },
    {
      "cell_type": "markdown",
      "source": [
        "## How to get better at problem solving\n",
        "\n",
        "* keep practicing\n",
        "* learn common techniques\n",
        "* practice programming language (and other tools) while solving problems\n",
        "* keep track and cathegorize solved problems by techniques"
      ],
      "metadata": {
        "id": "XcTohyNYTSXT"
      }
    },
    {
      "cell_type": "markdown",
      "source": [
        "## Problem-Solving Cycle\n",
        "\n",
        "problem solving is WORK (and a bit of art). You need to work on the solution not just find it. It also takes time and a certain number of failures to be good at problem solving.\n",
        "\n",
        "\n",
        "personalize problem solving\n",
        "* what problems/solutions you like and why\n",
        "* develop your set of \"tricks\"\n",
        "* try to find your style of programming\n",
        "* find your favourite youtuber(examples), book on algorithms\n"
      ],
      "metadata": {
        "id": "U0WLfz-FOi2x"
      }
    },
    {
      "cell_type": "code",
      "source": [
        "#@title Problem-Solving Cycle\n",
        "%%html\n",
        "\n",
        "<svg width=\"93mm\" height=\"73mm\" version=\"1.1\" viewBox=\"0 0 186.86 147.79\" xmlns=\"http://www.w3.org/2000/svg\" xmlns:cc=\"http://creativecommons.org/ns#\" xmlns:dc=\"http://purl.org/dc/elements/1.1/\" xmlns:ns7=\"http://www.iki.fi/pav/software/textext/\" xmlns:rdf=\"http://www.w3.org/1999/02/22-rdf-syntax-ns#\">\n",
        " <defs>\n",
        "  <marker id=\"Arrow1Mend\" overflow=\"visible\" orient=\"auto\">\n",
        "   <path transform=\"matrix(-.4 0 0 -.4 -4 0)\" d=\"m0 0 5-5-17.5 5 17.5 5z\" fill=\"#00caff\" fill-rule=\"evenodd\" stroke=\"#00caff\" stroke-width=\"1pt\"/>\n",
        "  </marker>\n",
        "  <marker id=\"Arrow1Mend-4\" overflow=\"visible\" orient=\"auto\">\n",
        "   <path transform=\"matrix(-.4 0 0 -.4 -4 0)\" d=\"m0 0 5-5-17.5 5 17.5 5z\" fill=\"#00caff\" fill-rule=\"evenodd\" stroke=\"#00caff\" stroke-width=\"1pt\"/>\n",
        "  </marker>\n",
        "  <marker id=\"Arrow1Mend-4-6\" overflow=\"visible\" orient=\"auto\">\n",
        "   <path transform=\"matrix(-.4 0 0 -.4 -4 0)\" d=\"m0 0 5-5-17.5 5 17.5 5z\" fill=\"#00caff\" fill-rule=\"evenodd\" stroke=\"#00caff\" stroke-width=\"1pt\"/>\n",
        "  </marker>\n",
        " </defs>\n",
        " <metadata>\n",
        "  <rdf:RDF>\n",
        "   <cc:Work rdf:about=\"\">\n",
        "    <dc:format>image/svg+xml</dc:format>\n",
        "    <dc:type rdf:resource=\"http://purl.org/dc/dcmitype/StillImage\"/>\n",
        "    <dc:title/>\n",
        "   </cc:Work>\n",
        "  </rdf:RDF>\n",
        " </metadata>\n",
        " <g transform=\"translate(-12.628 13.123)\">\n",
        "  <g transform=\"translate(69.843 47.184)\" ns7:alignment=\"middle center\" ns7:jacobian_sqrt=\"1.0\" ns7:pdfconverter=\"inkscape\" ns7:preamble=\"C:\\\\Users\\\\User\\\\AppData\\\\Roaming\\\\inkscape\\\\extensions\\\\textext\\\\default_packages.tex\" ns7:scale=\"2.834645669291339\" ns7:texconverter=\"pdflatex\" ns7:text=\"$9 6 0 8 0 9 6$\" ns7:version=\"1.1.0\">\n",
        "   <defs id=\"id-ede1eb28-7eab-4f7d-bc35-b221ca771c9b\"></defs>\n",
        "   <g transform=\"translate(-149.13 -128.12)\">\n",
        "    <g fill=\"#000000\">\n",
        "     <g font-family=\"'Courier New'\" font-size=\"10.583px\" font-weight=\"bold\" stroke-width=\".26458\">\n",
        "      <text x=\"158.79012\" y=\"74.519356\" style=\"line-height:1.25\" xml:space=\"preserve\"><tspan x=\"158.79012\" y=\"74.519356\"> Design</tspan><tspan x=\"158.79012\" y=\"87.748482\">solution</tspan></text>\n",
        "      <text x=\"222.52843\" y=\"173.51137\" fill=\"#000000\" style=\"line-height:1.25\" xml:space=\"preserve\"><tspan x=\"222.52843\" y=\"173.51137\">Refactor/</tspan><tspan x=\"222.52843\" y=\"186.74049\">explore</tspan></text>\n",
        "      <text x=\"91.69735\" y=\"175.57301\" fill=\"#000000\" style=\"line-height:1.25\" xml:space=\"preserve\"><tspan x=\"91.69735\" y=\"175.57301\">Challenge</tspan><tspan x=\"91.69735\" y=\"188.80214\">yourself</tspan></text>\n",
        "     </g>\n",
        "     <g fill=\"none\" stroke=\"#00caff\" stroke-width=\"1.665\">\n",
        "      <path d=\"m223.06 89.654c23.197 15.865 34.394 42.702 27.197 68.597\" marker-end=\"url(#Arrow1Mend)\"/>\n",
        "      <path d=\"m218.17 204.79c-24.12 14.423-53.18 13.355-73.682-4.0228\" marker-end=\"url(#Arrow1Mend-4)\"/>\n",
        "      <path d=\"m115.86 157.66c-5.8212-27.494 4.6125-54.637 27.7-68.395\" marker-end=\"url(#Arrow1Mend-4-6)\"/>\n",
        "     </g>\n",
        "    </g>\n",
        "   </g>\n",
        "  </g>\n",
        " </g>\n",
        "</svg>\n",
        " </g>\n",
        "</svg>\n"
      ],
      "metadata": {
        "cellView": "form",
        "id": "k2JVxWRFlrQ-",
        "outputId": "437d5a06-18cf-4736-8855-e9aa6205f4b6",
        "colab": {
          "base_uri": "https://localhost:8080/",
          "height": 298
        }
      },
      "execution_count": 6,
      "outputs": [
        {
          "output_type": "display_data",
          "data": {
            "text/plain": [
              "<IPython.core.display.HTML object>"
            ],
            "text/html": [
              "\n",
              "<svg width=\"93mm\" height=\"73mm\" version=\"1.1\" viewBox=\"0 0 186.86 147.79\" xmlns=\"http://www.w3.org/2000/svg\" xmlns:cc=\"http://creativecommons.org/ns#\" xmlns:dc=\"http://purl.org/dc/elements/1.1/\" xmlns:ns7=\"http://www.iki.fi/pav/software/textext/\" xmlns:rdf=\"http://www.w3.org/1999/02/22-rdf-syntax-ns#\">\n",
              " <defs>\n",
              "  <marker id=\"Arrow1Mend\" overflow=\"visible\" orient=\"auto\">\n",
              "   <path transform=\"matrix(-.4 0 0 -.4 -4 0)\" d=\"m0 0 5-5-17.5 5 17.5 5z\" fill=\"#00caff\" fill-rule=\"evenodd\" stroke=\"#00caff\" stroke-width=\"1pt\"/>\n",
              "  </marker>\n",
              "  <marker id=\"Arrow1Mend-4\" overflow=\"visible\" orient=\"auto\">\n",
              "   <path transform=\"matrix(-.4 0 0 -.4 -4 0)\" d=\"m0 0 5-5-17.5 5 17.5 5z\" fill=\"#00caff\" fill-rule=\"evenodd\" stroke=\"#00caff\" stroke-width=\"1pt\"/>\n",
              "  </marker>\n",
              "  <marker id=\"Arrow1Mend-4-6\" overflow=\"visible\" orient=\"auto\">\n",
              "   <path transform=\"matrix(-.4 0 0 -.4 -4 0)\" d=\"m0 0 5-5-17.5 5 17.5 5z\" fill=\"#00caff\" fill-rule=\"evenodd\" stroke=\"#00caff\" stroke-width=\"1pt\"/>\n",
              "  </marker>\n",
              " </defs>\n",
              " <metadata>\n",
              "  <rdf:RDF>\n",
              "   <cc:Work rdf:about=\"\">\n",
              "    <dc:format>image/svg+xml</dc:format>\n",
              "    <dc:type rdf:resource=\"http://purl.org/dc/dcmitype/StillImage\"/>\n",
              "    <dc:title/>\n",
              "   </cc:Work>\n",
              "  </rdf:RDF>\n",
              " </metadata>\n",
              " <g transform=\"translate(-12.628 13.123)\">\n",
              "  <g transform=\"translate(69.843 47.184)\" ns7:alignment=\"middle center\" ns7:jacobian_sqrt=\"1.0\" ns7:pdfconverter=\"inkscape\" ns7:preamble=\"C:\\\\Users\\\\User\\\\AppData\\\\Roaming\\\\inkscape\\\\extensions\\\\textext\\\\default_packages.tex\" ns7:scale=\"2.834645669291339\" ns7:texconverter=\"pdflatex\" ns7:text=\"$9 6 0 8 0 9 6$\" ns7:version=\"1.1.0\">\n",
              "   <defs id=\"id-ede1eb28-7eab-4f7d-bc35-b221ca771c9b\"></defs>\n",
              "   <g transform=\"translate(-149.13 -128.12)\">\n",
              "    <g fill=\"#000000\">\n",
              "     <g font-family=\"'Courier New'\" font-size=\"10.583px\" font-weight=\"bold\" stroke-width=\".26458\">\n",
              "      <text x=\"158.79012\" y=\"74.519356\" style=\"line-height:1.25\" xml:space=\"preserve\"><tspan x=\"158.79012\" y=\"74.519356\"> Design</tspan><tspan x=\"158.79012\" y=\"87.748482\">solution</tspan></text>\n",
              "      <text x=\"222.52843\" y=\"173.51137\" fill=\"#000000\" style=\"line-height:1.25\" xml:space=\"preserve\"><tspan x=\"222.52843\" y=\"173.51137\">Refactor/</tspan><tspan x=\"222.52843\" y=\"186.74049\">explore</tspan></text>\n",
              "      <text x=\"91.69735\" y=\"175.57301\" fill=\"#000000\" style=\"line-height:1.25\" xml:space=\"preserve\"><tspan x=\"91.69735\" y=\"175.57301\">Challenge</tspan><tspan x=\"91.69735\" y=\"188.80214\">yourself</tspan></text>\n",
              "     </g>\n",
              "     <g fill=\"none\" stroke=\"#00caff\" stroke-width=\"1.665\">\n",
              "      <path d=\"m223.06 89.654c23.197 15.865 34.394 42.702 27.197 68.597\" marker-end=\"url(#Arrow1Mend)\"/>\n",
              "      <path d=\"m218.17 204.79c-24.12 14.423-53.18 13.355-73.682-4.0228\" marker-end=\"url(#Arrow1Mend-4)\"/>\n",
              "      <path d=\"m115.86 157.66c-5.8212-27.494 4.6125-54.637 27.7-68.395\" marker-end=\"url(#Arrow1Mend-4-6)\"/>\n",
              "     </g>\n",
              "    </g>\n",
              "   </g>\n",
              "  </g>\n",
              " </g>\n",
              "</svg>\n",
              " </g>\n",
              "</svg>\n"
            ]
          },
          "metadata": {}
        }
      ]
    },
    {
      "cell_type": "markdown",
      "source": [
        "### How to start\n",
        "\n",
        "* observe the pattern (if possible)\n",
        "* dimensionality reduction\n",
        "* wishful thinking, ommiting/adding constaints\n",
        "* test driven solving (try to solve one small example)\n",
        "* come up with bad algo ($N^2$) and try to improve it\n",
        "* reduction to the previously solved problems (subarrays -> probably two pointers)\n",
        "* analyze constraints: do constraints help or get the solving harder\n"
      ],
      "metadata": {
        "id": "BIc2fOb2OpW5"
      }
    },
    {
      "cell_type": "markdown",
      "source": [
        "### What to do if you're stuck\n",
        "\n",
        "* get rest\n",
        "* reread the problem formulation AND space contraints (if available) - you may have tried to solve not what you were asked\n",
        "* start from stratch or persuit another approach (if you have it)\n",
        "* try to categorise testcases\n",
        "* try to remember problem that is vaugely resemblant\n",
        "* try to enumerate everything you know and trying to use it in the contest of the problem\n",
        "* duck programming\n",
        "* brainstorming, thinking outside of the box\n",
        "* ask for help/gather informations about the asked quantities\n",
        "* maybe the problem is too hard for you and you need to solve simpler problems that lead to this problem\n",
        "* remember the approaches that you have tried and why they failed. You may need to reuse them in a new setup\n",
        "* solving as gathering information about the problem. It's worse when you are out of ideas, not when they fail\n",
        "\n"
      ],
      "metadata": {
        "id": "BDvDj2U1PAkp"
      }
    },
    {
      "cell_type": "markdown",
      "source": [
        "### Postproduction: how to understand and improve the existing solution\n",
        "\n",
        "* code you wrote may be clever than you: explore it\n",
        "* try to break your code\n",
        "* trying to delete lines\n",
        "* duck programming\n",
        "* explore edgecases\n",
        "* dry runs\n",
        "* use of pictures and animations, the importance of explanations\n",
        "* try different methods even if one is successful (iteration/recursion, dfs/bfs)\n",
        "* explore solutions of other people\n",
        "* push the limit: one pass algos, one liners, use of functional programming(example: reverse string), delete code duplication/edgecases, minimal number of variables\n",
        "* reflect on the strategy: analyse your mental blocks, assumptions, bad ideas\n",
        "\n"
      ],
      "metadata": {
        "id": "-U2AJo8sPXBo"
      }
    },
    {
      "cell_type": "markdown",
      "source": [
        "## Psychology in Problem-Solving"
      ],
      "metadata": {
        "id": "JZ5ni9kURpIt"
      }
    },
    {
      "cell_type": "markdown",
      "source": [
        "### Learn how to fail\n",
        "\n",
        "* positive thinking = failing is ok. Monitor and control you phcycological state don't panic, don't be nervous, don't be impatient\n",
        "* problem solving is finding a way of accomplishing a task with a given set of tools. Think of it - you are doing something that you initially don't know how to do. Isn't it cool? You like a machine that builds itself.\n",
        "* honesty: admit to yourself if you don't fully understand some part of you algo works, admit when you are tired, admit when you are out of ideas\n",
        "* endurance and phycological recharging. Take breaks(story about lord Hamilton), stay fed, hydrated, well-rested.\n",
        "* problem is not your foe\n",
        "* don't get discouraged by how good the others are\n",
        "* you are not stupid. Selfdeprication is counterproductive. What seemed difficult of even impossible at first will become trivial at the end. That's called personal growth.\n",
        "* every solution matters, explore solutions\n",
        "* explore your solving strategies\n"
      ],
      "metadata": {
        "id": "XJwAsZpRRuhH"
      }
    },
    {
      "cell_type": "markdown",
      "source": [
        "### How to approach the problem\n",
        "\n",
        "1. Read the problem\n",
        "2. Make sure that you understand the problem\n",
        "   - Do you understand all the terms used?\n",
        "   - Can you restate the problem in your own words?\n",
        "   - Do you understand all the limitations? Which parameters are integers and which are reals? Are some numbers strictly positive? How large are arrays? How long can be strings? If you program with C++ do some numbers overflow int? etc.\n",
        "   - Can you think of at least one input and expected output?\n",
        "   - Draw the picture if that is possible.\n",
        "3. Create a test set of at least two inputs and expected outputs, make sure that you understand all corner cases. Draw the picture if that is possible.\n",
        "4. Think about solution in general, suppose that someone will provide you with a \"magic library\" that has all standard algorithms (e.g. quicksort) implemented. Sketch your solution. If no idea comes to your mind, see the next section.\n",
        "5. Try your solution on your testcases. Fix problems if they appear. If you spotted a fundamental flaw that cannot be fixed return to 4.\n",
        "6. Check complexities\n",
        "   - Estimate complexity of your solution.\n",
        "   - Estimate the lower bound complexity of any possible solution (e.g. if changing one of the array's elements changes the entire result, you should look at each element at least once, thus no better solution than O(n)).\n",
        "   - How strongly do your complexities disagree? If the disagreement is very strong, rethink your lower bound estimate first and return to 4 if nothing changes. (if you have no time, proceed with your solution as is -- it is better to create bad solution than no solution)\n",
        "7. Implement\n",
        "   - Write the main function, use standard algorithms as if they were implemented for you in some \"magic library\"\n",
        "   - Check which unimplemented functions did you use, implement them. Don't forget to check them with custom inputs and expected outputs.\n",
        "   - Check the whole algorithm against your custom inputs.\n",
        "8. Debug\n",
        "   - Check corner cases, fix problems if they appear.\n",
        "   - Think of at least one more input and expected output you didn't use previously, fix problems if they appear.\n",
        "9. If you have some more time -- optimize.\n",
        "\n"
      ],
      "metadata": {
        "id": "UITyXWr1LE0r"
      }
    },
    {
      "cell_type": "markdown",
      "source": [
        "### I'm running out of ideas, what to do?\n",
        "\n",
        "Basically, there is no general approach to solve any problem (obviously), but I tried to collect all the techniques that come to my mind and can be useful.\n",
        "\n",
        "1. Remember all similar problems, they may give you a hint which way to look for the solution\n",
        "2. Nonexisting constraints\n",
        "   - check that you did not restrict yourself more than the problem says (e.g. \"find a number such that...\" may mean \"find _any_ number such that...\", not the minimal or the maximal one)\n",
        "3. Simplify the problem -- its simpler version may give you some insights into the original problem\n",
        "   * Perform simplification\n",
        "       - if the problem considers many dimensions, try reducing them to 1 or 2\n",
        "       - if the problem considers many elements, try solving the same for 2 or 3 elements\n",
        "       - etc\n",
        "   * Solve the simplified version\n",
        "   * Return to the original problem\n",
        "       - can you solve the original problem now?\n",
        "       - check if original problem can be reduced to the simplified version by some procedure\n",
        "       - check if original problem is equivalent to the simplified version (maybe, you'll need to prove some statements)\n",
        "4. Mathematical induction approach\n",
        "   - Suppose, you have a function that solves the problem for N elements, can you solve it for N+1 ?\n",
        "   - Suppose, you have a function that solves the problem for N elements, can you solve it for 2*N ?\n",
        "5. Split the problem\n",
        "   - Can you represent the problem as few subproblems and solve them separately?\n",
        "   - Are there any additional data that may help you?\n",
        "   - Can you solve the problem if you have these data?\n",
        "   - Can it be more easy to focus on obtaining these data instead of the original problem?\n",
        "6. Special cases\n",
        "   - Are there any restrictions that may help you to solve the problem?\n",
        "   - Apply these restrictions and solve the problem.\n",
        "   - Can you think on how to solve the problem without restrictions?\n",
        "   - Can you find a method of reducing the original problem to the restricted problem?\n",
        "7. One particular case\n",
        "   - Can you solve the problem \"by hands\" for one certain input?\n",
        "   - Can you somehow transform your solution to something comprehensible by computer?\n",
        "   - Draw the picture of how you are solving the problem.\n",
        "8. Best matching (if you need to find a tuple or tripple of certain elements that maximize or minimize certain condition)\n",
        "   - Suppose you know that one of these elements should definitely be X, can you find its mates?\n",
        "   - Suppose you iterate over all possible combinations, can you reject at least some of them immediately?\n",
        "9. Generation vs Calculation.\n",
        "   - If you need a_n, but can't find a closed form, try generating all a's."
      ],
      "metadata": {
        "id": "0d6I-b30LNwE"
      }
    },
    {
      "cell_type": "markdown",
      "source": [
        "## Books\n",
        "\n",
        "* **Aditya Bhargava**, Grokking Algorithms: An Illustrated Guide for Programmers and Other Curious People\n",
        "* **Robert Sedgewick**, **Kevin Wayne**, Algorithms\n",
        "* **Cormen T.**, **Leiserson C.**, **Rivest R.**, **Stein C.**, Introduction to algorithms\n",
        "* **George Pólya**, How to Solve It\n",
        "* **Spraul V.**, Think like a programmer\n",
        "* **Bentley J.**, Programming pearls\n",
        "* **Warren H.**, Hacker's Delight\n",
        "* **Filho W.**, Computer science distilled\n",
        "* [Reducible (YouTube)](https://www.youtube.com/@Reducible)\n",
        "* [abdul_bari (YouTube)](https://www.youtube.com/@abdul_bari)\n",
        "* [freecodecamp (YouTube)](https://www.youtube.com/@freecodecamp)\n",
        "* [JennyslecturesCSIT (YouTube)](https://www.youtube.com/@JennyslecturesCSIT)"
      ],
      "metadata": {
        "id": "wVgBYMAvdOmV"
      }
    },
    {
      "cell_type": "markdown",
      "source": [
        "# Complexity"
      ],
      "metadata": {
        "id": "S4VMo6-hCb7K"
      }
    },
    {
      "cell_type": "markdown",
      "metadata": {
        "id": "doAqbCHh3kTG"
      },
      "source": [
        "**Family of Bachmann–Landau notations**\n",
        "\n",
        "| &nbsp;&nbsp;&nbsp;&nbsp;&nbsp;&nbsp;&nbsp;&nbsp;Notation&nbsp;&nbsp;&nbsp;&nbsp;&nbsp;&nbsp;&nbsp;&nbsp;&nbsp;&nbsp;&nbsp;&nbsp; | Name | Description | &nbsp;&nbsp;&nbsp;&nbsp;&nbsp;&nbsp;&nbsp;&nbsp;&nbsp;&nbsp;&nbsp;&nbsp;&nbsp;&nbsp;&nbsp;&nbsp;&nbsp;&nbsp;&nbsp;Formal Definition&nbsp;&nbsp;&nbsp;&nbsp;&nbsp;&nbsp;&nbsp;&nbsp;&nbsp;&nbsp;&nbsp;&nbsp;&nbsp;&nbsp;&nbsp;&nbsp;&nbsp;&nbsp;&nbsp; | &nbsp;&nbsp;&nbsp;&nbsp;&nbsp;&nbsp;&nbsp;&nbsp;&nbsp;&nbsp;&nbsp;&nbsp;Limit Definition&nbsp;&nbsp;&nbsp;&nbsp;&nbsp;&nbsp;&nbsp;&nbsp;&nbsp;&nbsp;&nbsp;&nbsp; |\n",
        "| --- | --- | --- | --- | --- |\n",
        "| $f(n) = O(g(n))$ | Big O; Big Oh; Big Omicron | $|f|$ is bounded above by $g$ (up to constant factor) asymptotically | $\\exists k > 0:  \\exists n_0:  \\forall n>n_0:  |f(n)|\\leq k g(n)$ | $\\limsup_{n \\to \\infty} \\frac{\\left|f(n)\\right|}{g(n)} < \\infty$ |\n",
        "| $f(n) = \\Theta(g(n))$ | Big Theta | $f \\text{ is bounded both above and below by } g \\text{ asymptotically}$ | $\\exists k_1 > 0 ~ \\exists k_2>0 ~ \\exists n_0 ~ \\forall n > n_0 \\text{ : } k_1 \\cdot g(n) \\leq f(n) \\leq k_2 \\cdot g(n)$ | $f(n) = O(g(n)) \\text{ and } f(n) = \\Omega(g(n)) \\text{ (Knuth version)}$ |\n",
        "| $f(n) = \\Omega(g(n))$ | Big Omega in complexity theory (Knuth) | $f$ is bounded below by $g$ asymptotically | $\\exists k > 0  \\exists n_0  \\forall  n>n_0\\colon   f(n) \\geq k\\cdot g(n)$ | $\\liminf_{n \\to \\infty} \\frac{f(n)}{g(n)} > 0 $|\n",
        "| $f(n) = o(g(n))$ | Small O; Small Oh | $f$ is dominated by $g$ asymptotically | $\\forall k>0  \\exists n_0  \\forall n > n_0\\colon  |f(n)| < k\\cdot g(n)$ | $\\lim_{n \\to \\infty} \\frac{\\left|f(n)\\right|}{g(n)} = 0$ |\n",
        "| $f(n)\\sim g(n)$ | On the order of | $f$ is equal to $g$ asymptotically | $\\forall \\varepsilon > 0 \\exists n_0\\forall n > n_0\\colon \\left| \\frac{f(n)}{g(n)} - 1 \\right|  < \\varepsilon$ | $\\lim_{n \\to \\infty} \\frac{f(n)}{g(n)} = 1$ |\n",
        "| $f(n) = \\omega(g(n))$ | Small Omega | $f$ dominates $g$ asymptotically | $\\forall k > 0 \\exists n_0 \\forall n > n_0 \\colon$  $|f(n)| > k\\cdot |g(n)|$ | $\\lim_{n \\to \\infty} \\frac{\\left|f(n)\\right|}{g(n)} = \\infty$ |\n",
        "| $f(n) = \\Omega(g(n))$ | Big Omega in number theory (Hardy-Littlewood) | $|f|$ is not dominated by $g$ asymptotically | $\\exists k>0 \\forall n_0 \\exists n > n_0\\colon |f(n)| \\geq k\\cdot g(n)$ | $\\limsup_{n \\to \\infty} \\frac{\\left|f(n)\\right|}{g(n)} > 0 $ |"
      ]
    },
    {
      "cell_type": "code",
      "metadata": {
        "id": "7zk5ijzSK58h",
        "colab": {
          "base_uri": "https://localhost:8080/",
          "height": 275
        },
        "outputId": "f7561ee8-3ca3-4e7f-b59c-32706d54666e"
      },
      "source": [
        "import matplotlib.pyplot as plt\n",
        "import numpy as np\n",
        "\n",
        "x = range(1, 100)\n",
        "funcs = [lambda x: x * np.log(x), lambda x: np.log(x), lambda x: x, lambda x: np.power(x,2), lambda x: np.power(x,3)]\n",
        "for f in funcs:\n",
        "  plt.plot(x, f(x))"
      ],
      "execution_count": null,
      "outputs": [
        {
          "output_type": "display_data",
          "data": {
            "image/png": "[encoded data removed]",
            "text/plain": [
              "<Figure size 432x288 with 1 Axes>"
            ]
          },
          "metadata": {
            "tags": [],
            "needs_background": "light"
          }
        }
      ]
    },
    {
      "cell_type": "markdown",
      "source": [
        "### Common misconceptions\n",
        "\n",
        "* complexity $O(N)=O(N-k)=O(N/k)$"
      ],
      "metadata": {
        "id": "chi4XvjxSFV9"
      }
    },
    {
      "cell_type": "markdown",
      "source": [
        "### Quiz\n",
        "\n",
        "Simplify\n",
        "\n",
        "* $O(n^2 + 2n + 3)$\n",
        "* $O(2^n + n^3 - 5)$\n",
        "* $O(n \\ln(n) + n^{100})$\n",
        "* $O(n^2 \\ln(n) + 100 n \\ln(n))$\n",
        "* $O(\\sqrt{n} + \\ln(n) + 2 n)$\n",
        "* $O(n/2 + 3)$\n",
        "* $O(2^{n - 30} + n^2)$\n",
        "\n",
        "Compare\n",
        "\n",
        "* $O(n)$ and $O(2n)$\n",
        "* $O((n + 5)^2)$ and $O(n^2/3)$"
      ],
      "metadata": {
        "id": "G6ZtmEQ7Y4X1"
      }
    },
    {
      "cell_type": "markdown",
      "source": [
        "|time complexity|algorithm|\n",
        "---|---\n",
        "|$O(2^n)$|binary tree traversal on depth|\n",
        "|$O(n^2)$| bubble sort of 1D array|\n",
        "|$O(n\\ln(n))$|merge sort, average for quicksort, heapsort, D&C|\n",
        "|$O(n)$|max in array, two pointers|\n",
        "|$O(\\ln(n))$|binary search|\n",
        "|$O(\\sqrt{n})$|number of divisors|\n",
        "|$O(1)$|closed-form formulas|\n",
        "|$O(nm)$|2D matrix traversal|\n",
        "|$O(v+e)$|bfs, dfs|"
      ],
      "metadata": {
        "id": "AMGf4Ik-aeMd"
      }
    },
    {
      "cell_type": "markdown",
      "source": [
        "## Fibonacci in $O(2^n)$, $O(n)$, and $O(\\ln(n))$"
      ],
      "metadata": {
        "id": "kKacVInAEFb9"
      }
    },
    {
      "cell_type": "code",
      "metadata": {
        "id": "zCHP4r1O95Kk",
        "colab": {
          "base_uri": "https://localhost:8080/"
        },
        "outputId": "40d8a99a-d5d7-41ca-a9e1-dc7905c29f9f"
      },
      "source": [
        "def fib_rec(N):\n",
        "  if N <= 1:\n",
        "    return 1\n",
        "  return fib_rec(N-1) + fib_rec(N-2)\n",
        "\n",
        "%timeit fib_rec(20)"
      ],
      "execution_count": null,
      "outputs": [
        {
          "output_type": "stream",
          "name": "stdout",
          "text": [
            "2.79 ms ± 81.9 µs per loop (mean ± std. dev. of 7 runs, 100 loops each)\n"
          ]
        }
      ]
    },
    {
      "cell_type": "code",
      "metadata": {
        "colab": {
          "base_uri": "https://localhost:8080/"
        },
        "id": "JWPfzX-9CcD8",
        "outputId": "53933349-db55-48c9-9259-a2460f26208e"
      },
      "source": [
        "def fib_iter(N):\n",
        "  a, b = 1, 1\n",
        "  for _ in range(N):\n",
        "    a, b = b, a+b\n",
        "  return a\n",
        "\n",
        "%timeit fib_iter(1000)"
      ],
      "execution_count": null,
      "outputs": [
        {
          "output_type": "stream",
          "name": "stdout",
          "text": [
            "217 µs ± 66.4 µs per loop (mean ± std. dev. of 7 runs, 1000 loops each)\n"
          ]
        }
      ]
    },
    {
      "cell_type": "code",
      "metadata": {
        "colab": {
          "base_uri": "https://localhost:8080/"
        },
        "id": "6kI7w5-UC1k6",
        "outputId": "26d07314-82b5-48ef-ddc2-1c0d9980ad08"
      },
      "source": [
        "import numpy as np\n",
        "\n",
        "def fib_matrix(N):\n",
        "  M = np.array([[1,1],[1,0]])\n",
        "  P = np.array([[1,0],[0,1]])\n",
        "  while N:\n",
        "    if 1 & N: P = np.dot(P,M);\n",
        "    N = N // 2\n",
        "    M = np.dot(M,M)\n",
        "  return np.dot(P, np.array([1, 1]))[1]\n",
        "\n",
        "\n",
        "%timeit fib_matrix(1000)"
      ],
      "execution_count": null,
      "outputs": [
        {
          "output_type": "stream",
          "name": "stdout",
          "text": [
            "32.2 µs ± 1.31 µs per loop (mean ± std. dev. of 7 runs, 10000 loops each)\n"
          ]
        }
      ]
    },
    {
      "cell_type": "code",
      "source": [
        "from timeit import timeit\n",
        "import numpy as np\n",
        "import matplotlib.pyplot as plt\n",
        "\n",
        "A = np.array(range(10))\n",
        "T = []\n",
        "for i in A:\n",
        "  T.append(timeit('fib_rec(i)', 'from __main__ import fib_rec, i'))\n",
        "T = np.array(T)\n",
        "plt.scatter(A, np.log2(T))\n",
        "plt.draw()\n",
        "plt.show()"
      ],
      "metadata": {
        "colab": {
          "base_uri": "https://localhost:8080/",
          "height": 433
        },
        "id": "HYMdSLSWGtWg",
        "outputId": "47e40048-2984-4cdc-f69b-f7349be99a9b"
      },
      "execution_count": null,
      "outputs": [
        {
          "output_type": "display_data",
          "data": {
            "text/plain": [
              "<Figure size 640x480 with 1 Axes>"
            ],
            "image/png": "[encoded data removed]"
          },
          "metadata": {}
        }
      ]
    },
    {
      "cell_type": "markdown",
      "source": [
        "## Quiz"
      ],
      "metadata": {
        "id": "igsNuC8XW324"
      }
    },
    {
      "cell_type": "code",
      "source": [
        "lst = list(range(100))\n",
        "\n",
        "for idx in range(len(lst)):\n",
        "  pass"
      ],
      "metadata": {
        "id": "eS6LJpO7CA8P"
      },
      "execution_count": null,
      "outputs": []
    },
    {
      "cell_type": "code",
      "source": [
        "lst = list(range(100))\n",
        "\n",
        "for idx in range(len(lst)):\n",
        "  pass\n",
        "\n",
        "for idx in range(len(lst)):\n",
        "  pass"
      ],
      "metadata": {
        "id": "JMIXWejUV3-p"
      },
      "execution_count": null,
      "outputs": []
    },
    {
      "cell_type": "code",
      "source": [
        "lst = list(range(100))\n",
        "\n",
        "for idx1 in range(len(lst)):\n",
        "  for idx2 in range(10):\n",
        "    ..."
      ],
      "metadata": {
        "id": "yvi8Z_ohV86c"
      },
      "execution_count": null,
      "outputs": []
    },
    {
      "cell_type": "code",
      "source": [
        "lst = list(range(100))\n",
        "\n",
        "for idx1 in range(len(lst)):\n",
        "  for idx2 in range(len(lst)):\n",
        "    ..."
      ],
      "metadata": {
        "id": "ZcHYQRcIWLJL"
      },
      "execution_count": null,
      "outputs": []
    },
    {
      "cell_type": "code",
      "source": [
        "lst = list(range(100))\n",
        "\n",
        "for idx1 in range(len(lst)):\n",
        "  for idx2 in range(idx1):\n",
        "    ..."
      ],
      "metadata": {
        "id": "lEDcBrzTWRUu"
      },
      "execution_count": null,
      "outputs": []
    },
    {
      "cell_type": "code",
      "source": [
        "lst = list(range(100))\n",
        "\n",
        "idx1, idx2 = 0, 0\n",
        "\n",
        "while idx1 < len(lst) and idx2 < len(lst):\n",
        "  if ...:\n",
        "    idx1 += 1\n",
        "  else:\n",
        "    idx2 += 1\n"
      ],
      "metadata": {
        "id": "HEj-i-3AWaq0"
      },
      "execution_count": null,
      "outputs": []
    },
    {
      "cell_type": "code",
      "source": [
        "lst = list(range(100))\n",
        "\n",
        "idx1, idx2 = 0, len(lst) - 1\n",
        "\n",
        "while idx1 < idx2:\n",
        "  if ...:\n",
        "    idx1 += 1\n",
        "  else:\n",
        "    idx2 -= 1\n"
      ],
      "metadata": {
        "id": "QAFD44MFWs4U"
      },
      "execution_count": null,
      "outputs": []
    },
    {
      "cell_type": "code",
      "source": [
        "def f(N):\n",
        "  if N == 0: return 0\n",
        "  f(N-1), f(N-1)"
      ],
      "metadata": {
        "id": "4M09Nu_iXHB4"
      },
      "execution_count": null,
      "outputs": []
    },
    {
      "cell_type": "code",
      "source": [
        "def f(N):\n",
        "  if N == 0: return 0\n",
        "  for i in range(N-1):\n",
        "    f(i)"
      ],
      "metadata": {
        "id": "67_gNcKvXUOs"
      },
      "execution_count": null,
      "outputs": []
    },
    {
      "cell_type": "code",
      "source": [
        "k = 15\n",
        "def f(N):\n",
        "  if N == 0: return 0\n",
        "  for i in range(k):\n",
        "    f(i)"
      ],
      "metadata": {
        "id": "vWjv-EcXXgcR"
      },
      "execution_count": null,
      "outputs": []
    },
    {
      "cell_type": "code",
      "source": [
        "def b(L, R):\n",
        "  if L == R: return ...\n",
        "  if ...:\n",
        "    b((L+R)/2,R)\n",
        "  else:\n",
        "    b(L, (L+R)/2)"
      ],
      "metadata": {
        "id": "knEhH6IhYGaU"
      },
      "execution_count": null,
      "outputs": []
    }
  ]
}