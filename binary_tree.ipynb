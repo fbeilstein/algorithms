{
  "nbformat": 4,
  "nbformat_minor": 0,
  "metadata": {
    "colab": {
      "name": "binary_tree.ipynb",
      "provenance": [],
      "authorship_tag": "ABX9TyOx+2nmKeZTNopYg8nG7YQK",
      "include_colab_link": true
    },
    "kernelspec": {
      "name": "python3",
      "display_name": "Python 3"
    },
    "language_info": {
      "name": "python"
    }
  },
  "cells": [
    {
      "cell_type": "markdown",
      "metadata": {
        "id": "view-in-github",
        "colab_type": "text"
      },
      "source": [
        "<a href=\"https://colab.research.google.com/github/fbeilstein/algorithms/blob/master/binary_tree.ipynb\" target=\"_parent\"><img src=\"https://colab.research.google.com/assets/colab-badge.svg\" alt=\"Open In Colab\"/></a>"
      ]
    },
    {
      "cell_type": "code",
      "metadata": {
        "id": "LCOi7dcn839i"
      },
      "source": [
        "# Definition for a binary tree node.\n",
        "# class TreeNode:\n",
        "#     def __init__(self, val=0, left=None, right=None):\n",
        "#         self.val = val\n",
        "#         self.left = left\n",
        "#         self.right = right\n",
        "class Solution:\n",
        "    def _diameter(self, root): # result first arg\n",
        "        left  = self._diameter(root.left)  if root.left  else (0, -1)\n",
        "        right = self._diameter(root.right) if root.right else (0, -1)\n",
        "        return max(left[0], right[0], left[1] + right[1] + 2), 1 + max(left[1], right[1])\n",
        "        \n",
        "    def diameterOfBinaryTree(self, root: Optional[TreeNode]) -> int:\n",
        "        return self._diameter(root)[0]"
      ],
      "execution_count": null,
      "outputs": []
    }
  ]
}